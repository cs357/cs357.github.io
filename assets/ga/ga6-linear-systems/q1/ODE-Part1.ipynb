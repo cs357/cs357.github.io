{
 "cells": [
  {
   "cell_type": "code",
   "execution_count": 3,
   "metadata": {},
   "outputs": [],
   "source": [
    "%matplotlib inline\n",
    "import matplotlib.pyplot as plt\n",
    "import numpy as np\n",
    "import numpy.linalg as la\n",
    "import scipy.linalg as sla\n",
    "from CA_4_support import *\n",
    "\n",
    "from matplotlib import animation,rc\n",
    "from IPython.display import HTML"
   ]
  },
  {
   "cell_type": "markdown",
   "metadata": {},
   "source": [
    "<div class=\"alert alert-info\">\n",
    "\n",
    "\n",
    "# 1) Motivation and goals of this activity\n",
    "\n",
    "## Harmonic Oscillators\n",
    "    \n",
    "    \n",
    "<img src=\"oscillator.png\" width=600>\n",
    "    \n",
    "    \n",
    "In your Physics class, you have learned about mass-spring systems. In the example above, a mass $m$ is connected to a spring $k$, which is attached to a fixed support (wall). When modeling the spring force using the Newton's law, and adding possible friction $c$ between the mass and the ground, the mass position $y$ as a function of time $t$ can be obtained from the solution of an ordinary differential equation (ODE) of the form: \n",
    "    \n",
    "\n",
    "$$m y''(t) + c y'(t) + k y(t) = 0$$\n",
    "    \n",
    "\n",
    "You can take other classes to learn how to solve this type of equation. \n",
    "You can take MATH 285 or MATH 441 to learn how to solve these equations analytically, or CS 450 and TAM 470 to learn how to solve them numerically. In this activity, we will just give you a brief overview on how we can transform ODEs and PDEs (Partial Differential Equations) into System of Linear Equations, so that you can solve them using your  knowledge from CS 357.\n",
    "    \n",
    "</div>\n"
   ]
  },
  {
   "cell_type": "markdown",
   "metadata": {},
   "source": [
    "# 2) Steady-State Advection Diffusion Equation\n",
    "\n",
    "For the remainder of this notebook, we will be solving ODEs and PDEs for the variable $u$ that varies with $x$. Consider the following ODE for $x$ in the interval $[-1,1]$:\n",
    "\n",
    "$$-u''(x) + u'(x) = f(x)$$\n",
    "\n",
    "We need two additional equations in order to find a unique solution. For this example, we assume we know the value for $u$ at the domain ends, which yields the following boundary conditions:\n",
    "\n",
    "$$u(-1) = u(1) = 0$$\n",
    "           \n",
    "Here, $f(x)$ is a known function and $u(x)$ is the unknown that we are trying to solve for."
   ]
  },
  {
   "cell_type": "markdown",
   "metadata": {},
   "source": [
    "# 3) Numerical Method to obtain the approximate solution $u(x)$ \n",
    "\n",
    "\n",
    "The **spectral element method (SEM)** is a way to solve these type of ODE numerically. \n",
    "\n",
    "In the simplest case, SEM approximates the solution $u(x)$ by a polynomial of degree $N$. A polynomial can be uniquely described by $P = N+1$ points on the interval $[-1,1]$ (interpolation is also covered in CS 450!).  So the SEM introduces a set of $N+1$ discrete points, splitting the domain into $N$ intervals, as indicated in the image below. \n",
    "\n",
    "$$-1 = x_0 < x_1 < x_2 < \\dots < x_{N-1} < x_N = 1$$\n",
    "\n",
    "\n",
    "<img src=\"discretization.png\" width=600>\n",
    "\n",
    "\n",
    "The goal is to find the approximate solution $u$ at each point $x_i$. Here, we represent the solution as the vector $\\mathbf{u} = [u_1,u_2,\\dots,u_{N-1}]^T$, where $u_i = u(x_i)$ for $i = 1,2,\\dots,N-1$.\n",
    "\n",
    "\n",
    "Note that we exclude the points $x_0=-1$ and $x_N = 1$ because we already know the value of $u_0$ and $u_N$ from the boundary conditions.\n",
    "\n",
    "To get the approximate solution ${\\bf u}$, we solve the system of linear equations \n",
    "\n",
    "\n",
    "$$\\mathbf{A}\\mathbf{u} = \\mathbf{b}$$\n",
    "\n",
    "For this activity, we will provide:\n",
    "\n",
    "- The matrix ${\\bf A}$ obtained using the SEM method, which depends on the ODE that you are trying to solve\n",
    "\n",
    "- The right-hand side ${\\bf b}$ that depends on the function $f(x)$.\n",
    "\n",
    "- The set of points ${\\bf x}$. Note that the points appear to be equally distributed, but that is not necessarily always the case. \n",
    "\n",
    "Later in CS 357 you will learn about Finite Difference Method, that can also be used to solve ODEs. "
   ]
  },
  {
   "cell_type": "markdown",
   "metadata": {},
   "source": [
    "# 4) Back to the Steady-State Advection Diffusion Example\n",
    "\n",
    "We want to solve the ODE for $x$ in the interval $[-1,1]$:\n",
    "\n",
    "$$-u''(x) + u'(x) = f(x)$$\n",
    "\n",
    "with boundary conditions:\n",
    "\n",
    "$$u(-1) = u(1) = 0$$"
   ]
  },
  {
   "cell_type": "markdown",
   "metadata": {},
   "source": [
    "**We provide the function**\n",
    "\n",
    "```python\n",
    "A,x =  SEM_system_1(N)\n",
    "```\n",
    "\n",
    "that takes the polynomial order $N$ as input (scalar), and returns the points $x_i$ in the interval $([-1,1]$ and the system matrix $\\mathbf{A}$. \n",
    "\n",
    "The returned 1d numpy array `x` has shape `(N+1,)`, since it includes the end points. The system matrix `A` is stored as a 2d numpy array with shape `(N-1,N-1)`, since it does not include information about the end points.\n",
    "\n",
    "**We provide the function**\n",
    "\n",
    "```python\n",
    "b = SEM_rhs_1(f,x)\n",
    "```\n",
    "\n",
    "that takes a function `f` and the 1d numpy array `x` and returns the right-hand side vector `b` as a 1d numpy array with shape `(N-1,)`"
   ]
  },
  {
   "cell_type": "markdown",
   "metadata": {},
   "source": [
    "**Check your answer:**\n",
    "\n",
    "Define the function $f$ with the signature:\n",
    "```python\n",
    "def f(x):\n",
    "    return value\n",
    "```\n",
    "\n",
    "that takes a position $x$ and evaluates $f(x) = 2(x-1)$."
   ]
  },
  {
   "cell_type": "code",
   "execution_count": 4,
   "metadata": {},
   "outputs": [],
   "source": [
    "#grade_clear\n",
    "def f(z):\n",
    "    return 2*(z-1)"
   ]
  },
  {
   "cell_type": "markdown",
   "metadata": {},
   "source": [
    "**Check your answer:**\n",
    "\n",
    "Use  `N = 30` to generate the arrays $\\mathbf{A}$, $\\mathbf{b}$, and $\\mathbf{x}$."
   ]
  },
  {
   "cell_type": "code",
   "execution_count": 5,
   "metadata": {},
   "outputs": [],
   "source": [
    "N = 30"
   ]
  },
  {
   "cell_type": "code",
   "execution_count": 6,
   "metadata": {},
   "outputs": [],
   "source": [
    "#grade_clear\n",
    "A,x = SEM_system_1(N)\n",
    "b = SEM_rhs_1(f,x)"
   ]
  },
  {
   "cell_type": "markdown",
   "metadata": {},
   "source": [
    "**Try this!**\n",
    "\n",
    "Check out the shapes of all 3 objects"
   ]
  },
  {
   "cell_type": "code",
   "execution_count": 7,
   "metadata": {},
   "outputs": [
    {
     "name": "stdout",
     "output_type": "stream",
     "text": [
      "(29, 29)\n",
      "(31,)\n",
      "(29,)\n"
     ]
    }
   ],
   "source": [
    "#clear\n",
    "print(A.shape)\n",
    "print(x.shape)\n",
    "print(b.shape)"
   ]
  },
  {
   "cell_type": "markdown",
   "metadata": {},
   "source": [
    "**Check your answers:**\n",
    "\n",
    "Use your known quantities $\\mathbf{A}$, $\\mathbf{b}$ to obtain your approximate solution $\\mathbf{u}$. \n",
    "\n",
    "Create the variable `u_approx1` with shape `(N+1,)`, which uses the solution $\\mathbf{u}$ and adds the boundary condition at the appropriate locations.\n"
   ]
  },
  {
   "cell_type": "code",
   "execution_count": 8,
   "metadata": {},
   "outputs": [],
   "source": [
    "#grade_clear\n",
    "u = la.solve(A,b)\n",
    "u_approx1 = np.append(np.append(0,u),0) # add boundary conditions back\n",
    "u_exact = x**2 - 1"
   ]
  },
  {
   "cell_type": "markdown",
   "metadata": {},
   "source": [
    "Plot your numerical approximation and the exact solution $u_e(x) = x^2 - 1$.  Do the two solutions match up?"
   ]
  },
  {
   "cell_type": "code",
   "execution_count": 9,
   "metadata": {},
   "outputs": [
    {
     "data": {
      "text/plain": [
       "[<matplotlib.lines.Line2D at 0x7febb5a51b80>]"
      ]
     },
     "execution_count": 9,
     "metadata": {},
     "output_type": "execute_result"
    },
    {
     "data": {
      "image/png": "[encoded data removed]",
      "text/plain": [
       "<Figure size 432x288 with 1 Axes>"
      ]
     },
     "metadata": {
      "needs_background": "light"
     },
     "output_type": "display_data"
    }
   ],
   "source": [
    "plt.plot(x,u_approx1,'o')\n",
    "plt.plot(x,u_exact,'r')"
   ]
  },
  {
   "cell_type": "markdown",
   "metadata": {},
   "source": [
    "Wrap the above solution in the function `solve_example_1(N)` so that you can plot the approximate solution versus the exact for varying values of N. Run your function using larger and smaller values. What do you notice?"
   ]
  },
  {
   "cell_type": "code",
   "execution_count": 12,
   "metadata": {},
   "outputs": [],
   "source": [
    "def solve_example_1(N):\n",
    "\n",
    "    # add code here\n",
    "    ua = ...\n",
    "    ue = ...\n",
    "    \n",
    "    #clear    \n",
    "    A,x = SEM_system_1(N)\n",
    "    b = SEM_rhs_1(f,x)\n",
    "    u = la.solve(A,b)\n",
    "    ua = np.append(np.append(0,u),0) # add boundary conditions back\n",
    "    ue = x**2 - 1\n",
    "    #clear\n",
    "    plt.plot(x,ua,'o')\n",
    "    plt.plot(x,ue,'r')\n",
    "    return"
   ]
  },
  {
   "cell_type": "code",
   "execution_count": 13,
   "metadata": {},
   "outputs": [
    {
     "data": {
      "image/png": "[encoded data removed]",
      "text/plain": [
       "<Figure size 432x288 with 1 Axes>"
      ]
     },
     "metadata": {
      "needs_background": "light"
     },
     "output_type": "display_data"
    }
   ],
   "source": [
    "solve_example_1(5)"
   ]
  },
  {
   "cell_type": "markdown",
   "metadata": {},
   "source": [
    "The solution will change for different right hand sides.  Experiment with different functions $f(x)$ and see what the solution looks like. For example, try the function:\n",
    "\n",
    "$$ f(x) = \\sin(1.5 \\pi x) $$\n",
    "\n",
    "**Note that since your ODE has not changed, your system matrix  $\\mathbf{A}$ is still the same! You only need to redefine the vector $\\mathbf{b}$ before you solve for $\\mathbf{u}$.** In fact, if you used LU for your solution above, you could even just re-use the factorization, and save on computational time!\n",
    "\n",
    "Hint: Check that you still have the same system matrix $\\mathbf{A}$ at the start of this notebook, defined for $N = 30$. Make sure you are not re-using some of the variables defined above that are checked for grade, for example, `b`. As good practice, you should always define new variable names.\n",
    "\n",
    "**Check your answers:**\n",
    "\n",
    "Create the variable `u_approx2` with shape `(N+1,)`, which uses the solution $\\mathbf{u}$ for the new function $f(x) = \\sin(1.5 \\pi x) $."
   ]
  },
  {
   "cell_type": "code",
   "execution_count": 14,
   "metadata": {},
   "outputs": [],
   "source": [
    "#grade_clear\n",
    "def f2(z):\n",
    "    return np.sin(1.5*np.pi*z)\n",
    "\n",
    "b2 = SEM_rhs_1(f2,x)\n",
    "\n",
    "u2 = la.solve(A,b2)\n",
    "u_approx2 = np.append(np.append(0,u2),0)"
   ]
  },
  {
   "cell_type": "code",
   "execution_count": 15,
   "metadata": {},
   "outputs": [
    {
     "data": {
      "text/plain": [
       "[<matplotlib.lines.Line2D at 0x7febb5d66ac0>]"
      ]
     },
     "execution_count": 15,
     "metadata": {},
     "output_type": "execute_result"
    },
    {
     "data": {
      "image/png": "[encoded data removed]",
      "text/plain": [
       "<Figure size 432x288 with 1 Axes>"
      ]
     },
     "metadata": {
      "needs_background": "light"
     },
     "output_type": "display_data"
    }
   ],
   "source": [
    "plt.plot(x,u_approx2,'-o')"
   ]
  },
  {
   "cell_type": "code",
   "execution_count": null,
   "metadata": {},
   "outputs": [],
   "source": []
  }
 ],
 "metadata": {
  "kernelspec": {
   "display_name": "Python 3",
   "language": "python",
   "name": "python3"
  },
  "language_info": {
   "codemirror_mode": {
    "name": "ipython",
    "version": 3
   },
   "file_extension": ".py",
   "mimetype": "text/x-python",
   "name": "python",
   "nbconvert_exporter": "python",
   "pygments_lexer": "ipython3",
   "version": "3.8.0"
  }
 },
 "nbformat": 4,
 "nbformat_minor": 4
}
