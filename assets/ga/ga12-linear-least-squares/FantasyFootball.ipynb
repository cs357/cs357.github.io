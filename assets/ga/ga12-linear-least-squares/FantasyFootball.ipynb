{
 "cells": [
  {
   "cell_type": "markdown",
   "metadata": {},
   "source": [
    "# A Least Squares Predictor for Fantasy Football\n",
    "\n",
    "In Fantasy Football, contestants choose from a pool of available (American) football players to build a team.  Contestants' teams score points depending on how their chosen players performed in real-life.  The more points scored, the better!\n",
    "\n",
    "There are literally hundreds of websites and blogs dedicated to predicting who will have a good game.  They use a variety of methodologies (including no methodology at all) to generate their predictions.  We will try to develop a predictor using Linear Least Squares that will answer the question: \"Should I pick this player?\""
   ]
  },
  {
   "cell_type": "markdown",
   "metadata": {},
   "source": [
    "We'll import our standard packages, along with `pandas`, which is a `python` data analysis library."
   ]
  },
  {
   "cell_type": "code",
   "execution_count": 1,
   "metadata": {},
   "outputs": [],
   "source": [
    "import numpy as np\n",
    "import numpy.linalg as la\n",
    "import pandas as pd"
   ]
  },
  {
   "cell_type": "markdown",
   "metadata": {},
   "source": [
    "There are two data sets, `FF-data-2018.csv` and `FF-data-2019.csv` that were collected using scoring from the Yahoo Fantasy Football platform.  The 2018 data was collected from [here](http://rotoguru1.com/cgi-bin/fyday.pl?week=16&year=2018&game=yh&scsv=1).  You can choose other years going back to 2011 from a variety of platforms.\n",
    "\n",
    "Let's read in the data and see what it looks like."
   ]
  },
  {
   "cell_type": "code",
   "execution_count": 2,
   "metadata": {},
   "outputs": [
    {
     "data": {
      "text/html": [
       "<div>\n",
       "<style scoped>\n",
       "    .dataframe tbody tr th:only-of-type {\n",
       "        vertical-align: middle;\n",
       "    }\n",
       "\n",
       "    .dataframe tbody tr th {\n",
       "        vertical-align: top;\n",
       "    }\n",
       "\n",
       "    .dataframe thead th {\n",
       "        text-align: right;\n",
       "    }\n",
       "</style>\n",
       "<table border=\"1\" class=\"dataframe\">\n",
       "  <thead>\n",
       "    <tr style=\"text-align: right;\">\n",
       "      <th></th>\n",
       "      <th>Week</th>\n",
       "      <th>Year</th>\n",
       "      <th>GID</th>\n",
       "      <th>Name</th>\n",
       "      <th>Pos</th>\n",
       "      <th>Team</th>\n",
       "      <th>h/a</th>\n",
       "      <th>Oppt</th>\n",
       "      <th>YH points</th>\n",
       "      <th>YH salary</th>\n",
       "    </tr>\n",
       "  </thead>\n",
       "  <tbody>\n",
       "    <tr>\n",
       "      <th>0</th>\n",
       "      <td>1</td>\n",
       "      <td>2018</td>\n",
       "      <td>1242</td>\n",
       "      <td>Fitzpatrick; Ryan</td>\n",
       "      <td>QB</td>\n",
       "      <td>tam</td>\n",
       "      <td>a</td>\n",
       "      <td>nor</td>\n",
       "      <td>42.28</td>\n",
       "      <td>25.0</td>\n",
       "    </tr>\n",
       "    <tr>\n",
       "      <th>1</th>\n",
       "      <td>1</td>\n",
       "      <td>2018</td>\n",
       "      <td>1151</td>\n",
       "      <td>Brees; Drew</td>\n",
       "      <td>QB</td>\n",
       "      <td>nor</td>\n",
       "      <td>h</td>\n",
       "      <td>tam</td>\n",
       "      <td>31.56</td>\n",
       "      <td>33.0</td>\n",
       "    </tr>\n",
       "    <tr>\n",
       "      <th>2</th>\n",
       "      <td>1</td>\n",
       "      <td>2018</td>\n",
       "      <td>1231</td>\n",
       "      <td>Rivers; Philip</td>\n",
       "      <td>QB</td>\n",
       "      <td>lac</td>\n",
       "      <td>h</td>\n",
       "      <td>kan</td>\n",
       "      <td>29.96</td>\n",
       "      <td>31.0</td>\n",
       "    </tr>\n",
       "    <tr>\n",
       "      <th>3</th>\n",
       "      <td>1</td>\n",
       "      <td>2018</td>\n",
       "      <td>1523</td>\n",
       "      <td>Mahomes II; Patrick</td>\n",
       "      <td>QB</td>\n",
       "      <td>kan</td>\n",
       "      <td>a</td>\n",
       "      <td>lac</td>\n",
       "      <td>28.34</td>\n",
       "      <td>27.0</td>\n",
       "    </tr>\n",
       "    <tr>\n",
       "      <th>4</th>\n",
       "      <td>1</td>\n",
       "      <td>2018</td>\n",
       "      <td>1252</td>\n",
       "      <td>Rodgers; Aaron</td>\n",
       "      <td>QB</td>\n",
       "      <td>gnb</td>\n",
       "      <td>h</td>\n",
       "      <td>chi</td>\n",
       "      <td>24.94</td>\n",
       "      <td>39.0</td>\n",
       "    </tr>\n",
       "    <tr>\n",
       "      <th>...</th>\n",
       "      <td>...</td>\n",
       "      <td>...</td>\n",
       "      <td>...</td>\n",
       "      <td>...</td>\n",
       "      <td>...</td>\n",
       "      <td>...</td>\n",
       "      <td>...</td>\n",
       "      <td>...</td>\n",
       "      <td>...</td>\n",
       "      <td>...</td>\n",
       "    </tr>\n",
       "    <tr>\n",
       "      <th>6350</th>\n",
       "      <td>16</td>\n",
       "      <td>2018</td>\n",
       "      <td>7013</td>\n",
       "      <td>Indianapolis</td>\n",
       "      <td>Def</td>\n",
       "      <td>ind</td>\n",
       "      <td>h</td>\n",
       "      <td>nyg</td>\n",
       "      <td>2.00</td>\n",
       "      <td>13.0</td>\n",
       "    </tr>\n",
       "    <tr>\n",
       "      <th>6351</th>\n",
       "      <td>16</td>\n",
       "      <td>2018</td>\n",
       "      <td>7010</td>\n",
       "      <td>Denver</td>\n",
       "      <td>Def</td>\n",
       "      <td>den</td>\n",
       "      <td>a</td>\n",
       "      <td>oak</td>\n",
       "      <td>1.00</td>\n",
       "      <td>16.0</td>\n",
       "    </tr>\n",
       "    <tr>\n",
       "      <th>6352</th>\n",
       "      <td>16</td>\n",
       "      <td>2018</td>\n",
       "      <td>7029</td>\n",
       "      <td>Tampa Bay</td>\n",
       "      <td>Def</td>\n",
       "      <td>tam</td>\n",
       "      <td>a</td>\n",
       "      <td>dal</td>\n",
       "      <td>1.00</td>\n",
       "      <td>10.0</td>\n",
       "    </tr>\n",
       "    <tr>\n",
       "      <th>6353</th>\n",
       "      <td>16</td>\n",
       "      <td>2018</td>\n",
       "      <td>7015</td>\n",
       "      <td>Kansas City</td>\n",
       "      <td>Def</td>\n",
       "      <td>kan</td>\n",
       "      <td>a</td>\n",
       "      <td>sea</td>\n",
       "      <td>-1.00</td>\n",
       "      <td>13.0</td>\n",
       "    </tr>\n",
       "    <tr>\n",
       "      <th>6354</th>\n",
       "      <td>16</td>\n",
       "      <td>2018</td>\n",
       "      <td>7012</td>\n",
       "      <td>Green Bay</td>\n",
       "      <td>Def</td>\n",
       "      <td>gnb</td>\n",
       "      <td>a</td>\n",
       "      <td>nyj</td>\n",
       "      <td>-2.00</td>\n",
       "      <td>15.0</td>\n",
       "    </tr>\n",
       "  </tbody>\n",
       "</table>\n",
       "<p>6355 rows × 10 columns</p>\n",
       "</div>"
      ],
      "text/plain": [
       "      Week  Year   GID                 Name  Pos Team h/a Oppt  YH points  \\\n",
       "0        1  2018  1242    Fitzpatrick; Ryan   QB  tam   a  nor      42.28   \n",
       "1        1  2018  1151          Brees; Drew   QB  nor   h  tam      31.56   \n",
       "2        1  2018  1231       Rivers; Philip   QB  lac   h  kan      29.96   \n",
       "3        1  2018  1523  Mahomes II; Patrick   QB  kan   a  lac      28.34   \n",
       "4        1  2018  1252       Rodgers; Aaron   QB  gnb   h  chi      24.94   \n",
       "...    ...   ...   ...                  ...  ...  ...  ..  ...        ...   \n",
       "6350    16  2018  7013         Indianapolis  Def  ind   h  nyg       2.00   \n",
       "6351    16  2018  7010               Denver  Def  den   a  oak       1.00   \n",
       "6352    16  2018  7029            Tampa Bay  Def  tam   a  dal       1.00   \n",
       "6353    16  2018  7015          Kansas City  Def  kan   a  sea      -1.00   \n",
       "6354    16  2018  7012            Green Bay  Def  gnb   a  nyj      -2.00   \n",
       "\n",
       "      YH salary  \n",
       "0          25.0  \n",
       "1          33.0  \n",
       "2          31.0  \n",
       "3          27.0  \n",
       "4          39.0  \n",
       "...         ...  \n",
       "6350       13.0  \n",
       "6351       16.0  \n",
       "6352       10.0  \n",
       "6353       13.0  \n",
       "6354       15.0  \n",
       "\n",
       "[6355 rows x 10 columns]"
      ]
     },
     "execution_count": 2,
     "metadata": {},
     "output_type": "execute_result"
    }
   ],
   "source": [
    "ff_2018 = pd.read_csv('FF-data-2018.csv')\n",
    "ff_2018"
   ]
  },
  {
   "cell_type": "markdown",
   "metadata": {},
   "source": [
    "There are 6,355 data points which have a number of fields.  They are:\n",
    "- **Week**: The NFL season features 17 weeks of games, and each team plays 16 games in this time period.  This column tells you which week the player's game was.  I didn't include week 17, because many of the best players take that week off.\n",
    "\n",
    "\n",
    "- **Year**: Which year the game was played.  For this data set, all the year values are equal to 2018.\n",
    "\n",
    "\n",
    "- **GID**: A unique ID tag for each player.  We'll ignore this column.\n",
    "\n",
    "\n",
    "- **Name**: The actual name of the player.  In the case of defenses, the defense of the entire team is included, so in that case, this is the name of a city.\n",
    "\n",
    "\n",
    "- **Pos**: This is the position of the player.  The available choices are quarterback (QB), running back (RB), wide receiver (WR), tight end (TE), and defense (Def).\n",
    "\n",
    "\n",
    "- **Team**: An abbreviation that indicates which team the player belongs to.  Ryan Fitzpatrick was a member of the Tampa Bay Buccaneers, so his Team value is \"tam\".\n",
    "\n",
    "\n",
    "- **h/a**: Whether the player's game was played at home or on the road.  The possible values are 'h' (home) and 'a' (away).\n",
    "\n",
    "\n",
    "- **Oppt**: The opposing team that the player faced.  Ryan Fitzpatrick played against the New Orleans Saints in week 1, so his Oppt value is \"nor\".\n",
    "\n",
    "\n",
    "- **YH points**: The amount of points the player scored that week.  Ryan Fitzpatrick scored a whopping 42.28 points in week 1.\n",
    "\n",
    "\n",
    "- **YH salary**: On many Fantasy Football sites, you start with a certain budget, and select a team of players within the constraints of that budget.  Ryan Fitzpatrick only took 25.0 \"dollars\" of your available budget if you selected him on your team.  It gives an indication of how the platform judges the quality of a player."
   ]
  },
  {
   "cell_type": "markdown",
   "metadata": {},
   "source": [
    "We can access the labels and put them in a list:"
   ]
  },
  {
   "cell_type": "code",
   "execution_count": 3,
   "metadata": {},
   "outputs": [
    {
     "name": "stdout",
     "output_type": "stream",
     "text": [
      "['Week', 'Year', 'GID', 'Name', 'Pos', 'Team', 'h/a', 'Oppt', 'YH points', 'YH salary']\n"
     ]
    }
   ],
   "source": [
    "labels = list(ff_2018.columns)\n",
    "print(labels)"
   ]
  },
  {
   "cell_type": "markdown",
   "metadata": {},
   "source": [
    "We can print out the available values of the positions for the data set by passing the key `Pos` as a string to the data set."
   ]
  },
  {
   "cell_type": "code",
   "execution_count": 4,
   "metadata": {},
   "outputs": [
    {
     "name": "stdout",
     "output_type": "stream",
     "text": [
      "['QB' 'QB' 'QB' ... 'Def' 'Def' 'Def']\n"
     ]
    }
   ],
   "source": [
    "print(ff_2018['Pos'].values)"
   ]
  },
  {
   "cell_type": "markdown",
   "metadata": {},
   "source": [
    "To remove all the duplicates, we can call the function `numpy.unique` to access all distinct values (just like every other time you use a new function, review the documentation of `numpy.unique`. You can do so by running a cell with the following command: `np.unique?`).\n",
    "\n",
    "**Check your answer:**\n",
    "\n",
    "Create the variable `positions` to store the unique players positions existing in the column `Pos` of the dataframe:"
   ]
  },
  {
   "cell_type": "code",
   "execution_count": 5,
   "metadata": {},
   "outputs": [
    {
     "name": "stdout",
     "output_type": "stream",
     "text": [
      "['Def' 'QB' 'RB' 'TE' 'WR']\n",
      "<class 'numpy.ndarray'>\n",
      "(5,)\n",
      "<class 'str'>\n"
     ]
    }
   ],
   "source": [
    "#grade_clear\n",
    "positions = np.unique(ff_2018['Pos'])\n",
    "print(positions)\n",
    "print(type(positions))\n",
    "print(positions.shape)\n",
    "print(type(positions[0]))"
   ]
  },
  {
   "cell_type": "markdown",
   "metadata": {},
   "source": [
    "Since the positions in football are so different, we really want to focus on one at a time.  It would be very ambitious to try and create a general predictor for all positions.  Let's focus on quarterbacks first.  "
   ]
  },
  {
   "cell_type": "markdown",
   "metadata": {},
   "source": [
    "**Check your answer:**\n",
    "\n",
    "Extract all the data for quarterbacks, by finding the rows in the dataframe that has position equal to  `QB`. Create a **copy** of this smaller dataframe as a new dataset named `df_POS`."
   ]
  },
  {
   "cell_type": "code",
   "execution_count": 8,
   "metadata": {},
   "outputs": [],
   "source": [
    "POS = 'QB'"
   ]
  },
  {
   "cell_type": "code",
   "execution_count": 9,
   "metadata": {},
   "outputs": [
    {
     "data": {
      "text/html": [
       "<div>\n",
       "<style scoped>\n",
       "    .dataframe tbody tr th:only-of-type {\n",
       "        vertical-align: middle;\n",
       "    }\n",
       "\n",
       "    .dataframe tbody tr th {\n",
       "        vertical-align: top;\n",
       "    }\n",
       "\n",
       "    .dataframe thead th {\n",
       "        text-align: right;\n",
       "    }\n",
       "</style>\n",
       "<table border=\"1\" class=\"dataframe\">\n",
       "  <thead>\n",
       "    <tr style=\"text-align: right;\">\n",
       "      <th></th>\n",
       "      <th>Week</th>\n",
       "      <th>Year</th>\n",
       "      <th>GID</th>\n",
       "      <th>Name</th>\n",
       "      <th>Pos</th>\n",
       "      <th>Team</th>\n",
       "      <th>h/a</th>\n",
       "      <th>Oppt</th>\n",
       "      <th>YH points</th>\n",
       "      <th>YH salary</th>\n",
       "    </tr>\n",
       "  </thead>\n",
       "  <tbody>\n",
       "    <tr>\n",
       "      <th>0</th>\n",
       "      <td>1</td>\n",
       "      <td>2018</td>\n",
       "      <td>1242</td>\n",
       "      <td>Fitzpatrick; Ryan</td>\n",
       "      <td>QB</td>\n",
       "      <td>tam</td>\n",
       "      <td>a</td>\n",
       "      <td>nor</td>\n",
       "      <td>42.28</td>\n",
       "      <td>25.0</td>\n",
       "    </tr>\n",
       "    <tr>\n",
       "      <th>1</th>\n",
       "      <td>1</td>\n",
       "      <td>2018</td>\n",
       "      <td>1151</td>\n",
       "      <td>Brees; Drew</td>\n",
       "      <td>QB</td>\n",
       "      <td>nor</td>\n",
       "      <td>h</td>\n",
       "      <td>tam</td>\n",
       "      <td>31.56</td>\n",
       "      <td>33.0</td>\n",
       "    </tr>\n",
       "    <tr>\n",
       "      <th>2</th>\n",
       "      <td>1</td>\n",
       "      <td>2018</td>\n",
       "      <td>1231</td>\n",
       "      <td>Rivers; Philip</td>\n",
       "      <td>QB</td>\n",
       "      <td>lac</td>\n",
       "      <td>h</td>\n",
       "      <td>kan</td>\n",
       "      <td>29.96</td>\n",
       "      <td>31.0</td>\n",
       "    </tr>\n",
       "    <tr>\n",
       "      <th>3</th>\n",
       "      <td>1</td>\n",
       "      <td>2018</td>\n",
       "      <td>1523</td>\n",
       "      <td>Mahomes II; Patrick</td>\n",
       "      <td>QB</td>\n",
       "      <td>kan</td>\n",
       "      <td>a</td>\n",
       "      <td>lac</td>\n",
       "      <td>28.34</td>\n",
       "      <td>27.0</td>\n",
       "    </tr>\n",
       "    <tr>\n",
       "      <th>4</th>\n",
       "      <td>1</td>\n",
       "      <td>2018</td>\n",
       "      <td>1252</td>\n",
       "      <td>Rodgers; Aaron</td>\n",
       "      <td>QB</td>\n",
       "      <td>gnb</td>\n",
       "      <td>h</td>\n",
       "      <td>chi</td>\n",
       "      <td>24.94</td>\n",
       "      <td>39.0</td>\n",
       "    </tr>\n",
       "    <tr>\n",
       "      <th>...</th>\n",
       "      <td>...</td>\n",
       "      <td>...</td>\n",
       "      <td>...</td>\n",
       "      <td>...</td>\n",
       "      <td>...</td>\n",
       "      <td>...</td>\n",
       "      <td>...</td>\n",
       "      <td>...</td>\n",
       "      <td>...</td>\n",
       "      <td>...</td>\n",
       "    </tr>\n",
       "    <tr>\n",
       "      <th>5968</th>\n",
       "      <td>16</td>\n",
       "      <td>2018</td>\n",
       "      <td>1536</td>\n",
       "      <td>Allen; Kyle</td>\n",
       "      <td>QB</td>\n",
       "      <td>car</td>\n",
       "      <td>h</td>\n",
       "      <td>atl</td>\n",
       "      <td>1.52</td>\n",
       "      <td>0.0</td>\n",
       "    </tr>\n",
       "    <tr>\n",
       "      <th>5969</th>\n",
       "      <td>16</td>\n",
       "      <td>2018</td>\n",
       "      <td>1507</td>\n",
       "      <td>Sudfeld; Nate</td>\n",
       "      <td>QB</td>\n",
       "      <td>phi</td>\n",
       "      <td>h</td>\n",
       "      <td>hou</td>\n",
       "      <td>0.00</td>\n",
       "      <td>20.0</td>\n",
       "    </tr>\n",
       "    <tr>\n",
       "      <th>5970</th>\n",
       "      <td>16</td>\n",
       "      <td>2018</td>\n",
       "      <td>1484</td>\n",
       "      <td>Mannion; Sean</td>\n",
       "      <td>QB</td>\n",
       "      <td>lar</td>\n",
       "      <td>a</td>\n",
       "      <td>ari</td>\n",
       "      <td>-0.20</td>\n",
       "      <td>20.0</td>\n",
       "    </tr>\n",
       "    <tr>\n",
       "      <th>5971</th>\n",
       "      <td>16</td>\n",
       "      <td>2018</td>\n",
       "      <td>1336</td>\n",
       "      <td>Hoyer; Brian</td>\n",
       "      <td>QB</td>\n",
       "      <td>nwe</td>\n",
       "      <td>h</td>\n",
       "      <td>buf</td>\n",
       "      <td>-0.20</td>\n",
       "      <td>20.0</td>\n",
       "    </tr>\n",
       "    <tr>\n",
       "      <th>5972</th>\n",
       "      <td>16</td>\n",
       "      <td>2018</td>\n",
       "      <td>1530</td>\n",
       "      <td>Hill; Taysom</td>\n",
       "      <td>QB</td>\n",
       "      <td>nor</td>\n",
       "      <td>h</td>\n",
       "      <td>pit</td>\n",
       "      <td>-1.00</td>\n",
       "      <td>20.0</td>\n",
       "    </tr>\n",
       "  </tbody>\n",
       "</table>\n",
       "<p>586 rows × 10 columns</p>\n",
       "</div>"
      ],
      "text/plain": [
       "      Week  Year   GID                 Name Pos Team h/a Oppt  YH points  \\\n",
       "0        1  2018  1242    Fitzpatrick; Ryan  QB  tam   a  nor      42.28   \n",
       "1        1  2018  1151          Brees; Drew  QB  nor   h  tam      31.56   \n",
       "2        1  2018  1231       Rivers; Philip  QB  lac   h  kan      29.96   \n",
       "3        1  2018  1523  Mahomes II; Patrick  QB  kan   a  lac      28.34   \n",
       "4        1  2018  1252       Rodgers; Aaron  QB  gnb   h  chi      24.94   \n",
       "...    ...   ...   ...                  ...  ..  ...  ..  ...        ...   \n",
       "5968    16  2018  1536          Allen; Kyle  QB  car   h  atl       1.52   \n",
       "5969    16  2018  1507        Sudfeld; Nate  QB  phi   h  hou       0.00   \n",
       "5970    16  2018  1484        Mannion; Sean  QB  lar   a  ari      -0.20   \n",
       "5971    16  2018  1336         Hoyer; Brian  QB  nwe   h  buf      -0.20   \n",
       "5972    16  2018  1530         Hill; Taysom  QB  nor   h  pit      -1.00   \n",
       "\n",
       "      YH salary  \n",
       "0          25.0  \n",
       "1          33.0  \n",
       "2          31.0  \n",
       "3          27.0  \n",
       "4          39.0  \n",
       "...         ...  \n",
       "5968        0.0  \n",
       "5969       20.0  \n",
       "5970       20.0  \n",
       "5971       20.0  \n",
       "5972       20.0  \n",
       "\n",
       "[586 rows x 10 columns]"
      ]
     },
     "execution_count": 9,
     "metadata": {},
     "output_type": "execute_result"
    }
   ],
   "source": [
    "#grade_clear\n",
    "df_POS = ff_2018[ff_2018['Pos'] == POS].copy()\n",
    "df_POS"
   ]
  },
  {
   "cell_type": "markdown",
   "metadata": {},
   "source": [
    "We can access the names of all the quarterbacks by referring to the columns `Name`"
   ]
  },
  {
   "cell_type": "code",
   "execution_count": 10,
   "metadata": {},
   "outputs": [
    {
     "data": {
      "text/plain": [
       "0         Fitzpatrick; Ryan\n",
       "1               Brees; Drew\n",
       "2            Rivers; Philip\n",
       "3       Mahomes II; Patrick\n",
       "4            Rodgers; Aaron\n",
       "               ...         \n",
       "5968            Allen; Kyle\n",
       "5969          Sudfeld; Nate\n",
       "5970          Mannion; Sean\n",
       "5971           Hoyer; Brian\n",
       "5972           Hill; Taysom\n",
       "Name: Name, Length: 586, dtype: object"
      ]
     },
     "execution_count": 10,
     "metadata": {},
     "output_type": "execute_result"
    }
   ],
   "source": [
    "df_POS['Name']"
   ]
  },
  {
   "cell_type": "markdown",
   "metadata": {},
   "source": [
    "Linear Least Squares works with numerical data, not strings.  Eventually, we will want our predictive models to incorporate whether the player played at home or on the road, or how good their opponent was.  But the columns `h/a` and `Oppt` are strings:"
   ]
  },
  {
   "cell_type": "code",
   "execution_count": 11,
   "metadata": {},
   "outputs": [
    {
     "data": {
      "text/plain": [
       "0       a\n",
       "1       h\n",
       "2       h\n",
       "3       a\n",
       "4       h\n",
       "       ..\n",
       "5968    h\n",
       "5969    h\n",
       "5970    a\n",
       "5971    h\n",
       "5972    h\n",
       "Name: h/a, Length: 586, dtype: object"
      ]
     },
     "execution_count": 11,
     "metadata": {},
     "output_type": "execute_result"
    }
   ],
   "source": [
    "df_POS['h/a']"
   ]
  },
  {
   "cell_type": "code",
   "execution_count": 12,
   "metadata": {},
   "outputs": [
    {
     "data": {
      "text/plain": [
       "0       nor\n",
       "1       tam\n",
       "2       kan\n",
       "3       lac\n",
       "4       chi\n",
       "       ... \n",
       "5968    atl\n",
       "5969    hou\n",
       "5970    ari\n",
       "5971    buf\n",
       "5972    pit\n",
       "Name: Oppt, Length: 586, dtype: object"
      ]
     },
     "execution_count": 12,
     "metadata": {},
     "output_type": "execute_result"
    }
   ],
   "source": [
    "df_POS['Oppt']"
   ]
  },
  {
   "cell_type": "markdown",
   "metadata": {},
   "source": [
    "At this point, we need to make decisions about what numerical values these should take.  \n",
    "\n",
    "For the home/away column, let's make an array with the value +1.0 when the game is played at home, and -1.0 when the game is played away.\n",
    "\n",
    "**Check your answer:** \n",
    "\n",
    "You can use the function `np.where` (https://numpy.org/doc/stable/reference/generated/numpy.where.html) to accomplish that:\n",
    "```python\n",
    "np.where(df_POS['h/a']=='a',-1,1)\n",
    "```\n",
    "\n",
    "\n",
    "\n",
    "Store this numerical array as another column in the pandas dataframe `df_POS`, with label `home_away`"
   ]
  },
  {
   "cell_type": "code",
   "execution_count": 13,
   "metadata": {},
   "outputs": [
    {
     "data": {
      "text/html": [
       "<div>\n",
       "<style scoped>\n",
       "    .dataframe tbody tr th:only-of-type {\n",
       "        vertical-align: middle;\n",
       "    }\n",
       "\n",
       "    .dataframe tbody tr th {\n",
       "        vertical-align: top;\n",
       "    }\n",
       "\n",
       "    .dataframe thead th {\n",
       "        text-align: right;\n",
       "    }\n",
       "</style>\n",
       "<table border=\"1\" class=\"dataframe\">\n",
       "  <thead>\n",
       "    <tr style=\"text-align: right;\">\n",
       "      <th></th>\n",
       "      <th>Week</th>\n",
       "      <th>Year</th>\n",
       "      <th>GID</th>\n",
       "      <th>Name</th>\n",
       "      <th>Pos</th>\n",
       "      <th>Team</th>\n",
       "      <th>h/a</th>\n",
       "      <th>Oppt</th>\n",
       "      <th>YH points</th>\n",
       "      <th>YH salary</th>\n",
       "      <th>home_away</th>\n",
       "    </tr>\n",
       "  </thead>\n",
       "  <tbody>\n",
       "    <tr>\n",
       "      <th>0</th>\n",
       "      <td>1</td>\n",
       "      <td>2018</td>\n",
       "      <td>1242</td>\n",
       "      <td>Fitzpatrick; Ryan</td>\n",
       "      <td>QB</td>\n",
       "      <td>tam</td>\n",
       "      <td>a</td>\n",
       "      <td>nor</td>\n",
       "      <td>42.28</td>\n",
       "      <td>25.0</td>\n",
       "      <td>-1</td>\n",
       "    </tr>\n",
       "    <tr>\n",
       "      <th>1</th>\n",
       "      <td>1</td>\n",
       "      <td>2018</td>\n",
       "      <td>1151</td>\n",
       "      <td>Brees; Drew</td>\n",
       "      <td>QB</td>\n",
       "      <td>nor</td>\n",
       "      <td>h</td>\n",
       "      <td>tam</td>\n",
       "      <td>31.56</td>\n",
       "      <td>33.0</td>\n",
       "      <td>1</td>\n",
       "    </tr>\n",
       "    <tr>\n",
       "      <th>2</th>\n",
       "      <td>1</td>\n",
       "      <td>2018</td>\n",
       "      <td>1231</td>\n",
       "      <td>Rivers; Philip</td>\n",
       "      <td>QB</td>\n",
       "      <td>lac</td>\n",
       "      <td>h</td>\n",
       "      <td>kan</td>\n",
       "      <td>29.96</td>\n",
       "      <td>31.0</td>\n",
       "      <td>1</td>\n",
       "    </tr>\n",
       "    <tr>\n",
       "      <th>3</th>\n",
       "      <td>1</td>\n",
       "      <td>2018</td>\n",
       "      <td>1523</td>\n",
       "      <td>Mahomes II; Patrick</td>\n",
       "      <td>QB</td>\n",
       "      <td>kan</td>\n",
       "      <td>a</td>\n",
       "      <td>lac</td>\n",
       "      <td>28.34</td>\n",
       "      <td>27.0</td>\n",
       "      <td>-1</td>\n",
       "    </tr>\n",
       "    <tr>\n",
       "      <th>4</th>\n",
       "      <td>1</td>\n",
       "      <td>2018</td>\n",
       "      <td>1252</td>\n",
       "      <td>Rodgers; Aaron</td>\n",
       "      <td>QB</td>\n",
       "      <td>gnb</td>\n",
       "      <td>h</td>\n",
       "      <td>chi</td>\n",
       "      <td>24.94</td>\n",
       "      <td>39.0</td>\n",
       "      <td>1</td>\n",
       "    </tr>\n",
       "    <tr>\n",
       "      <th>...</th>\n",
       "      <td>...</td>\n",
       "      <td>...</td>\n",
       "      <td>...</td>\n",
       "      <td>...</td>\n",
       "      <td>...</td>\n",
       "      <td>...</td>\n",
       "      <td>...</td>\n",
       "      <td>...</td>\n",
       "      <td>...</td>\n",
       "      <td>...</td>\n",
       "      <td>...</td>\n",
       "    </tr>\n",
       "    <tr>\n",
       "      <th>5968</th>\n",
       "      <td>16</td>\n",
       "      <td>2018</td>\n",
       "      <td>1536</td>\n",
       "      <td>Allen; Kyle</td>\n",
       "      <td>QB</td>\n",
       "      <td>car</td>\n",
       "      <td>h</td>\n",
       "      <td>atl</td>\n",
       "      <td>1.52</td>\n",
       "      <td>0.0</td>\n",
       "      <td>1</td>\n",
       "    </tr>\n",
       "    <tr>\n",
       "      <th>5969</th>\n",
       "      <td>16</td>\n",
       "      <td>2018</td>\n",
       "      <td>1507</td>\n",
       "      <td>Sudfeld; Nate</td>\n",
       "      <td>QB</td>\n",
       "      <td>phi</td>\n",
       "      <td>h</td>\n",
       "      <td>hou</td>\n",
       "      <td>0.00</td>\n",
       "      <td>20.0</td>\n",
       "      <td>1</td>\n",
       "    </tr>\n",
       "    <tr>\n",
       "      <th>5970</th>\n",
       "      <td>16</td>\n",
       "      <td>2018</td>\n",
       "      <td>1484</td>\n",
       "      <td>Mannion; Sean</td>\n",
       "      <td>QB</td>\n",
       "      <td>lar</td>\n",
       "      <td>a</td>\n",
       "      <td>ari</td>\n",
       "      <td>-0.20</td>\n",
       "      <td>20.0</td>\n",
       "      <td>-1</td>\n",
       "    </tr>\n",
       "    <tr>\n",
       "      <th>5971</th>\n",
       "      <td>16</td>\n",
       "      <td>2018</td>\n",
       "      <td>1336</td>\n",
       "      <td>Hoyer; Brian</td>\n",
       "      <td>QB</td>\n",
       "      <td>nwe</td>\n",
       "      <td>h</td>\n",
       "      <td>buf</td>\n",
       "      <td>-0.20</td>\n",
       "      <td>20.0</td>\n",
       "      <td>1</td>\n",
       "    </tr>\n",
       "    <tr>\n",
       "      <th>5972</th>\n",
       "      <td>16</td>\n",
       "      <td>2018</td>\n",
       "      <td>1530</td>\n",
       "      <td>Hill; Taysom</td>\n",
       "      <td>QB</td>\n",
       "      <td>nor</td>\n",
       "      <td>h</td>\n",
       "      <td>pit</td>\n",
       "      <td>-1.00</td>\n",
       "      <td>20.0</td>\n",
       "      <td>1</td>\n",
       "    </tr>\n",
       "  </tbody>\n",
       "</table>\n",
       "<p>586 rows × 11 columns</p>\n",
       "</div>"
      ],
      "text/plain": [
       "      Week  Year   GID                 Name Pos Team h/a Oppt  YH points  \\\n",
       "0        1  2018  1242    Fitzpatrick; Ryan  QB  tam   a  nor      42.28   \n",
       "1        1  2018  1151          Brees; Drew  QB  nor   h  tam      31.56   \n",
       "2        1  2018  1231       Rivers; Philip  QB  lac   h  kan      29.96   \n",
       "3        1  2018  1523  Mahomes II; Patrick  QB  kan   a  lac      28.34   \n",
       "4        1  2018  1252       Rodgers; Aaron  QB  gnb   h  chi      24.94   \n",
       "...    ...   ...   ...                  ...  ..  ...  ..  ...        ...   \n",
       "5968    16  2018  1536          Allen; Kyle  QB  car   h  atl       1.52   \n",
       "5969    16  2018  1507        Sudfeld; Nate  QB  phi   h  hou       0.00   \n",
       "5970    16  2018  1484        Mannion; Sean  QB  lar   a  ari      -0.20   \n",
       "5971    16  2018  1336         Hoyer; Brian  QB  nwe   h  buf      -0.20   \n",
       "5972    16  2018  1530         Hill; Taysom  QB  nor   h  pit      -1.00   \n",
       "\n",
       "      YH salary  home_away  \n",
       "0          25.0         -1  \n",
       "1          33.0          1  \n",
       "2          31.0          1  \n",
       "3          27.0         -1  \n",
       "4          39.0          1  \n",
       "...         ...        ...  \n",
       "5968        0.0          1  \n",
       "5969       20.0          1  \n",
       "5970       20.0         -1  \n",
       "5971       20.0          1  \n",
       "5972       20.0          1  \n",
       "\n",
       "[586 rows x 11 columns]"
      ]
     },
     "execution_count": 13,
     "metadata": {},
     "output_type": "execute_result"
    }
   ],
   "source": [
    "#grade_clear\n",
    "df_POS['home_away'] = np.where(df_POS['h/a']=='a',-1,1)\n",
    "df_POS"
   ]
  },
  {
   "cell_type": "markdown",
   "metadata": {},
   "source": [
    "For the opponents, we need some kind of information about how many points they give up to a position on average.  We have compiled that information in a separate file, called `team_rankings.py`.  Importing this file will give us access to a collection of dictionaries that provides the information we need."
   ]
  },
  {
   "cell_type": "code",
   "execution_count": 14,
   "metadata": {},
   "outputs": [],
   "source": [
    "from team_rankings import *  # asterik just means we import everything from that namespace"
   ]
  },
  {
   "cell_type": "markdown",
   "metadata": {},
   "source": [
    "Since we are using data from 2018, the stored dictionary `vs_2018` has the relevant ranking. Take a look at the keys in the dictionary:"
   ]
  },
  {
   "cell_type": "code",
   "execution_count": 15,
   "metadata": {},
   "outputs": [
    {
     "data": {
      "text/plain": [
       "dict_keys(['QB', 'WR', 'RB', 'TE', 'Def'])"
      ]
     },
     "execution_count": 15,
     "metadata": {},
     "output_type": "execute_result"
    }
   ],
   "source": [
    "vs_2018.keys() "
   ]
  },
  {
   "cell_type": "markdown",
   "metadata": {},
   "source": [
    "Note that the keys are just the player positions. Let's see the information for the key `QB` (we have been storing this string in the variable `POS`)"
   ]
  },
  {
   "cell_type": "code",
   "execution_count": 16,
   "metadata": {},
   "outputs": [
    {
     "data": {
      "text/plain": [
       "{'ari': 28,\n",
       " 'atl': 1.0,\n",
       " 'bal': 29.0,\n",
       " 'buf': 32.0,\n",
       " 'car': 9.0,\n",
       " 'chi': 31.0,\n",
       " 'cin': 3.0,\n",
       " 'cle': 13.0,\n",
       " 'dal': 24.0,\n",
       " 'den': 27.0,\n",
       " 'det': 15.0,\n",
       " 'gnb': 12.0,\n",
       " 'hou': 19.0,\n",
       " 'ind': 21.0,\n",
       " 'jac': 23.0,\n",
       " 'kan': 5.0,\n",
       " 'lac': 25.0,\n",
       " 'lar': 20.0,\n",
       " 'mia': 10.0,\n",
       " 'min': 30.0,\n",
       " 'nor': 2.0,\n",
       " 'nwe': 18,\n",
       " 'nyg': 16.0,\n",
       " 'nyj': 6.0,\n",
       " 'oak': 8,\n",
       " 'phi': 11.0,\n",
       " 'pit': 17.0,\n",
       " 'sea': 22.0,\n",
       " 'sfo': 7.0,\n",
       " 'tam': 4.0,\n",
       " 'ten': 26.0,\n",
       " 'was': 14}"
      ]
     },
     "execution_count": 16,
     "metadata": {},
     "output_type": "execute_result"
    }
   ],
   "source": [
    "vs_2018[POS]"
   ]
  },
  {
   "cell_type": "code",
   "execution_count": 17,
   "metadata": {},
   "outputs": [
    {
     "name": "stdout",
     "output_type": "stream",
     "text": [
      "1.0\n",
      "32.0\n"
     ]
    }
   ],
   "source": [
    "print(vs_2018[POS]['atl'])\n",
    "print(vs_2018[POS]['buf'])"
   ]
  },
  {
   "cell_type": "markdown",
   "metadata": {},
   "source": [
    "There are 32 football teams in the NFL.  \n",
    "\n",
    "The fact that `vs_2018['QB']['atl']` has the value 1.0, means that the Atlanta Falcons gave up the **most** points to quarterbacks on average in the 2018 season.  \n",
    "\n",
    "Since `vs_2018['QB']['buf']` has the value 32.0, this means that the Buffalo Bills gave up the **least** points to quarterbacks on average in the 2018 season.\n",
    "\n",
    "So, we would expect a better performance out of a quarterback if he is playing the Atlanta Falcons, compared to the Buffalo Bills. "
   ]
  },
  {
   "cell_type": "markdown",
   "metadata": {},
   "source": [
    "The rankings can be very different for different positions:"
   ]
  },
  {
   "cell_type": "code",
   "execution_count": 18,
   "metadata": {},
   "outputs": [
    {
     "name": "stdout",
     "output_type": "stream",
     "text": [
      "4.0\n",
      "7.0\n",
      "\n",
      "6.0\n",
      "29.0\n",
      "\n",
      "20.0\n",
      "32.0\n",
      "\n",
      "21.0\n",
      "2.0\n",
      "\n"
     ]
    }
   ],
   "source": [
    "print(vs_2018['RB']['atl'])\n",
    "print(vs_2018['RB']['buf'])\n",
    "print()\n",
    "print(vs_2018['WR']['atl'])\n",
    "print(vs_2018['WR']['buf'])\n",
    "print()\n",
    "print(vs_2018['TE']['atl'])\n",
    "print(vs_2018['TE']['buf'])\n",
    "print()\n",
    "print(vs_2018['Def']['atl'])\n",
    "print(vs_2018['Def']['buf'])\n",
    "print()"
   ]
  },
  {
   "cell_type": "markdown",
   "metadata": {},
   "source": [
    "For the quarterback position (`POS = 'QB'`), we want to convert the strings in the column `Oppt` into their corresponding numerical values using the dictionary `vs_2018`. \n",
    "\n",
    "To accomplish that, we will use the `apply` function (https://pandas.pydata.org/pandas-docs/stable/reference/api/pandas.DataFrame.apply.html)"
   ]
  },
  {
   "cell_type": "code",
   "execution_count": 19,
   "metadata": {},
   "outputs": [
    {
     "data": {
      "text/plain": [
       "0        2.0\n",
       "1        4.0\n",
       "2        5.0\n",
       "3       25.0\n",
       "4       31.0\n",
       "        ... \n",
       "5968     1.0\n",
       "5969    19.0\n",
       "5970    28.0\n",
       "5971    32.0\n",
       "5972    17.0\n",
       "Name: Oppt, Length: 586, dtype: float64"
      ]
     },
     "execution_count": 19,
     "metadata": {},
     "output_type": "execute_result"
    }
   ],
   "source": [
    "def get_rank(x):\n",
    "    # in this example, x will have row entries of the column in df_POS with label 'Oppt'\n",
    "    # i.e. x can be 'car', 'buf', 'atl', etc (the abbreviation of the team name)\n",
    "    # the function will return the ranking for that team given by the dictionary 'vs_2018'\n",
    "    return vs_2018[POS][x]\n",
    "\n",
    "df_POS['Oppt'].apply(get_rank)"
   ]
  },
  {
   "cell_type": "markdown",
   "metadata": {},
   "source": [
    "**Check your answer:** \n",
    "\n",
    "Store this new numeric information as another column of the pandas dataframe `df_POS` with label `oppt_rank`:"
   ]
  },
  {
   "cell_type": "code",
   "execution_count": 20,
   "metadata": {},
   "outputs": [],
   "source": [
    "#grade_clear\n",
    "df_POS['oppt_rank'] = df_POS['Oppt'].apply(get_rank)"
   ]
  },
  {
   "cell_type": "markdown",
   "metadata": {},
   "source": [
    "Your dataframe now should have 586 rows and 12 columns:"
   ]
  },
  {
   "cell_type": "code",
   "execution_count": 21,
   "metadata": {},
   "outputs": [
    {
     "data": {
      "text/html": [
       "<div>\n",
       "<style scoped>\n",
       "    .dataframe tbody tr th:only-of-type {\n",
       "        vertical-align: middle;\n",
       "    }\n",
       "\n",
       "    .dataframe tbody tr th {\n",
       "        vertical-align: top;\n",
       "    }\n",
       "\n",
       "    .dataframe thead th {\n",
       "        text-align: right;\n",
       "    }\n",
       "</style>\n",
       "<table border=\"1\" class=\"dataframe\">\n",
       "  <thead>\n",
       "    <tr style=\"text-align: right;\">\n",
       "      <th></th>\n",
       "      <th>Week</th>\n",
       "      <th>Year</th>\n",
       "      <th>GID</th>\n",
       "      <th>Name</th>\n",
       "      <th>Pos</th>\n",
       "      <th>Team</th>\n",
       "      <th>h/a</th>\n",
       "      <th>Oppt</th>\n",
       "      <th>YH points</th>\n",
       "      <th>YH salary</th>\n",
       "      <th>home_away</th>\n",
       "      <th>oppt_rank</th>\n",
       "    </tr>\n",
       "  </thead>\n",
       "  <tbody>\n",
       "    <tr>\n",
       "      <th>0</th>\n",
       "      <td>1</td>\n",
       "      <td>2018</td>\n",
       "      <td>1242</td>\n",
       "      <td>Fitzpatrick; Ryan</td>\n",
       "      <td>QB</td>\n",
       "      <td>tam</td>\n",
       "      <td>a</td>\n",
       "      <td>nor</td>\n",
       "      <td>42.28</td>\n",
       "      <td>25.0</td>\n",
       "      <td>-1</td>\n",
       "      <td>2.0</td>\n",
       "    </tr>\n",
       "    <tr>\n",
       "      <th>1</th>\n",
       "      <td>1</td>\n",
       "      <td>2018</td>\n",
       "      <td>1151</td>\n",
       "      <td>Brees; Drew</td>\n",
       "      <td>QB</td>\n",
       "      <td>nor</td>\n",
       "      <td>h</td>\n",
       "      <td>tam</td>\n",
       "      <td>31.56</td>\n",
       "      <td>33.0</td>\n",
       "      <td>1</td>\n",
       "      <td>4.0</td>\n",
       "    </tr>\n",
       "    <tr>\n",
       "      <th>2</th>\n",
       "      <td>1</td>\n",
       "      <td>2018</td>\n",
       "      <td>1231</td>\n",
       "      <td>Rivers; Philip</td>\n",
       "      <td>QB</td>\n",
       "      <td>lac</td>\n",
       "      <td>h</td>\n",
       "      <td>kan</td>\n",
       "      <td>29.96</td>\n",
       "      <td>31.0</td>\n",
       "      <td>1</td>\n",
       "      <td>5.0</td>\n",
       "    </tr>\n",
       "    <tr>\n",
       "      <th>3</th>\n",
       "      <td>1</td>\n",
       "      <td>2018</td>\n",
       "      <td>1523</td>\n",
       "      <td>Mahomes II; Patrick</td>\n",
       "      <td>QB</td>\n",
       "      <td>kan</td>\n",
       "      <td>a</td>\n",
       "      <td>lac</td>\n",
       "      <td>28.34</td>\n",
       "      <td>27.0</td>\n",
       "      <td>-1</td>\n",
       "      <td>25.0</td>\n",
       "    </tr>\n",
       "    <tr>\n",
       "      <th>4</th>\n",
       "      <td>1</td>\n",
       "      <td>2018</td>\n",
       "      <td>1252</td>\n",
       "      <td>Rodgers; Aaron</td>\n",
       "      <td>QB</td>\n",
       "      <td>gnb</td>\n",
       "      <td>h</td>\n",
       "      <td>chi</td>\n",
       "      <td>24.94</td>\n",
       "      <td>39.0</td>\n",
       "      <td>1</td>\n",
       "      <td>31.0</td>\n",
       "    </tr>\n",
       "    <tr>\n",
       "      <th>...</th>\n",
       "      <td>...</td>\n",
       "      <td>...</td>\n",
       "      <td>...</td>\n",
       "      <td>...</td>\n",
       "      <td>...</td>\n",
       "      <td>...</td>\n",
       "      <td>...</td>\n",
       "      <td>...</td>\n",
       "      <td>...</td>\n",
       "      <td>...</td>\n",
       "      <td>...</td>\n",
       "      <td>...</td>\n",
       "    </tr>\n",
       "    <tr>\n",
       "      <th>5968</th>\n",
       "      <td>16</td>\n",
       "      <td>2018</td>\n",
       "      <td>1536</td>\n",
       "      <td>Allen; Kyle</td>\n",
       "      <td>QB</td>\n",
       "      <td>car</td>\n",
       "      <td>h</td>\n",
       "      <td>atl</td>\n",
       "      <td>1.52</td>\n",
       "      <td>0.0</td>\n",
       "      <td>1</td>\n",
       "      <td>1.0</td>\n",
       "    </tr>\n",
       "    <tr>\n",
       "      <th>5969</th>\n",
       "      <td>16</td>\n",
       "      <td>2018</td>\n",
       "      <td>1507</td>\n",
       "      <td>Sudfeld; Nate</td>\n",
       "      <td>QB</td>\n",
       "      <td>phi</td>\n",
       "      <td>h</td>\n",
       "      <td>hou</td>\n",
       "      <td>0.00</td>\n",
       "      <td>20.0</td>\n",
       "      <td>1</td>\n",
       "      <td>19.0</td>\n",
       "    </tr>\n",
       "    <tr>\n",
       "      <th>5970</th>\n",
       "      <td>16</td>\n",
       "      <td>2018</td>\n",
       "      <td>1484</td>\n",
       "      <td>Mannion; Sean</td>\n",
       "      <td>QB</td>\n",
       "      <td>lar</td>\n",
       "      <td>a</td>\n",
       "      <td>ari</td>\n",
       "      <td>-0.20</td>\n",
       "      <td>20.0</td>\n",
       "      <td>-1</td>\n",
       "      <td>28.0</td>\n",
       "    </tr>\n",
       "    <tr>\n",
       "      <th>5971</th>\n",
       "      <td>16</td>\n",
       "      <td>2018</td>\n",
       "      <td>1336</td>\n",
       "      <td>Hoyer; Brian</td>\n",
       "      <td>QB</td>\n",
       "      <td>nwe</td>\n",
       "      <td>h</td>\n",
       "      <td>buf</td>\n",
       "      <td>-0.20</td>\n",
       "      <td>20.0</td>\n",
       "      <td>1</td>\n",
       "      <td>32.0</td>\n",
       "    </tr>\n",
       "    <tr>\n",
       "      <th>5972</th>\n",
       "      <td>16</td>\n",
       "      <td>2018</td>\n",
       "      <td>1530</td>\n",
       "      <td>Hill; Taysom</td>\n",
       "      <td>QB</td>\n",
       "      <td>nor</td>\n",
       "      <td>h</td>\n",
       "      <td>pit</td>\n",
       "      <td>-1.00</td>\n",
       "      <td>20.0</td>\n",
       "      <td>1</td>\n",
       "      <td>17.0</td>\n",
       "    </tr>\n",
       "  </tbody>\n",
       "</table>\n",
       "<p>586 rows × 12 columns</p>\n",
       "</div>"
      ],
      "text/plain": [
       "      Week  Year   GID                 Name Pos Team h/a Oppt  YH points  \\\n",
       "0        1  2018  1242    Fitzpatrick; Ryan  QB  tam   a  nor      42.28   \n",
       "1        1  2018  1151          Brees; Drew  QB  nor   h  tam      31.56   \n",
       "2        1  2018  1231       Rivers; Philip  QB  lac   h  kan      29.96   \n",
       "3        1  2018  1523  Mahomes II; Patrick  QB  kan   a  lac      28.34   \n",
       "4        1  2018  1252       Rodgers; Aaron  QB  gnb   h  chi      24.94   \n",
       "...    ...   ...   ...                  ...  ..  ...  ..  ...        ...   \n",
       "5968    16  2018  1536          Allen; Kyle  QB  car   h  atl       1.52   \n",
       "5969    16  2018  1507        Sudfeld; Nate  QB  phi   h  hou       0.00   \n",
       "5970    16  2018  1484        Mannion; Sean  QB  lar   a  ari      -0.20   \n",
       "5971    16  2018  1336         Hoyer; Brian  QB  nwe   h  buf      -0.20   \n",
       "5972    16  2018  1530         Hill; Taysom  QB  nor   h  pit      -1.00   \n",
       "\n",
       "      YH salary  home_away  oppt_rank  \n",
       "0          25.0         -1        2.0  \n",
       "1          33.0          1        4.0  \n",
       "2          31.0          1        5.0  \n",
       "3          27.0         -1       25.0  \n",
       "4          39.0          1       31.0  \n",
       "...         ...        ...        ...  \n",
       "5968        0.0          1        1.0  \n",
       "5969       20.0          1       19.0  \n",
       "5970       20.0         -1       28.0  \n",
       "5971       20.0          1       32.0  \n",
       "5972       20.0          1       17.0  \n",
       "\n",
       "[586 rows x 12 columns]"
      ]
     },
     "execution_count": 21,
     "metadata": {},
     "output_type": "execute_result"
    }
   ],
   "source": [
    "df_POS"
   ]
  },
  {
   "cell_type": "markdown",
   "metadata": {},
   "source": [
    "Now, players' names will be repeated in the array `names` for every game they played.  We will find it convenient to have another array collecting the names without these repeats.  We'll use `pandas.Series.unique` to do this."
   ]
  },
  {
   "cell_type": "code",
   "execution_count": 22,
   "metadata": {},
   "outputs": [
    {
     "data": {
      "text/plain": [
       "73"
      ]
     },
     "execution_count": 22,
     "metadata": {},
     "output_type": "execute_result"
    }
   ],
   "source": [
    "unique_players = df_POS['Name'].unique()\n",
    "len(unique_players)"
   ]
  },
  {
   "cell_type": "markdown",
   "metadata": {},
   "source": [
    "So 73 quarterbacks played in 2018.  But there are only 32 teams!  Who are all these people?"
   ]
  },
  {
   "cell_type": "code",
   "execution_count": 23,
   "metadata": {},
   "outputs": [
    {
     "name": "stdout",
     "output_type": "stream",
     "text": [
      "Brady; Tom\n",
      "Sudfeld; Nate\n"
     ]
    }
   ],
   "source": [
    "print(unique_players[7])\n",
    "print(unique_players[72])"
   ]
  },
  {
   "cell_type": "markdown",
   "metadata": {},
   "source": [
    "I know who Tom Brady is, but I've never heard of Nate Sudfeld. Let's count how many times a players played a game.\n",
    "\n",
    "We can use `groupby` to group players by Name, and then count the number of times each player appears."
   ]
  },
  {
   "cell_type": "code",
   "execution_count": 24,
   "metadata": {},
   "outputs": [
    {
     "data": {
      "text/plain": [
       "Name\n",
       "Allen; Brandon      1\n",
       "Allen; Josh        11\n",
       "Allen; Kyle         1\n",
       "Anderson; Derek     2\n",
       "Barkley; Matt       1\n",
       "                   ..\n",
       "Webb; Joe           2\n",
       "Weeden; Brandon     1\n",
       "Wentz; Carson      11\n",
       "Wilson; Russell    15\n",
       "Winston; Jameis    10\n",
       "Name: Name, Length: 73, dtype: int64"
      ]
     },
     "execution_count": 24,
     "metadata": {},
     "output_type": "execute_result"
    }
   ],
   "source": [
    "df_POS.groupby('Name')['Name'].count()"
   ]
  },
  {
   "cell_type": "markdown",
   "metadata": {},
   "source": [
    "We want to add the frequency back to the original dataframe, and for that we will use transform to return an aligned index."
   ]
  },
  {
   "cell_type": "code",
   "execution_count": 25,
   "metadata": {},
   "outputs": [
    {
     "data": {
      "text/plain": [
       "0        8\n",
       "1       15\n",
       "2       15\n",
       "3       15\n",
       "4       15\n",
       "        ..\n",
       "5968     1\n",
       "5969     1\n",
       "5970     2\n",
       "5971     4\n",
       "5972    15\n",
       "Name: Name, Length: 586, dtype: int64"
      ]
     },
     "execution_count": 25,
     "metadata": {},
     "output_type": "execute_result"
    }
   ],
   "source": [
    "df_POS.groupby('Name')['Name'].transform('count')"
   ]
  },
  {
   "cell_type": "markdown",
   "metadata": {},
   "source": [
    "**Check your answer:** \n",
    "\n",
    "Add this new array as a column of `df_POS` with label `game_count`."
   ]
  },
  {
   "cell_type": "code",
   "execution_count": 26,
   "metadata": {},
   "outputs": [
    {
     "data": {
      "text/html": [
       "<div>\n",
       "<style scoped>\n",
       "    .dataframe tbody tr th:only-of-type {\n",
       "        vertical-align: middle;\n",
       "    }\n",
       "\n",
       "    .dataframe tbody tr th {\n",
       "        vertical-align: top;\n",
       "    }\n",
       "\n",
       "    .dataframe thead th {\n",
       "        text-align: right;\n",
       "    }\n",
       "</style>\n",
       "<table border=\"1\" class=\"dataframe\">\n",
       "  <thead>\n",
       "    <tr style=\"text-align: right;\">\n",
       "      <th></th>\n",
       "      <th>Week</th>\n",
       "      <th>Year</th>\n",
       "      <th>GID</th>\n",
       "      <th>Name</th>\n",
       "      <th>Pos</th>\n",
       "      <th>Team</th>\n",
       "      <th>h/a</th>\n",
       "      <th>Oppt</th>\n",
       "      <th>YH points</th>\n",
       "      <th>YH salary</th>\n",
       "      <th>home_away</th>\n",
       "      <th>oppt_rank</th>\n",
       "      <th>game_count</th>\n",
       "    </tr>\n",
       "  </thead>\n",
       "  <tbody>\n",
       "    <tr>\n",
       "      <th>0</th>\n",
       "      <td>1</td>\n",
       "      <td>2018</td>\n",
       "      <td>1242</td>\n",
       "      <td>Fitzpatrick; Ryan</td>\n",
       "      <td>QB</td>\n",
       "      <td>tam</td>\n",
       "      <td>a</td>\n",
       "      <td>nor</td>\n",
       "      <td>42.28</td>\n",
       "      <td>25.0</td>\n",
       "      <td>-1</td>\n",
       "      <td>2.0</td>\n",
       "      <td>8</td>\n",
       "    </tr>\n",
       "    <tr>\n",
       "      <th>1</th>\n",
       "      <td>1</td>\n",
       "      <td>2018</td>\n",
       "      <td>1151</td>\n",
       "      <td>Brees; Drew</td>\n",
       "      <td>QB</td>\n",
       "      <td>nor</td>\n",
       "      <td>h</td>\n",
       "      <td>tam</td>\n",
       "      <td>31.56</td>\n",
       "      <td>33.0</td>\n",
       "      <td>1</td>\n",
       "      <td>4.0</td>\n",
       "      <td>15</td>\n",
       "    </tr>\n",
       "    <tr>\n",
       "      <th>2</th>\n",
       "      <td>1</td>\n",
       "      <td>2018</td>\n",
       "      <td>1231</td>\n",
       "      <td>Rivers; Philip</td>\n",
       "      <td>QB</td>\n",
       "      <td>lac</td>\n",
       "      <td>h</td>\n",
       "      <td>kan</td>\n",
       "      <td>29.96</td>\n",
       "      <td>31.0</td>\n",
       "      <td>1</td>\n",
       "      <td>5.0</td>\n",
       "      <td>15</td>\n",
       "    </tr>\n",
       "    <tr>\n",
       "      <th>3</th>\n",
       "      <td>1</td>\n",
       "      <td>2018</td>\n",
       "      <td>1523</td>\n",
       "      <td>Mahomes II; Patrick</td>\n",
       "      <td>QB</td>\n",
       "      <td>kan</td>\n",
       "      <td>a</td>\n",
       "      <td>lac</td>\n",
       "      <td>28.34</td>\n",
       "      <td>27.0</td>\n",
       "      <td>-1</td>\n",
       "      <td>25.0</td>\n",
       "      <td>15</td>\n",
       "    </tr>\n",
       "    <tr>\n",
       "      <th>4</th>\n",
       "      <td>1</td>\n",
       "      <td>2018</td>\n",
       "      <td>1252</td>\n",
       "      <td>Rodgers; Aaron</td>\n",
       "      <td>QB</td>\n",
       "      <td>gnb</td>\n",
       "      <td>h</td>\n",
       "      <td>chi</td>\n",
       "      <td>24.94</td>\n",
       "      <td>39.0</td>\n",
       "      <td>1</td>\n",
       "      <td>31.0</td>\n",
       "      <td>15</td>\n",
       "    </tr>\n",
       "    <tr>\n",
       "      <th>...</th>\n",
       "      <td>...</td>\n",
       "      <td>...</td>\n",
       "      <td>...</td>\n",
       "      <td>...</td>\n",
       "      <td>...</td>\n",
       "      <td>...</td>\n",
       "      <td>...</td>\n",
       "      <td>...</td>\n",
       "      <td>...</td>\n",
       "      <td>...</td>\n",
       "      <td>...</td>\n",
       "      <td>...</td>\n",
       "      <td>...</td>\n",
       "    </tr>\n",
       "    <tr>\n",
       "      <th>5968</th>\n",
       "      <td>16</td>\n",
       "      <td>2018</td>\n",
       "      <td>1536</td>\n",
       "      <td>Allen; Kyle</td>\n",
       "      <td>QB</td>\n",
       "      <td>car</td>\n",
       "      <td>h</td>\n",
       "      <td>atl</td>\n",
       "      <td>1.52</td>\n",
       "      <td>0.0</td>\n",
       "      <td>1</td>\n",
       "      <td>1.0</td>\n",
       "      <td>1</td>\n",
       "    </tr>\n",
       "    <tr>\n",
       "      <th>5969</th>\n",
       "      <td>16</td>\n",
       "      <td>2018</td>\n",
       "      <td>1507</td>\n",
       "      <td>Sudfeld; Nate</td>\n",
       "      <td>QB</td>\n",
       "      <td>phi</td>\n",
       "      <td>h</td>\n",
       "      <td>hou</td>\n",
       "      <td>0.00</td>\n",
       "      <td>20.0</td>\n",
       "      <td>1</td>\n",
       "      <td>19.0</td>\n",
       "      <td>1</td>\n",
       "    </tr>\n",
       "    <tr>\n",
       "      <th>5970</th>\n",
       "      <td>16</td>\n",
       "      <td>2018</td>\n",
       "      <td>1484</td>\n",
       "      <td>Mannion; Sean</td>\n",
       "      <td>QB</td>\n",
       "      <td>lar</td>\n",
       "      <td>a</td>\n",
       "      <td>ari</td>\n",
       "      <td>-0.20</td>\n",
       "      <td>20.0</td>\n",
       "      <td>-1</td>\n",
       "      <td>28.0</td>\n",
       "      <td>2</td>\n",
       "    </tr>\n",
       "    <tr>\n",
       "      <th>5971</th>\n",
       "      <td>16</td>\n",
       "      <td>2018</td>\n",
       "      <td>1336</td>\n",
       "      <td>Hoyer; Brian</td>\n",
       "      <td>QB</td>\n",
       "      <td>nwe</td>\n",
       "      <td>h</td>\n",
       "      <td>buf</td>\n",
       "      <td>-0.20</td>\n",
       "      <td>20.0</td>\n",
       "      <td>1</td>\n",
       "      <td>32.0</td>\n",
       "      <td>4</td>\n",
       "    </tr>\n",
       "    <tr>\n",
       "      <th>5972</th>\n",
       "      <td>16</td>\n",
       "      <td>2018</td>\n",
       "      <td>1530</td>\n",
       "      <td>Hill; Taysom</td>\n",
       "      <td>QB</td>\n",
       "      <td>nor</td>\n",
       "      <td>h</td>\n",
       "      <td>pit</td>\n",
       "      <td>-1.00</td>\n",
       "      <td>20.0</td>\n",
       "      <td>1</td>\n",
       "      <td>17.0</td>\n",
       "      <td>15</td>\n",
       "    </tr>\n",
       "  </tbody>\n",
       "</table>\n",
       "<p>586 rows × 13 columns</p>\n",
       "</div>"
      ],
      "text/plain": [
       "      Week  Year   GID                 Name Pos Team h/a Oppt  YH points  \\\n",
       "0        1  2018  1242    Fitzpatrick; Ryan  QB  tam   a  nor      42.28   \n",
       "1        1  2018  1151          Brees; Drew  QB  nor   h  tam      31.56   \n",
       "2        1  2018  1231       Rivers; Philip  QB  lac   h  kan      29.96   \n",
       "3        1  2018  1523  Mahomes II; Patrick  QB  kan   a  lac      28.34   \n",
       "4        1  2018  1252       Rodgers; Aaron  QB  gnb   h  chi      24.94   \n",
       "...    ...   ...   ...                  ...  ..  ...  ..  ...        ...   \n",
       "5968    16  2018  1536          Allen; Kyle  QB  car   h  atl       1.52   \n",
       "5969    16  2018  1507        Sudfeld; Nate  QB  phi   h  hou       0.00   \n",
       "5970    16  2018  1484        Mannion; Sean  QB  lar   a  ari      -0.20   \n",
       "5971    16  2018  1336         Hoyer; Brian  QB  nwe   h  buf      -0.20   \n",
       "5972    16  2018  1530         Hill; Taysom  QB  nor   h  pit      -1.00   \n",
       "\n",
       "      YH salary  home_away  oppt_rank  game_count  \n",
       "0          25.0         -1        2.0           8  \n",
       "1          33.0          1        4.0          15  \n",
       "2          31.0          1        5.0          15  \n",
       "3          27.0         -1       25.0          15  \n",
       "4          39.0          1       31.0          15  \n",
       "...         ...        ...        ...         ...  \n",
       "5968        0.0          1        1.0           1  \n",
       "5969       20.0          1       19.0           1  \n",
       "5970       20.0         -1       28.0           2  \n",
       "5971       20.0          1       32.0           4  \n",
       "5972       20.0          1       17.0          15  \n",
       "\n",
       "[586 rows x 13 columns]"
      ]
     },
     "execution_count": 26,
     "metadata": {},
     "output_type": "execute_result"
    }
   ],
   "source": [
    "#grade_clear\n",
    "df_POS['game_count'] = df_POS.groupby('Name')['Name'].transform('count')\n",
    "df_POS"
   ]
  },
  {
   "cell_type": "markdown",
   "metadata": {},
   "source": [
    "Note that Nate Sudfeld only played in 1 game in 2018.  He probably took over when the starter was injured, or when his team was involved in a lopsided game.  We probably want to remove his data, since it won't be very helpful.\n",
    "\n",
    "**Check your answer:**\n",
    "\n",
    "Create a new (smaller) dataframe (remember to use the `copy` function) that only includes the rows from `df_POS` in which the number of games played (stored in the column `game_count`) is greater or equal than `min_games`. For now, we will use `min_games = 5`. \n",
    "\n",
    "Store this new dataframe as `df_new` (Check: this new dataframe will have 512 rows and 13 columns)."
   ]
  },
  {
   "cell_type": "code",
   "execution_count": 27,
   "metadata": {},
   "outputs": [],
   "source": [
    "min_games = 5"
   ]
  },
  {
   "cell_type": "code",
   "execution_count": 28,
   "metadata": {},
   "outputs": [
    {
     "data": {
      "text/html": [
       "<div>\n",
       "<style scoped>\n",
       "    .dataframe tbody tr th:only-of-type {\n",
       "        vertical-align: middle;\n",
       "    }\n",
       "\n",
       "    .dataframe tbody tr th {\n",
       "        vertical-align: top;\n",
       "    }\n",
       "\n",
       "    .dataframe thead th {\n",
       "        text-align: right;\n",
       "    }\n",
       "</style>\n",
       "<table border=\"1\" class=\"dataframe\">\n",
       "  <thead>\n",
       "    <tr style=\"text-align: right;\">\n",
       "      <th></th>\n",
       "      <th>Week</th>\n",
       "      <th>Year</th>\n",
       "      <th>GID</th>\n",
       "      <th>Name</th>\n",
       "      <th>Pos</th>\n",
       "      <th>Team</th>\n",
       "      <th>h/a</th>\n",
       "      <th>Oppt</th>\n",
       "      <th>YH points</th>\n",
       "      <th>YH salary</th>\n",
       "      <th>home_away</th>\n",
       "      <th>oppt_rank</th>\n",
       "      <th>game_count</th>\n",
       "    </tr>\n",
       "  </thead>\n",
       "  <tbody>\n",
       "    <tr>\n",
       "      <th>0</th>\n",
       "      <td>1</td>\n",
       "      <td>2018</td>\n",
       "      <td>1242</td>\n",
       "      <td>Fitzpatrick; Ryan</td>\n",
       "      <td>QB</td>\n",
       "      <td>tam</td>\n",
       "      <td>a</td>\n",
       "      <td>nor</td>\n",
       "      <td>42.28</td>\n",
       "      <td>25.0</td>\n",
       "      <td>-1</td>\n",
       "      <td>2.0</td>\n",
       "      <td>8</td>\n",
       "    </tr>\n",
       "    <tr>\n",
       "      <th>1</th>\n",
       "      <td>1</td>\n",
       "      <td>2018</td>\n",
       "      <td>1151</td>\n",
       "      <td>Brees; Drew</td>\n",
       "      <td>QB</td>\n",
       "      <td>nor</td>\n",
       "      <td>h</td>\n",
       "      <td>tam</td>\n",
       "      <td>31.56</td>\n",
       "      <td>33.0</td>\n",
       "      <td>1</td>\n",
       "      <td>4.0</td>\n",
       "      <td>15</td>\n",
       "    </tr>\n",
       "    <tr>\n",
       "      <th>2</th>\n",
       "      <td>1</td>\n",
       "      <td>2018</td>\n",
       "      <td>1231</td>\n",
       "      <td>Rivers; Philip</td>\n",
       "      <td>QB</td>\n",
       "      <td>lac</td>\n",
       "      <td>h</td>\n",
       "      <td>kan</td>\n",
       "      <td>29.96</td>\n",
       "      <td>31.0</td>\n",
       "      <td>1</td>\n",
       "      <td>5.0</td>\n",
       "      <td>15</td>\n",
       "    </tr>\n",
       "    <tr>\n",
       "      <th>3</th>\n",
       "      <td>1</td>\n",
       "      <td>2018</td>\n",
       "      <td>1523</td>\n",
       "      <td>Mahomes II; Patrick</td>\n",
       "      <td>QB</td>\n",
       "      <td>kan</td>\n",
       "      <td>a</td>\n",
       "      <td>lac</td>\n",
       "      <td>28.34</td>\n",
       "      <td>27.0</td>\n",
       "      <td>-1</td>\n",
       "      <td>25.0</td>\n",
       "      <td>15</td>\n",
       "    </tr>\n",
       "    <tr>\n",
       "      <th>4</th>\n",
       "      <td>1</td>\n",
       "      <td>2018</td>\n",
       "      <td>1252</td>\n",
       "      <td>Rodgers; Aaron</td>\n",
       "      <td>QB</td>\n",
       "      <td>gnb</td>\n",
       "      <td>h</td>\n",
       "      <td>chi</td>\n",
       "      <td>24.94</td>\n",
       "      <td>39.0</td>\n",
       "      <td>1</td>\n",
       "      <td>31.0</td>\n",
       "      <td>15</td>\n",
       "    </tr>\n",
       "    <tr>\n",
       "      <th>...</th>\n",
       "      <td>...</td>\n",
       "      <td>...</td>\n",
       "      <td>...</td>\n",
       "      <td>...</td>\n",
       "      <td>...</td>\n",
       "      <td>...</td>\n",
       "      <td>...</td>\n",
       "      <td>...</td>\n",
       "      <td>...</td>\n",
       "      <td>...</td>\n",
       "      <td>...</td>\n",
       "      <td>...</td>\n",
       "      <td>...</td>\n",
       "    </tr>\n",
       "    <tr>\n",
       "      <th>5962</th>\n",
       "      <td>16</td>\n",
       "      <td>2018</td>\n",
       "      <td>1466</td>\n",
       "      <td>Mariota; Marcus</td>\n",
       "      <td>QB</td>\n",
       "      <td>ten</td>\n",
       "      <td>h</td>\n",
       "      <td>was</td>\n",
       "      <td>5.10</td>\n",
       "      <td>23.0</td>\n",
       "      <td>1</td>\n",
       "      <td>14.0</td>\n",
       "      <td>14</td>\n",
       "    </tr>\n",
       "    <tr>\n",
       "      <th>5963</th>\n",
       "      <td>16</td>\n",
       "      <td>2018</td>\n",
       "      <td>1340</td>\n",
       "      <td>Stafford; Matthew</td>\n",
       "      <td>QB</td>\n",
       "      <td>det</td>\n",
       "      <td>h</td>\n",
       "      <td>min</td>\n",
       "      <td>4.64</td>\n",
       "      <td>21.0</td>\n",
       "      <td>1</td>\n",
       "      <td>30.0</td>\n",
       "      <td>15</td>\n",
       "    </tr>\n",
       "    <tr>\n",
       "      <th>5964</th>\n",
       "      <td>16</td>\n",
       "      <td>2018</td>\n",
       "      <td>1442</td>\n",
       "      <td>Bortles; Blake</td>\n",
       "      <td>QB</td>\n",
       "      <td>jac</td>\n",
       "      <td>a</td>\n",
       "      <td>mia</td>\n",
       "      <td>4.06</td>\n",
       "      <td>20.0</td>\n",
       "      <td>-1</td>\n",
       "      <td>10.0</td>\n",
       "      <td>12</td>\n",
       "    </tr>\n",
       "    <tr>\n",
       "      <th>5967</th>\n",
       "      <td>16</td>\n",
       "      <td>2018</td>\n",
       "      <td>1492</td>\n",
       "      <td>Kessler; Cody</td>\n",
       "      <td>QB</td>\n",
       "      <td>jac</td>\n",
       "      <td>a</td>\n",
       "      <td>mia</td>\n",
       "      <td>2.44</td>\n",
       "      <td>20.0</td>\n",
       "      <td>-1</td>\n",
       "      <td>10.0</td>\n",
       "      <td>5</td>\n",
       "    </tr>\n",
       "    <tr>\n",
       "      <th>5972</th>\n",
       "      <td>16</td>\n",
       "      <td>2018</td>\n",
       "      <td>1530</td>\n",
       "      <td>Hill; Taysom</td>\n",
       "      <td>QB</td>\n",
       "      <td>nor</td>\n",
       "      <td>h</td>\n",
       "      <td>pit</td>\n",
       "      <td>-1.00</td>\n",
       "      <td>20.0</td>\n",
       "      <td>1</td>\n",
       "      <td>17.0</td>\n",
       "      <td>15</td>\n",
       "    </tr>\n",
       "  </tbody>\n",
       "</table>\n",
       "<p>512 rows × 13 columns</p>\n",
       "</div>"
      ],
      "text/plain": [
       "      Week  Year   GID                 Name Pos Team h/a Oppt  YH points  \\\n",
       "0        1  2018  1242    Fitzpatrick; Ryan  QB  tam   a  nor      42.28   \n",
       "1        1  2018  1151          Brees; Drew  QB  nor   h  tam      31.56   \n",
       "2        1  2018  1231       Rivers; Philip  QB  lac   h  kan      29.96   \n",
       "3        1  2018  1523  Mahomes II; Patrick  QB  kan   a  lac      28.34   \n",
       "4        1  2018  1252       Rodgers; Aaron  QB  gnb   h  chi      24.94   \n",
       "...    ...   ...   ...                  ...  ..  ...  ..  ...        ...   \n",
       "5962    16  2018  1466      Mariota; Marcus  QB  ten   h  was       5.10   \n",
       "5963    16  2018  1340    Stafford; Matthew  QB  det   h  min       4.64   \n",
       "5964    16  2018  1442       Bortles; Blake  QB  jac   a  mia       4.06   \n",
       "5967    16  2018  1492        Kessler; Cody  QB  jac   a  mia       2.44   \n",
       "5972    16  2018  1530         Hill; Taysom  QB  nor   h  pit      -1.00   \n",
       "\n",
       "      YH salary  home_away  oppt_rank  game_count  \n",
       "0          25.0         -1        2.0           8  \n",
       "1          33.0          1        4.0          15  \n",
       "2          31.0          1        5.0          15  \n",
       "3          27.0         -1       25.0          15  \n",
       "4          39.0          1       31.0          15  \n",
       "...         ...        ...        ...         ...  \n",
       "5962       23.0          1       14.0          14  \n",
       "5963       21.0          1       30.0          15  \n",
       "5964       20.0         -1       10.0          12  \n",
       "5967       20.0         -1       10.0           5  \n",
       "5972       20.0          1       17.0          15  \n",
       "\n",
       "[512 rows x 13 columns]"
      ]
     },
     "execution_count": 28,
     "metadata": {},
     "output_type": "execute_result"
    }
   ],
   "source": [
    "#grade_clear\n",
    "df_new = df_POS[df_POS['game_count']>=min_games].copy()\n",
    "df_new"
   ]
  },
  {
   "cell_type": "markdown",
   "metadata": {},
   "source": [
    "**Check your answer:**\n",
    "\n",
    "Use the `unique` function to get an array with the name of all the players that are relevant to our analysis (i.e., included in the dataframe `df_new`). Store this data in a 1d numpy array named `relevant_players`, which should be sorted in alphabetical order. "
   ]
  },
  {
   "cell_type": "code",
   "execution_count": 29,
   "metadata": {},
   "outputs": [],
   "source": [
    "#grade_clear\n",
    "relevant_players =  np.sort(df_new['Name'].unique())"
   ]
  },
  {
   "cell_type": "code",
   "execution_count": 30,
   "metadata": {},
   "outputs": [
    {
     "name": "stdout",
     "output_type": "stream",
     "text": [
      "(43,)\n",
      "<class 'numpy.ndarray'>\n"
     ]
    },
    {
     "data": {
      "text/plain": [
       "array(['Allen; Josh', 'Beathard; C.J.', 'Bortles; Blake', 'Brady; Tom',\n",
       "       'Brees; Drew', 'Carr; Derek', 'Cousins; Kirk', 'Dalton; Andy',\n",
       "       'Daniel; Chase', 'Darnold; Sam', 'Dobbs; Joshua', 'Driskel; Jeff',\n",
       "       'Fitzpatrick; Ryan', 'Flacco; Joe', 'Gabbert; Blaine',\n",
       "       'Goff; Jared', 'Heinicke; Taylor', 'Hill; Taysom',\n",
       "       'Jackson; Lamar', 'Keenum; Case', 'Kessler; Cody', 'Luck; Andrew',\n",
       "       'Mahomes II; Patrick', 'Manning; Eli', 'Mariota; Marcus',\n",
       "       'Mayfield; Baker', 'Mullens; Nick', 'Newton; Cam',\n",
       "       'Osweiler; Brock', 'Prescott; Dak', 'Rivers; Philip',\n",
       "       'Rodgers; Aaron', 'Roethlisberger; Ben', 'Rosen; Josh',\n",
       "       'Ryan; Matt', 'Smith; Alex', 'Stafford; Matthew',\n",
       "       'Tannehill; Ryan', 'Trubisky; Mitchell', 'Watson; Deshaun',\n",
       "       'Wentz; Carson', 'Wilson; Russell', 'Winston; Jameis'],\n",
       "      dtype=object)"
      ]
     },
     "execution_count": 30,
     "metadata": {},
     "output_type": "execute_result"
    }
   ],
   "source": [
    "print(relevant_players.shape)\n",
    "print(type(relevant_players))\n",
    "relevant_players"
   ]
  },
  {
   "cell_type": "markdown",
   "metadata": {},
   "source": [
    "Note that we only consider 43 quarterbacks playing in 2018."
   ]
  },
  {
   "cell_type": "markdown",
   "metadata": {},
   "source": [
    "### Let's put all of this together! \n",
    "\n",
    "\n",
    "**Check your answer:**\n",
    "\n",
    "Write a function `prepare_data` that creates the dataframe `df_POS` for a given player position `POS`. The function also returns as an argument the list of relevant unique players, given the minimum number of games played threshold:\n"
   ]
  },
  {
   "cell_type": "code",
   "execution_count": 31,
   "metadata": {},
   "outputs": [],
   "source": [
    "#grade_clear\n",
    "#clear\n",
    "def prepare_data(ff_data,POS,min_games): \n",
    "    # enter your code here (this is basically a compilation of the steps above)   \n",
    "    \n",
    "    df_POS = ...\n",
    "    relevant_players = ...\n",
    "    \n",
    "    #clear\n",
    "    \n",
    "    df_POS = ff_data[ff_data['Pos'] == POS].copy()\n",
    "    df_POS['home_away'] = np.where(df_POS['h/a']=='a',-1,1)\n",
    "    df_POS['oppt_rank'] = df_POS['Oppt'].apply(get_rank)\n",
    "    df_POS['game_count'] = df_POS.groupby('Name')['Name'].transform('count')\n",
    "    df_new = df_POS[df_POS['game_count']>=min_games].copy()\n",
    "    relevant_players =  np.sort(df_POS[df_POS['game_count']>=min_games]['Name'].unique())\n",
    "    \n",
    "    #clear\n",
    "    \n",
    "    return(df_POS, relevant_players)\n"
   ]
  },
  {
   "cell_type": "markdown",
   "metadata": {},
   "source": [
    "Test out that your function works as expected (i.e., before clicking \"Save&Grade\", make sure that the function returns something reasonable)."
   ]
  },
  {
   "cell_type": "code",
   "execution_count": 32,
   "metadata": {},
   "outputs": [
    {
     "data": {
      "text/html": [
       "<div>\n",
       "<style scoped>\n",
       "    .dataframe tbody tr th:only-of-type {\n",
       "        vertical-align: middle;\n",
       "    }\n",
       "\n",
       "    .dataframe tbody tr th {\n",
       "        vertical-align: top;\n",
       "    }\n",
       "\n",
       "    .dataframe thead th {\n",
       "        text-align: right;\n",
       "    }\n",
       "</style>\n",
       "<table border=\"1\" class=\"dataframe\">\n",
       "  <thead>\n",
       "    <tr style=\"text-align: right;\">\n",
       "      <th></th>\n",
       "      <th>Week</th>\n",
       "      <th>Year</th>\n",
       "      <th>GID</th>\n",
       "      <th>Name</th>\n",
       "      <th>Pos</th>\n",
       "      <th>Team</th>\n",
       "      <th>h/a</th>\n",
       "      <th>Oppt</th>\n",
       "      <th>YH points</th>\n",
       "      <th>YH salary</th>\n",
       "      <th>home_away</th>\n",
       "      <th>oppt_rank</th>\n",
       "      <th>game_count</th>\n",
       "    </tr>\n",
       "  </thead>\n",
       "  <tbody>\n",
       "    <tr>\n",
       "      <th>144</th>\n",
       "      <td>1</td>\n",
       "      <td>2018</td>\n",
       "      <td>5485</td>\n",
       "      <td>Hill; Tyreek</td>\n",
       "      <td>WR</td>\n",
       "      <td>kan</td>\n",
       "      <td>a</td>\n",
       "      <td>lac</td>\n",
       "      <td>38.8</td>\n",
       "      <td>28.0</td>\n",
       "      <td>-1</td>\n",
       "      <td>25.0</td>\n",
       "      <td>15</td>\n",
       "    </tr>\n",
       "    <tr>\n",
       "      <th>145</th>\n",
       "      <td>1</td>\n",
       "      <td>2018</td>\n",
       "      <td>5459</td>\n",
       "      <td>Thomas; Michael</td>\n",
       "      <td>WR</td>\n",
       "      <td>nor</td>\n",
       "      <td>h</td>\n",
       "      <td>tam</td>\n",
       "      <td>30.0</td>\n",
       "      <td>37.0</td>\n",
       "      <td>1</td>\n",
       "      <td>4.0</td>\n",
       "      <td>15</td>\n",
       "    </tr>\n",
       "    <tr>\n",
       "      <th>146</th>\n",
       "      <td>1</td>\n",
       "      <td>2018</td>\n",
       "      <td>3770</td>\n",
       "      <td>Jackson; DeSean</td>\n",
       "      <td>WR</td>\n",
       "      <td>tam</td>\n",
       "      <td>a</td>\n",
       "      <td>nor</td>\n",
       "      <td>29.1</td>\n",
       "      <td>14.0</td>\n",
       "      <td>-1</td>\n",
       "      <td>2.0</td>\n",
       "      <td>12</td>\n",
       "    </tr>\n",
       "    <tr>\n",
       "      <th>147</th>\n",
       "      <td>1</td>\n",
       "      <td>2018</td>\n",
       "      <td>5125</td>\n",
       "      <td>Cobb; Randall</td>\n",
       "      <td>WR</td>\n",
       "      <td>gnb</td>\n",
       "      <td>h</td>\n",
       "      <td>chi</td>\n",
       "      <td>24.7</td>\n",
       "      <td>15.0</td>\n",
       "      <td>1</td>\n",
       "      <td>31.0</td>\n",
       "      <td>8</td>\n",
       "    </tr>\n",
       "    <tr>\n",
       "      <th>148</th>\n",
       "      <td>1</td>\n",
       "      <td>2018</td>\n",
       "      <td>5212</td>\n",
       "      <td>Stills; Kenny</td>\n",
       "      <td>WR</td>\n",
       "      <td>mia</td>\n",
       "      <td>h</td>\n",
       "      <td>ten</td>\n",
       "      <td>24.6</td>\n",
       "      <td>17.0</td>\n",
       "      <td>1</td>\n",
       "      <td>26.0</td>\n",
       "      <td>14</td>\n",
       "    </tr>\n",
       "    <tr>\n",
       "      <th>...</th>\n",
       "      <td>...</td>\n",
       "      <td>...</td>\n",
       "      <td>...</td>\n",
       "      <td>...</td>\n",
       "      <td>...</td>\n",
       "      <td>...</td>\n",
       "      <td>...</td>\n",
       "      <td>...</td>\n",
       "      <td>...</td>\n",
       "      <td>...</td>\n",
       "      <td>...</td>\n",
       "      <td>...</td>\n",
       "      <td>...</td>\n",
       "    </tr>\n",
       "    <tr>\n",
       "      <th>6231</th>\n",
       "      <td>16</td>\n",
       "      <td>2018</td>\n",
       "      <td>5570</td>\n",
       "      <td>Cole; Keelan</td>\n",
       "      <td>WR</td>\n",
       "      <td>jac</td>\n",
       "      <td>a</td>\n",
       "      <td>mia</td>\n",
       "      <td>0.0</td>\n",
       "      <td>10.0</td>\n",
       "      <td>-1</td>\n",
       "      <td>10.0</td>\n",
       "      <td>15</td>\n",
       "    </tr>\n",
       "    <tr>\n",
       "      <th>6232</th>\n",
       "      <td>16</td>\n",
       "      <td>2018</td>\n",
       "      <td>5387</td>\n",
       "      <td>Hardy; Justin</td>\n",
       "      <td>WR</td>\n",
       "      <td>atl</td>\n",
       "      <td>a</td>\n",
       "      <td>car</td>\n",
       "      <td>0.0</td>\n",
       "      <td>10.0</td>\n",
       "      <td>-1</td>\n",
       "      <td>9.0</td>\n",
       "      <td>15</td>\n",
       "    </tr>\n",
       "    <tr>\n",
       "      <th>6233</th>\n",
       "      <td>16</td>\n",
       "      <td>2018</td>\n",
       "      <td>5692</td>\n",
       "      <td>Beebe; Chad</td>\n",
       "      <td>WR</td>\n",
       "      <td>min</td>\n",
       "      <td>a</td>\n",
       "      <td>det</td>\n",
       "      <td>0.0</td>\n",
       "      <td>10.0</td>\n",
       "      <td>-1</td>\n",
       "      <td>15.0</td>\n",
       "      <td>3</td>\n",
       "    </tr>\n",
       "    <tr>\n",
       "      <th>6234</th>\n",
       "      <td>16</td>\n",
       "      <td>2018</td>\n",
       "      <td>5595</td>\n",
       "      <td>Hall; Marvin</td>\n",
       "      <td>WR</td>\n",
       "      <td>atl</td>\n",
       "      <td>a</td>\n",
       "      <td>car</td>\n",
       "      <td>0.0</td>\n",
       "      <td>10.0</td>\n",
       "      <td>-1</td>\n",
       "      <td>9.0</td>\n",
       "      <td>15</td>\n",
       "    </tr>\n",
       "    <tr>\n",
       "      <th>6235</th>\n",
       "      <td>16</td>\n",
       "      <td>2018</td>\n",
       "      <td>5684</td>\n",
       "      <td>Moore; J'Mon</td>\n",
       "      <td>WR</td>\n",
       "      <td>gnb</td>\n",
       "      <td>a</td>\n",
       "      <td>nyj</td>\n",
       "      <td>-2.0</td>\n",
       "      <td>10.0</td>\n",
       "      <td>-1</td>\n",
       "      <td>6.0</td>\n",
       "      <td>9</td>\n",
       "    </tr>\n",
       "  </tbody>\n",
       "</table>\n",
       "<p>2278 rows × 13 columns</p>\n",
       "</div>"
      ],
      "text/plain": [
       "      Week  Year   GID             Name Pos Team h/a Oppt  YH points  \\\n",
       "144      1  2018  5485     Hill; Tyreek  WR  kan   a  lac       38.8   \n",
       "145      1  2018  5459  Thomas; Michael  WR  nor   h  tam       30.0   \n",
       "146      1  2018  3770  Jackson; DeSean  WR  tam   a  nor       29.1   \n",
       "147      1  2018  5125    Cobb; Randall  WR  gnb   h  chi       24.7   \n",
       "148      1  2018  5212    Stills; Kenny  WR  mia   h  ten       24.6   \n",
       "...    ...   ...   ...              ...  ..  ...  ..  ...        ...   \n",
       "6231    16  2018  5570     Cole; Keelan  WR  jac   a  mia        0.0   \n",
       "6232    16  2018  5387    Hardy; Justin  WR  atl   a  car        0.0   \n",
       "6233    16  2018  5692      Beebe; Chad  WR  min   a  det        0.0   \n",
       "6234    16  2018  5595     Hall; Marvin  WR  atl   a  car        0.0   \n",
       "6235    16  2018  5684     Moore; J'Mon  WR  gnb   a  nyj       -2.0   \n",
       "\n",
       "      YH salary  home_away  oppt_rank  game_count  \n",
       "144        28.0         -1       25.0          15  \n",
       "145        37.0          1        4.0          15  \n",
       "146        14.0         -1        2.0          12  \n",
       "147        15.0          1       31.0           8  \n",
       "148        17.0          1       26.0          14  \n",
       "...         ...        ...        ...         ...  \n",
       "6231       10.0         -1       10.0          15  \n",
       "6232       10.0         -1        9.0          15  \n",
       "6233       10.0         -1       15.0           3  \n",
       "6234       10.0         -1        9.0          15  \n",
       "6235       10.0         -1        6.0           9  \n",
       "\n",
       "[2278 rows x 13 columns]"
      ]
     },
     "execution_count": 32,
     "metadata": {},
     "output_type": "execute_result"
    }
   ],
   "source": [
    "df_test,players_test = prepare_data(ff_2018,'WR',3)\n",
    "df_test"
   ]
  },
  {
   "cell_type": "markdown",
   "metadata": {},
   "source": [
    "# Simple Model - Last $n$ games\n",
    "\n",
    "We'll start with a simple linear model. For now, we will keep using our example where we constructed a dataset for quarterbacks in the variable `df_POS`, along with `relevant_players`\n",
    "\n",
    "The points scored in the previous $n$ games will be the only data considered when making a prediction.  Let's look at what the model would look like for only one player, say Andy Dalton, with $n = 3$."
   ]
  },
  {
   "cell_type": "code",
   "execution_count": 33,
   "metadata": {},
   "outputs": [
    {
     "name": "stdout",
     "output_type": "stream",
     "text": [
      "Player: Dalton; Andy\n",
      "Number of games played: 11\n",
      "Points: [17.52 26.6  18.08 25.78 13.92 17.16  8.92 20.2   8.92 19.34  9.1 ]\n"
     ]
    }
   ],
   "source": [
    "pl = relevant_players[7]\n",
    "pl_points = df_POS[df_POS['Name']==pl]['YH points'].values\n",
    "\n",
    "print('Player:', pl)\n",
    "print('Number of games played:', len(pl_points))\n",
    "print('Points:', pl_points)"
   ]
  },
  {
   "cell_type": "markdown",
   "metadata": {},
   "source": [
    "Andy Dalton played 11 games.  So we could try to build a model that predicted the points he scored in his 4th game, based on his first 3,  and write:\n",
    "\n",
    "$$ s_1 x_1 + s_2 x_2 + s_3 x_3 = s_4 $$\n",
    "\n",
    "where $s_i$ is the score of game $i$ and $x_i$ are the coefficients we want to find.\n",
    "\n",
    "Similarly we can try to predict the points he scored in the 5th games based on games 2,3, and 4.\n",
    "\n",
    "$$ s_2 x_1 + s_3 x_2 + s_4 x_3 = s_5 $$\n",
    "\n",
    "or more generally:\n",
    "\n",
    "$$ s_{j-3} x_1 + s_{j-2} x_2 + s_{j-1} x_3 = s_{j} $$"
   ]
  },
  {
   "cell_type": "markdown",
   "metadata": {},
   "source": [
    "I.e. a \"local\" least squares system might look something like\n",
    "\n",
    "$$\\mathbf{Ax}\\cong \\mathbf{b}$$\n",
    "\n",
    "where\n",
    "\n",
    "$$\\mathbf{A} = \\begin{pmatrix} 17.52 & 26.6 & 18.08\\\\ 26.6 & 18.08 & 25.78 \\\\ 18.08 & 25.78 & 13.92 \\\\\n",
    "25.78 & 13.92 & 17.16 \\\\ 13.92 & 17.16 & 8.92 \\\\ 17.16 & 8.92 & 20.2 \\\\ 8.92 & 20.2 & 8.92 \\\\\n",
    "20.2 & 8.92 & 19.34 \\end{pmatrix}, \\hspace{5mm} \\mathbf{b}= \\begin{pmatrix} 25.78 \\\\ 13.92 \\\\ 17.16 \\\\ 8.92 \\\\\n",
    "20.2 \\\\ 8.92 \\\\ 19.34 \\\\ 9.1\\end{pmatrix}$$"
   ]
  },
  {
   "cell_type": "markdown",
   "metadata": {},
   "source": [
    "This was with $n = 3$ games.  If instead, we base our \"local\" least squares on the previous $n = 4$ games, then our system would instead look like:\n",
    "\n",
    "$$\\mathbf{A} = \\begin{pmatrix} 17.52 & 26.6 & 18.08 & 25.78\\\\ 26.6 & 18.08 & 25.78 & 13.92 \\\\ \n",
    "18.08 & 25.78 & 13.92 & 17.16\\\\ 25.78 & 13.92 & 17.16 & 8.92 \\\\ 13.92 & 17.16 & 8.92 & 20.2 \\\\ \n",
    "17.16 & 8.92 & 20.2 & 8.92\\\\ 8.92 & 20.2 & 8.92 & 19.34 \\end{pmatrix},\\hspace{4mm} \\mathbf{b}= \\begin{pmatrix} 13.92 \\\\ 17.16 \\\\ 8.92 \\\\\n",
    "20.2 \\\\ 8.92 \\\\ 19.34 \\\\ 9.1\\end{pmatrix} $$"
   ]
  },
  {
   "cell_type": "markdown",
   "metadata": {},
   "source": [
    "**Check your answer:**\n",
    "\n",
    "Write a function that generates this local system for a given (relevant) player. The function returns the arrays ${\\bf A}$ and ${\\bf b}$."
   ]
  },
  {
   "cell_type": "code",
   "execution_count": 35,
   "metadata": {},
   "outputs": [],
   "source": [
    "#grade_clear\n",
    "#clear\n",
    "def player_point_history(df, pl, n_games):   \n",
    "    # df: dataframe\n",
    "    # pl (string): name of a player\n",
    "    # n_games (int): number of games used for the prediction\n",
    "    \n",
    "    pts = df[df['Name']==pl]['YH points'].values\n",
    "    \n",
    "    # complete the rest of the function to get A and b  \n",
    "    A = ...\n",
    "    b = ...\n",
    "    \n",
    "    #clear\n",
    "      \n",
    "    m = pts[n_games:].shape[0]\n",
    "    A = np.zeros((m,n_games))\n",
    "    for k in range(n_games):\n",
    "        A[:,k] = pts[k:-n_games + k]\n",
    "    b = pts[n_games:]\n",
    "      \n",
    "    #clear\n",
    "    return A,b"
   ]
  },
  {
   "cell_type": "markdown",
   "metadata": {},
   "source": [
    " Use the example above to debug your function (i.e., data for Andy Dalton). Your function should however work for any player."
   ]
  },
  {
   "cell_type": "code",
   "execution_count": 36,
   "metadata": {},
   "outputs": [
    {
     "name": "stdout",
     "output_type": "stream",
     "text": [
      "[[17.52 26.6  18.08 25.78]\n",
      " [26.6  18.08 25.78 13.92]\n",
      " [18.08 25.78 13.92 17.16]\n",
      " [25.78 13.92 17.16  8.92]\n",
      " [13.92 17.16  8.92 20.2 ]\n",
      " [17.16  8.92 20.2   8.92]\n",
      " [ 8.92 20.2   8.92 19.34]]\n",
      "[13.92 17.16  8.92 20.2   8.92 19.34  9.1 ]\n"
     ]
    }
   ],
   "source": [
    "A,b = player_point_history(df_POS, relevant_players[7], 4) \n",
    "print(A)\n",
    "print(b)"
   ]
  },
  {
   "cell_type": "markdown",
   "metadata": {},
   "source": [
    "Now, with this function, we can loop over the relevant players, generate their local systems, and \"stack\" them on top of each other to generate the global system.  We'll do this with $n = 3$"
   ]
  },
  {
   "cell_type": "code",
   "execution_count": 37,
   "metadata": {},
   "outputs": [
    {
     "name": "stdout",
     "output_type": "stream",
     "text": [
      "(383,)\n",
      "(383, 3)\n"
     ]
    }
   ],
   "source": [
    "n_games = 3\n",
    "\n",
    "# empty array for right hand side of size M x 1\n",
    "pts_scored = np.array([])\n",
    "\n",
    "# empty array for matrix of size M x n_games.  We had to reshape to size 0 x n_games to allow for \"stacking\" \n",
    "game_hist = np.array([]).reshape(0,n_games)\n",
    "\n",
    "for pl in relevant_players:\n",
    "    # generate local system\n",
    "    a,c = player_point_history(df_POS,pl,n_games)\n",
    "    \n",
    "    # use numpy.append to append local system to global vector\n",
    "    pts_scored = np.append(pts_scored,c)\n",
    "    \n",
    "    # use numpy.vstack (i.e. \"vertical stack\") to stack the global matrix and the local matrix\n",
    "    game_hist = np.vstack((game_hist,a))\n",
    "    \n",
    "print(pts_scored.shape)\n",
    "print(game_hist.shape)"
   ]
  },
  {
   "cell_type": "markdown",
   "metadata": {},
   "source": [
    "### When should we start a player?\n",
    "\n",
    "It would be an overly ambitious task to try to predict a players exact point total.  What we can do instead is set a \"threshold\".  I.e. if a player's points exceed this threshold, then we can deem them \"startable\".  If they don't exceed this threshold, then we should look choose a different player.\n",
    "\n",
    "What threshold should we use?  That's debatable, but I've compiled the following dictionary based on additional data I collected from nfl.com."
   ]
  },
  {
   "cell_type": "code",
   "execution_count": 38,
   "metadata": {},
   "outputs": [],
   "source": [
    "start_threshold = {'QB': 19.3999, 'RB': 14.599, 'WR': 15.099, 'TE': 7.899, 'Def': 7.499}"
   ]
  },
  {
   "cell_type": "markdown",
   "metadata": {},
   "source": [
    "So, if a quarterback scores more than 19.3999, we declare them startable.  If a defense scores less than 7.499, then we should pick a different defense, etc.\n",
    "\n",
    "**We can finally set up our least squares system.**\n",
    "\n",
    "Set the matrix `A_stack` to the variable `game_hist` defined above. "
   ]
  },
  {
   "cell_type": "code",
   "execution_count": 39,
   "metadata": {},
   "outputs": [],
   "source": [
    "A_stack = game_hist"
   ]
  },
  {
   "cell_type": "markdown",
   "metadata": {},
   "source": [
    "**Check your answer:**\n",
    "\n",
    "The components of the vector `b_stack` should have a value of +1.0 if the corresponding component of `pts_scored` exceeds the threshold, and -1.0 if it lies below the threshold.  (I chose the thresholds so that it is impossible for the points to equal the threshold). Define the 1d numpy array `b_stack`. Recall we are still setting up our problem to select the quarterback players."
   ]
  },
  {
   "cell_type": "code",
   "execution_count": 40,
   "metadata": {},
   "outputs": [],
   "source": [
    "#grade_clear\n",
    "threshold = start_threshold[POS]\n",
    "b_stack = np.sign(pts_scored - threshold)"
   ]
  },
  {
   "cell_type": "markdown",
   "metadata": {},
   "source": [
    "**Check your answer:**\n",
    "\n",
    "Solve the Linear Least Squares ${\\bf A}_{stack} {\\bf x}_s \\cong {\\bf b}_{stack}$ problem for $\\mathbf{x}_s$.  You can use `numpy.linalg.lstsq` to compute the least-squares solution. Store your result as `xs`."
   ]
  },
  {
   "cell_type": "code",
   "execution_count": 41,
   "metadata": {},
   "outputs": [],
   "source": [
    "#grade_clear\n",
    "LSTQ = la.lstsq(A_stack,b_stack,rcond=None)\n",
    "xs = LSTQ[0]"
   ]
  },
  {
   "cell_type": "markdown",
   "metadata": {},
   "source": [
    "Once you have the model coefficients in `xs`, you can compute the numpy array `b_predict`:"
   ]
  },
  {
   "cell_type": "code",
   "execution_count": 42,
   "metadata": {},
   "outputs": [],
   "source": [
    "b_predict = np.sign(A_stack@xs)"
   ]
  },
  {
   "cell_type": "markdown",
   "metadata": {},
   "source": [
    "We can have the following situations:\n",
    "- The prediction tells you to start a player that ends up performing poorly (a \"false positive\")\n",
    "- The prediction tells you to exclude a player that ends up performing well (a \"false negative\")\n",
    "- The prediction tells you to start a player that ends up performing well (a correct prediction)"
   ]
  },
  {
   "cell_type": "markdown",
   "metadata": {},
   "source": [
    "Here we compute the number of false positives, false negatives, and correct prediction.  We store them as `false_positive`, `false_negative` and `correct_prediction` respectively."
   ]
  },
  {
   "cell_type": "code",
   "execution_count": 43,
   "metadata": {},
   "outputs": [],
   "source": [
    "false_positive = np.sum(b_predict > b_stack)\n",
    "false_negative = np.sum(b_stack > b_predict)\n",
    "correct_prediction = np.sum(b_stack == b_predict)"
   ]
  },
  {
   "cell_type": "markdown",
   "metadata": {},
   "source": [
    "What percentage of each do we obtain on the data?"
   ]
  },
  {
   "cell_type": "code",
   "execution_count": 44,
   "metadata": {},
   "outputs": [
    {
     "name": "stdout",
     "output_type": "stream",
     "text": [
      "13\n",
      "138\n",
      "232\n",
      "\n",
      "0.033942558746736295\n",
      "0.360313315926893\n",
      "0.6057441253263708\n"
     ]
    }
   ],
   "source": [
    "print(false_positive)\n",
    "print(false_negative)\n",
    "print(correct_prediction)\n",
    "print()\n",
    "print(false_positive/b_stack.shape[0])\n",
    "print(false_negative/b_stack.shape[0])\n",
    "print(correct_prediction/b_stack.shape[0])"
   ]
  },
  {
   "cell_type": "markdown",
   "metadata": {},
   "source": [
    "The model is only correct 60.57% of the time.  However, it only return a \"false positive\" 3.39% of the time, which is very nice: if the model tells you to start a player, there's a good chance you will be happy with the results."
   ]
  },
  {
   "cell_type": "markdown",
   "metadata": {},
   "source": [
    "**Check your answer:**\n",
    "\n",
    "Let's put it all together into a single function `linear_predictor`.  This will mostly be copying and pasting from above.  The function should return the variables `A`, `b`, `x`.  \n",
    "```python\n",
    "def linear_predictor(ff_data, Pos, min_games, n_games, threshold):    \n",
    "    df,relevant_players = prepare_data(ff_data,Pos,min_games)   \n",
    "    # complete the code  \n",
    "    return A, b, x\n",
    "```"
   ]
  },
  {
   "cell_type": "code",
   "execution_count": 45,
   "metadata": {},
   "outputs": [],
   "source": [
    "#grade_clear\n",
    "#clear\n",
    "def linear_predictor(ff_data, Pos, min_games, n_games, threshold):\n",
    "    \n",
    "    df,relevant_players = prepare_data(ff_data,Pos,min_games)\n",
    "    \n",
    "    # complete the code\n",
    "    \n",
    "    A = ...\n",
    "    b = ...\n",
    "    x = ...\n",
    "    \n",
    "    #clear   \n",
    "    pts_scored = np.array([])\n",
    "    game_hist = np.array([]).reshape(0,n_games)\n",
    "\n",
    "    for pl in relevant_players:\n",
    "        a,c = player_point_history(df,pl,n_games)\n",
    "        pts_scored = np.append(pts_scored,c)\n",
    "        game_hist = np.vstack((game_hist,a))\n",
    "    \n",
    "    A = game_hist\n",
    "    b = np.sign(pts_scored - threshold)\n",
    "    \n",
    "    LSTQ = np.linalg.lstsq(A,b,rcond = None)\n",
    "    x = LSTQ[0]\n",
    "    #clear\n",
    "\n",
    "    \n",
    "    return A, b, x"
   ]
  },
  {
   "cell_type": "markdown",
   "metadata": {},
   "source": [
    "We can call the routine for any position, and we can tweak the number of `min_games` and `n_games`.  You can also tweak the threshold.  Try changing the input variables and see how this affects model accuracy"
   ]
  },
  {
   "cell_type": "code",
   "execution_count": 46,
   "metadata": {},
   "outputs": [],
   "source": [
    "Pos = 'WR'\n",
    "min_games = 5  # minimum number of games for a player to be included as \"relevant\"\n",
    "n_games = 3    # number of prior games to be used for the prediction\n",
    "threshold = start_threshold[Pos]\n",
    "\n",
    "A, b, x = linear_predictor(ff_2018, Pos, min_games, n_games, threshold)\n",
    "b_predict = np.sign(A@x)"
   ]
  },
  {
   "cell_type": "markdown",
   "metadata": {},
   "source": [
    "**Try this!**\n",
    "\n",
    "Compute the number of false positives, false negatives, and correct prediction.  Store them as `false_positive`, `false_negative` and `correct_prediction` respectively."
   ]
  },
  {
   "cell_type": "code",
   "execution_count": 47,
   "metadata": {},
   "outputs": [],
   "source": [
    "#clear\n",
    "false_negative = np.sum(b > b_predict)\n",
    "false_positive = np.sum(b_predict > b)\n",
    "correct_prediction = np.sum(b == b_predict)"
   ]
  },
  {
   "cell_type": "code",
   "execution_count": 48,
   "metadata": {},
   "outputs": [
    {
     "name": "stdout",
     "output_type": "stream",
     "text": [
      "201\n",
      "144\n",
      "1287\n",
      "\n",
      "0.12316176470588236\n",
      "0.08823529411764706\n",
      "0.7886029411764706\n"
     ]
    }
   ],
   "source": [
    "print(false_negative)\n",
    "print(false_positive)\n",
    "print(correct_prediction)\n",
    "print()\n",
    "print(false_negative/b.shape[0])\n",
    "print(false_positive/b.shape[0])\n",
    "print(correct_prediction/b.shape[0])"
   ]
  },
  {
   "cell_type": "markdown",
   "metadata": {},
   "source": [
    "# Enriched model"
   ]
  },
  {
   "cell_type": "markdown",
   "metadata": {},
   "source": [
    "Notice we didn't make use of the fact that a player is playing on home or on the road, or the ranking of the opponent.  Let's try to enrich the features used in this problem to include this data.  Let's go back to Andy Dalton:"
   ]
  },
  {
   "cell_type": "code",
   "execution_count": 50,
   "metadata": {},
   "outputs": [
    {
     "name": "stdout",
     "output_type": "stream",
     "text": [
      "Player: Dalton; Andy\n",
      "Points: [17.52 26.6  18.08 25.78 13.92 17.16  8.92 20.2   8.92 19.34  9.1 ]\n",
      "Location: [-1  1 -1 -1  1  1 -1  1  1 -1  1]\n",
      "Opp Rank: [21. 29.  9.  1. 10. 17.  5.  4.  2. 29. 13.]\n"
     ]
    }
   ],
   "source": [
    "pl = relevant_players[7]\n",
    "pl_points = df_POS[df_POS['Name']==pl]['YH points'].values\n",
    "pl_home_away = df_POS[df_POS['Name']==pl]['home_away'].values\n",
    "pl_oppt_rank = df_POS[df_POS['Name']==pl]['oppt_rank'].values\n",
    "\n",
    "print('Player:', pl)\n",
    "print('Points:', pl_points)\n",
    "print('Location:', pl_home_away)\n",
    "print('Opp Rank:', pl_oppt_rank)"
   ]
  },
  {
   "cell_type": "markdown",
   "metadata": {},
   "source": [
    "When $n = 3$ we had the following system when we only took previous games played:\n",
    "\n",
    "$$\\mathbf{A} = \\begin{pmatrix} 17.52 & 26.6 & 18.08\\\\ 26.6 & 18.08 & 25.78 \\\\ 18.08 & 25.78 & 13.92 \\\\\n",
    "25.78 & 13.92 & 17.16 \\\\ 13.92 & 17.16 & 8.92 \\\\ 17.16 & 8.92 & 20.2 \\\\ 8.92 & 20.2 & 8.92 \\\\\n",
    "20.2 & 8.92 & 19.34 \\end{pmatrix}, \\hspace{5mm} \\mathbf{b}= \\begin{pmatrix} 25.78 \\\\ 13.92 \\\\ 17.16 \\\\ 8.92 \\\\\n",
    "20.2 \\\\ 8.92 \\\\ 19.34 \\\\ 9.1\\end{pmatrix}$$\n",
    "\n",
    "With the location and opponent data, it should now look like this:\n",
    "\n",
    "$$\\mathbf{A} = \\begin{pmatrix} 17.52 & 26.6 & 18.08 & -1 & 1\\\\ 26.6 & 18.08 & 25.78 & 1 & 10 \\\\ 18.08 & 25.78 & 13.92 & 1 & 17\\\\ 25.78 & 13.92 & 17.16 & -1 & 5\\\\ 13.92 & 17.16 & 8.92 & 1 & 4\\\\ 17.16 & 8.92 & 20.2 & 1 & 2\\\\ 8.92 & 20.2 & 8.92 & -1 & 29 \\\\\n",
    "20.2 & 8.92 & 19.34  & 1 & 13\\end{pmatrix}, \\hspace{5mm} \\mathbf{b}= \\begin{pmatrix} 25.78 \\\\ 13.92 \\\\ 17.16 \\\\ 8.92 \\\\\n",
    "20.2 \\\\ 8.92 \\\\ 19.34 \\\\ 9.1\\end{pmatrix}$$\n",
    "\n",
    "which represents the model:\n",
    "\n",
    "$$ s_{j-3}\\, x_1 + s_{j-2}\\, x_2 + s_{j-1}\\, x_3 + h_{j} \\,x_4 + r_{j}\\, x_5 = s_{j} $$\n",
    "\n",
    "where $h_j$ indicates if game $j$ was played home or away, and $r_j$ indicates the ranking of the opponent team."
   ]
  },
  {
   "cell_type": "markdown",
   "metadata": {},
   "source": [
    "**Check your answer:**\n",
    "\n",
    "Create an enriched linear regression, by adding these two extra columns to the matrix $\\mathbf{A}$.  \n",
    "\n",
    "Complete the function `linear_predictor_enriched` which is very similar to the function `linear_predictor` from above, with the modified `A` matrix that includes these two additional columns."
   ]
  },
  {
   "cell_type": "code",
   "execution_count": 51,
   "metadata": {},
   "outputs": [],
   "source": [
    "#grade_clear\n",
    "#clear\n",
    "def linear_predictor_enriched(ff_data, Pos, min_games, n_games, threshold):\n",
    "    \n",
    "    df,relevant_players = prepare_data(ff_data,Pos,min_games)\n",
    "    \n",
    "    A = ...\n",
    "    b = ...\n",
    "    x = ...\n",
    "    \n",
    "    #clear   \n",
    "    \n",
    "    pts_scored = np.array([])\n",
    "    game_hist = np.array([]).reshape(0,n_games+2)\n",
    "\n",
    "    for pl in relevant_players:\n",
    "        a,c = player_point_history(df,pl,n_games)\n",
    "        location = df[df['Name']==pl]['home_away'].values\n",
    "        opponent = df[df['Name']==pl]['oppt_rank'].values\n",
    "        last_two_columns = np.vstack((location[n_games:],opponent[n_games:])).T\n",
    "        anew = np.hstack((a,last_two_columns ))\n",
    "        \n",
    "        pts_scored = np.append(pts_scored,c)\n",
    "        game_hist = np.vstack((game_hist,anew))\n",
    "        \n",
    "    \n",
    "    b = np.sign(pts_scored - threshold)\n",
    "    A = game_hist\n",
    "    \n",
    "    LSTQ = np.linalg.lstsq(A,b,rcond = None)\n",
    "    x = LSTQ[0]\n",
    "    \n",
    "    #clear\n",
    "\n",
    "    return A, b, x"
   ]
  },
  {
   "cell_type": "markdown",
   "metadata": {},
   "source": [
    "This enriched version is considerably better for running backs, with our standard inputs:"
   ]
  },
  {
   "cell_type": "code",
   "execution_count": 52,
   "metadata": {},
   "outputs": [],
   "source": [
    "Pos = 'RB'\n",
    "min_games = 5\n",
    "n_games = 3\n",
    "threshold = start_threshold[Pos]\n",
    "\n",
    "A, b, x  = linear_predictor(ff_2018, Pos, min_games, n_games, threshold)\n",
    "b_predict = np.sign(A@x)"
   ]
  },
  {
   "cell_type": "markdown",
   "metadata": {},
   "source": [
    "Compute the number of false positives, false negatives, and correct prediction.  Store them as `false_positive`, `false_negative` and `correct_prediction` respectively."
   ]
  },
  {
   "cell_type": "code",
   "execution_count": 53,
   "metadata": {},
   "outputs": [],
   "source": [
    "false_negative = np.sum(b > b_predict)\n",
    "false_positive = np.sum(b_predict > b)\n",
    "correct_prediction = np.sum(b == b_predict)"
   ]
  },
  {
   "cell_type": "code",
   "execution_count": 54,
   "metadata": {},
   "outputs": [
    {
     "name": "stdout",
     "output_type": "stream",
     "text": [
      "Standard Model\n",
      "Fraction of false negatives:     0.161400512382579\n",
      "Fraction of false positives:     0.161400512382579\n",
      "Fraction of correct predictions: 0.677198975234842\n"
     ]
    }
   ],
   "source": [
    "print('Standard Model')\n",
    "print('Fraction of false negatives:    ', false_negative/b.shape[0])\n",
    "print('Fraction of false positives:    ', false_positive/b.shape[0])\n",
    "print('Fraction of correct predictions:', correct_prediction/b.shape[0])"
   ]
  },
  {
   "cell_type": "markdown",
   "metadata": {},
   "source": [
    "And with the enriched model:"
   ]
  },
  {
   "cell_type": "code",
   "execution_count": 55,
   "metadata": {},
   "outputs": [],
   "source": [
    "A, b, x = linear_predictor_enriched(ff_2018, Pos, min_games, n_games, threshold)\n",
    "b_predict = np.sign(A@x)"
   ]
  },
  {
   "cell_type": "markdown",
   "metadata": {},
   "source": [
    "Compute the number of false positives, false negatives, and correct prediction.  Store them as `false_positive`, `false_negative` and `correct_prediction` respectively."
   ]
  },
  {
   "cell_type": "code",
   "execution_count": 56,
   "metadata": {},
   "outputs": [],
   "source": [
    "false_negative = np.sum(b > b_predict)\n",
    "false_positive = np.sum(b_predict > b)\n",
    "correct_prediction = np.sum(b == b_predict)"
   ]
  },
  {
   "cell_type": "code",
   "execution_count": 57,
   "metadata": {},
   "outputs": [
    {
     "name": "stdout",
     "output_type": "stream",
     "text": [
      "Enriched Model\n",
      "Fraction of false negatives:     0.10930828351836037\n",
      "Fraction of false positives:     0.05807002561912895\n",
      "Fraction of correct predictions: 0.8326216908625107\n"
     ]
    }
   ],
   "source": [
    "print('Enriched Model')\n",
    "print('Fraction of false negatives:    ', false_negative/b.shape[0])\n",
    "print('Fraction of false positives:    ', false_positive/b.shape[0])\n",
    "print('Fraction of correct predictions:', correct_prediction/b.shape[0])"
   ]
  },
  {
   "cell_type": "markdown",
   "metadata": {},
   "source": [
    "# Validation set\n",
    "Of course, you never want to conclude anything about your model based on the data you used to construct it.  You should validate its accuracy on a different data set.  We can do so using football data from another year.  We can also select the optimal **hyperparameters** (a fancy word for parameters) based on this validation set.\n",
    "\n",
    "Some questions to ask as you test the model on the validation set:\n",
    "\n",
    "- Should we include the home/away and opponent data or not?\n",
    "- Is our decision to exclude players that have played less than 5 games a good one?  Should we bump that number up to 7 games?  Or down to 3?\n",
    "- How many games should we include in our history?  Is 3 games really the best choice?  What about 5?  What about just the last game?\n",
    "\n",
    "I.e. the inclusion of the extra data, the minimum number of games, and the history length are the **hyperparameters** for this model."
   ]
  },
  {
   "cell_type": "code",
   "execution_count": 58,
   "metadata": {},
   "outputs": [],
   "source": [
    "ff_2019 = pd.read_csv('FF-data-2019.csv')\n",
    "\n",
    "# position\n",
    "Pos = 'WR'\n",
    "\n",
    "# these are your hyperparameters\n",
    "min_games = 5\n",
    "n_games = 2\n",
    "enriched = True\n",
    "\n",
    "# build model on 2018 data and retrieve least squares solution x\n",
    "if enriched:\n",
    "    OUT_2018 = linear_predictor_enriched(ff_2018, Pos, min_games,n_games,threshold)\n",
    "    x = OUT_2018[2]\n",
    "else:\n",
    "    OUT_2018 = linear_predictor(ff_2018, Pos, min_games,n_games,threshold)\n",
    "    x = OUT_2018[2]\n",
    "    \n",
    "\n",
    "# retrieve Data matrix A and outcomes vector b using 2019 data\n",
    "if enriched:\n",
    "    OUT_2019 = linear_predictor_enriched(ff_2019, Pos, min_games,n_games,threshold)\n",
    "    A,b = OUT_2019[0], OUT_2019[1]\n",
    "else:\n",
    "    OUT_2019 = linear_predictor(ff_2019, Pos, min_games,n_games,threshold)\n",
    "    A,b = OUT_2019[0], OUT_2019[1]\n",
    "    \n",
    "# predict results from 2019, using the model parameters (array x) from the 2018 data\n",
    "b_predict = np.sign(A@x)"
   ]
  },
  {
   "cell_type": "markdown",
   "metadata": {},
   "source": [
    "Compute the number of false positives, false negatives, and correct prediction.  Store them as `false_positive`, `false_negative` and `correct_prediction` respectively."
   ]
  },
  {
   "cell_type": "code",
   "execution_count": 59,
   "metadata": {},
   "outputs": [],
   "source": [
    "false_negative = np.sum(b > b_predict)\n",
    "false_positive = np.sum(b_predict > b)\n",
    "correct_prediction = np.sum(b == b_predict)"
   ]
  },
  {
   "cell_type": "code",
   "execution_count": 60,
   "metadata": {},
   "outputs": [
    {
     "name": "stdout",
     "output_type": "stream",
     "text": [
      "Fraction of false negatives:     0.11243781094527364\n",
      "Fraction of false positives:     0.022885572139303482\n",
      "Fraction of correct predictions: 0.8646766169154229\n"
     ]
    }
   ],
   "source": [
    "print('Fraction of false negatives:    ', false_negative/b.shape[0])\n",
    "print('Fraction of false positives:    ', false_positive/b.shape[0])\n",
    "print('Fraction of correct predictions:', correct_prediction/b.shape[0])"
   ]
  },
  {
   "cell_type": "markdown",
   "metadata": {
    "slideshow": {
     "slide_type": ""
    }
   },
   "source": [
    ";6397652130579010^26081203740?\n",
    "## What do you think? Tune your hyperparameters, check different positions. "
   ]
  },
  {
   "cell_type": "code",
   "execution_count": null,
   "metadata": {},
   "outputs": [],
   "source": []
  }
 ],
 "metadata": {
  "kernelspec": {
   "display_name": "Python 3",
   "language": "python",
   "name": "python3"
  },
  "language_info": {
   "codemirror_mode": {
    "name": "ipython",
    "version": 3
   },
   "file_extension": ".py",
   "mimetype": "text/x-python",
   "name": "python",
   "nbconvert_exporter": "python",
   "pygments_lexer": "ipython3",
   "version": "3.8.0"
  }
 },
 "nbformat": 4,
 "nbformat_minor": 2
}
