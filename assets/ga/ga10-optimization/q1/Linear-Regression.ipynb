{
 "cells": [
  {
   "cell_type": "code",
   "execution_count": 1,
   "metadata": {},
   "outputs": [],
   "source": [
    "import numpy as np\n",
    "import numpy.linalg as la\n",
    "import scipy.optimize as opt\n",
    "import matplotlib.pyplot as plt"
   ]
  },
  {
   "cell_type": "markdown",
   "metadata": {},
   "source": [
    "# Steepest Descent in Machine Learning"
   ]
  },
  {
   "cell_type": "markdown",
   "metadata": {},
   "source": [
    "Recall that steepest descent is an optimization algorithm that computes the minimum of a function by\n",
    "\n",
    "$$x_{k+1} = x_k - \\alpha_k \\nabla f(x_k),$$\n",
    "\n",
    "where $x_k$ is the solution at step $k$, and $\\alpha_k$ is a line search parameter that is computed by solving the 1-dimensional optimization problem\n",
    "\n",
    "$$\n",
    "\\alpha_k = \\min_{\\alpha_k} f(x_k - \\alpha_k \\nabla f(x_k))\n",
    "$$\n",
    "\n",
    "We will explore how we can use steepest descent in machine learning."
   ]
  },
  {
   "cell_type": "markdown",
   "metadata": {},
   "source": [
    "## Linear Regression\n",
    "\n",
    "In this example, we will use steepest descent to compute a linear regression (line of best fit) model over some data.\n",
    "\n",
    "(This isn't the only way of computing the line of best fit and later on in the course we will explore other methods for accomplishing this same task.)"
   ]
  },
  {
   "cell_type": "markdown",
   "metadata": {},
   "source": [
    "The data that we will be working with is an $n \\times 2$ numpy array where each row represents an $(x_i,y_i)$ pair."
   ]
  },
  {
   "cell_type": "code",
   "execution_count": 2,
   "metadata": {},
   "outputs": [],
   "source": [
    "points = np.genfromtxt('data.csv', delimiter=',')"
   ]
  },
  {
   "cell_type": "markdown",
   "metadata": {},
   "source": [
    "Plot the data to see what it looks like."
   ]
  },
  {
   "cell_type": "code",
   "execution_count": 3,
   "metadata": {},
   "outputs": [
    {
     "data": {
      "image/png": "[encoded data removed]",
      "text/plain": [
       "<Figure size 432x288 with 1 Axes>"
      ]
     },
     "metadata": {
      "needs_background": "light"
     },
     "output_type": "display_data"
    }
   ],
   "source": [
    "plt.scatter(points[:,0], points[:,1])\n",
    "plt.xlabel('x')\n",
    "plt.ylabel('y')\n",
    "plt.show()"
   ]
  },
  {
   "cell_type": "markdown",
   "metadata": {},
   "source": [
    "The first step in applying steepest descent is to formulate a function that we want to minimize.\n",
    "\n",
    "To compute the line of best fit, we want to construct a line ($y = mx+b$) and minimize the residual between this line and the data points. Therefore, we want to minimize the following:\n",
    "$$\n",
    "E(m,b) = \\frac{1}{N} \\sum_{i=1}^N (y_i - (mx_i+b))^2\n",
    "$$\n",
    "\n",
    "that can be written as a unconstrained optimization problem:\n",
    "\n",
    "$$\\min_{m,b} E(m,b) $$"
   ]
  },
  {
   "cell_type": "markdown",
   "metadata": {},
   "source": [
    "Since we will be using steepest descent to solve this optimization problem, we need to be able to evaluate $E$ and $\\nabla E$. \n",
    "\n",
    "**Check your answer:**\n",
    "\n",
    "Complete the function below to compute the residual $E(m,b)$.\n"
   ]
  },
  {
   "cell_type": "code",
   "execution_count": 4,
   "metadata": {},
   "outputs": [],
   "source": [
    "#grade_clear\n",
    "#clear\n",
    "def E(mb, data):\n",
    "    # Compute residual in the linear regression model\n",
    "    # mb: Numpy array of length 2 with first entry as m and second entry as b; mb = np.array([m,b])\n",
    "    # data: 2D Numpy array of length nx2 where each row represents an (xi,yi) pair with n data points     \n",
    "    # add code to compute E \n",
    "    \n",
    "    Evalue = ...\n",
    "    \n",
    "    #clear\n",
    "    n,_ = data.shape\n",
    "    m = mb[0]\n",
    "    b = mb[1]\n",
    "    totalError = np.sum((data[:,1] - (m*data[:,0]+b))**2)\n",
    "    Evalue = totalError/n\n",
    "    #clear\n",
    "\n",
    "    return Evalue"
   ]
  },
  {
   "cell_type": "markdown",
   "metadata": {},
   "source": [
    "You can try $m=1$ and $b=2$ as arguments to help debugging your code snippet. Your function should return `594.259213603709`."
   ]
  },
  {
   "cell_type": "code",
   "execution_count": 5,
   "metadata": {},
   "outputs": [
    {
     "name": "stdout",
     "output_type": "stream",
     "text": [
      "594.259213603709\n"
     ]
    }
   ],
   "source": [
    "m = 1.\n",
    "b = 2.\n",
    "mb = np.array([m,b])\n",
    "print(E(mb, points))"
   ]
  },
  {
   "cell_type": "markdown",
   "metadata": {},
   "source": [
    "**Check your answer:**\n",
    "\n",
    "We now need to compute the gradient of the residual function $E$, i.e.,  $\\nabla E$.\n",
    "\n",
    "You should compute the analytical form of these derivatives by hand (it is a good practice!) You can also later compare your results with SymPy. Note that the independent variables are m and b. \n"
   ]
  },
  {
   "cell_type": "code",
   "execution_count": 6,
   "metadata": {},
   "outputs": [],
   "source": [
    "#grade_clear\n",
    "#clear\n",
    "def gradE(mb, data):\n",
    "    # Compute the gradient of the residual in the linear regression model\n",
    "    # mb: Numpy array of length 2 with first entry as m and second entry as b\n",
    "    # data: 2D Numpy array of length nx2 where each row represents an (xi,yi) pair with n data points   \n",
    "    # grad: Numpy array of length 2 with first entry as partial derivative with respect to m\n",
    "    #       and second entry as partial derivative with respect to b    \n",
    "    m_gradient = ...\n",
    "    b_gradient = ...   \n",
    "    grad = np.array([m_gradient, b_gradient])\n",
    "    \n",
    "    #clear\n",
    "    \n",
    "    n = data.shape[0]\n",
    "    m = mb[0]\n",
    "    b = mb[1]\n",
    "    m_gradient = 0.\n",
    "    b_gradient = 0.\n",
    "    \n",
    "    for i in range(n):\n",
    "        x = data[i,0]\n",
    "        y = data[i,1]\n",
    "        m_gradient += (2./n) * (-x*(y - (m*x+b)))\n",
    "        b_gradient += (2./n) * (-1.*(y - (m*x+b)))\n",
    "        \n",
    "    grad = np.array([m_gradient, b_gradient])\n",
    "\n",
    "    #clear\n",
    "    return grad"
   ]
  },
  {
   "cell_type": "markdown",
   "metadata": {},
   "source": [
    "You can try $m=1$ and $b=2$ as arguments to help debugging your code snippet. Your function should return `[-2192.94722958   -43.55341818]`.\n"
   ]
  },
  {
   "cell_type": "code",
   "execution_count": 7,
   "metadata": {},
   "outputs": [
    {
     "name": "stdout",
     "output_type": "stream",
     "text": [
      "[-2192.94722958   -43.55341818]\n"
     ]
    }
   ],
   "source": [
    "mb = np.array([1.,2.])\n",
    "print(gradE(mb,points))"
   ]
  },
  {
   "cell_type": "markdown",
   "metadata": {},
   "source": [
    "The last thing that we need before we can write a function for steepest descent, is to solve a 1-dimensional optimization problem to solve for the line search parameter. However, in machine learning we want to avoid this and employ a heuristic approach.\n",
    "\n",
    "Instead, we will pick a \"learning rate\" and use that instead of a line search parameter."
   ]
  },
  {
   "cell_type": "code",
   "execution_count": 8,
   "metadata": {},
   "outputs": [],
   "source": [
    "learning_rate = 0.0001"
   ]
  },
  {
   "cell_type": "markdown",
   "metadata": {},
   "source": [
    "We should now have everything that we need to use steepest descent.\n",
    "\n",
    "### Steepest descent using a fixed learning rate\n",
    "\n",
    "**Check your answer:**\n",
    "\n",
    "Complete the function `steepest_descent` below. At this point, we will not be \n",
    " imposing a tolerance as stopping criteria. Instead we will let the algorithm iterates for a fixed number of steps (`num_iterations`). \n",
    " \n",
    "The function should return a list of numpy arrays, so that we can save the parameters `m` and `b` for each step of the iterative method. "
   ]
  },
  {
   "cell_type": "code",
   "execution_count": 9,
   "metadata": {},
   "outputs": [],
   "source": [
    "#grade_clear\n",
    "#clear\n",
    "def steepest_descent(mb,learning_rate, data, num_iterations):\n",
    "    # mb: Numpy array of length 2 containing initial guess for parameters m and b\n",
    "    # learning_rate: Scalar with the learning rate that will be applied to steepest descent\n",
    "    # data: 2D Numpy array of length nx2 where each row represents an (xi,yi) pair with n data points\n",
    "    # num_iterations: Integer with the number of iterations to run steepest descent        \n",
    "    # mb_list: list that contains the history of values [m,b] for each iteration (list of 1d numpy arrays)\n",
    "    # mb_list[0] = mb; mb_list[1] = mb_updated_at_iteration_1\n",
    "    mb_list = [mb]\n",
    "    # add your code here\n",
    "    # somewhere in your code, use mbs.append(...) to add the values of [m,b] in each iteration\n",
    "    \n",
    "    #clear\n",
    "    x = mb\n",
    "    for i in range(num_iterations):\n",
    "        x = x - learning_rate * gradE(x, data)\n",
    "        mb_list.append(x)\n",
    "    \n",
    "    #clear\n",
    "    return mb_list"
   ]
  },
  {
   "cell_type": "markdown",
   "metadata": {},
   "source": [
    "Now, we have everything we need to compute a line of best fit for a given data set. Let's assume that our initial guess for the linear regression model is 0, meaning that\n",
    "\n",
    "```python\n",
    "m = 0.\n",
    "b = 0.\n",
    "```\n",
    "\n",
    "Let's plot the data again but now with our model to see what the initial line of best fit looks like."
   ]
  },
  {
   "cell_type": "code",
   "execution_count": 10,
   "metadata": {},
   "outputs": [
    {
     "data": {
      "image/png": "[encoded data removed]",
      "text/plain": [
       "<Figure size 432x288 with 1 Axes>"
      ]
     },
     "metadata": {
      "needs_background": "light"
     },
     "output_type": "display_data"
    }
   ],
   "source": [
    "# Initial guess for m and b\n",
    "mb_initial = np.array([0.,0.])\n",
    "\n",
    "# Line y = mx + b\n",
    "xs = np.linspace(20,70,num=1000)\n",
    "ys = mb_initial[0]*xs + mb_initial[1]\n",
    "\n",
    "plt.scatter(points[:,0], points[:,1], label = 'data')\n",
    "plt.plot(xs,ys,'r', label = 'Initial model')\n",
    "plt.legend()\n",
    "plt.xlabel('x')\n",
    "plt.ylabel('y')\n",
    "plt.show()"
   ]
  },
  {
   "cell_type": "markdown",
   "metadata": {},
   "source": [
    "Perform 100 iterations of steepest descent and plot the model (line) with the optimized values of $m$ and $b$."
   ]
  },
  {
   "cell_type": "code",
   "execution_count": 11,
   "metadata": {},
   "outputs": [
    {
     "name": "stdout",
     "output_type": "stream",
     "text": [
      "[1.47880272 0.03507497]\n"
     ]
    },
    {
     "data": {
      "text/plain": [
       "112.64705664288809"
      ]
     },
     "execution_count": 11,
     "metadata": {},
     "output_type": "execute_result"
    }
   ],
   "source": [
    "mb_list = steepest_descent(mb_initial, 0.0001, points, num_iterations=100)\n",
    "mb_final = mb_list[-1]\n",
    "print(mb_final)\n",
    "E(mb_final,points)"
   ]
  },
  {
   "cell_type": "code",
   "execution_count": 23,
   "metadata": {},
   "outputs": [
    {
     "data": {
      "text/plain": [
       "[array([0., 0.]),\n",
       " array([0.7370703 , 0.01454701]),\n",
       " array([1.10679545, 0.02187396]),\n",
       " array([1.29225466, 0.02557922]),\n",
       " array([1.38528326, 0.02746779]),\n",
       " array([1.43194723, 0.02844507]),\n",
       " array([1.45535401, 0.02896524]),\n",
       " array([1.46709462, 0.02925611]),\n",
       " array([1.4729833 , 0.02943197]),\n",
       " array([1.47593656, 0.02955013]),\n",
       " array([1.47741738, 0.02963935]),\n",
       " array([1.47815959, 0.02971405]),\n",
       " array([1.4785313 , 0.02978147]),\n",
       " array([1.47871717, 0.02984523]),\n",
       " array([1.47880982, 0.02990717]),\n",
       " array([1.4788557 , 0.02996818]),\n",
       " array([1.47887813, 0.03002873]),\n",
       " array([1.47888879, 0.03008905]),\n",
       " array([1.47889355, 0.03014926]),\n",
       " array([1.47889535, 0.0302094 ]),\n",
       " array([1.47889566, 0.03026952]),\n",
       " array([1.47889523, 0.03032962]),\n",
       " array([1.47889443, 0.03038971]),\n",
       " array([1.47889343, 0.0304498 ]),\n",
       " array([1.47889235, 0.03050989]),\n",
       " array([1.47889121, 0.03056997]),\n",
       " array([1.47889006, 0.03063005]),\n",
       " array([1.47888889, 0.03069014]),\n",
       " array([1.47888771, 0.03075022]),\n",
       " array([1.47888654, 0.0308103 ]),\n",
       " array([1.47888536, 0.03087038]),\n",
       " array([1.47888418, 0.03093046]),\n",
       " array([1.478883  , 0.03099055]),\n",
       " array([1.47888181, 0.03105063]),\n",
       " array([1.47888063, 0.03111071]),\n",
       " array([1.47887945, 0.03117078]),\n",
       " array([1.47887827, 0.03123086]),\n",
       " array([1.47887709, 0.03129094]),\n",
       " array([1.47887591, 0.03135102]),\n",
       " array([1.47887473, 0.0314111 ]),\n",
       " array([1.47887355, 0.03147117]),\n",
       " array([1.47887237, 0.03153125]),\n",
       " array([1.47887119, 0.03159133]),\n",
       " array([1.47887001, 0.0316514 ]),\n",
       " array([1.47886883, 0.03171148]),\n",
       " array([1.47886765, 0.03177155]),\n",
       " array([1.47886646, 0.03183163]),\n",
       " array([1.47886528, 0.0318917 ]),\n",
       " array([1.4788641 , 0.03195178]),\n",
       " array([1.47886292, 0.03201185]),\n",
       " array([1.47886174, 0.03207192]),\n",
       " array([1.47886056, 0.03213199]),\n",
       " array([1.47885938, 0.03219206]),\n",
       " array([1.4788582 , 0.03225214]),\n",
       " array([1.47885702, 0.03231221]),\n",
       " array([1.47885584, 0.03237228]),\n",
       " array([1.47885466, 0.03243235]),\n",
       " array([1.47885348, 0.03249242]),\n",
       " array([1.4788523 , 0.03255248]),\n",
       " array([1.47885112, 0.03261255]),\n",
       " array([1.47884993, 0.03267262]),\n",
       " array([1.47884875, 0.03273269]),\n",
       " array([1.47884757, 0.03279276]),\n",
       " array([1.47884639, 0.03285282]),\n",
       " array([1.47884521, 0.03291289]),\n",
       " array([1.47884403, 0.03297295]),\n",
       " array([1.47884285, 0.03303302]),\n",
       " array([1.47884167, 0.03309308]),\n",
       " array([1.47884049, 0.03315315]),\n",
       " array([1.47883931, 0.03321321]),\n",
       " array([1.47883813, 0.03327328]),\n",
       " array([1.47883695, 0.03333334]),\n",
       " array([1.47883577, 0.0333934 ]),\n",
       " array([1.47883459, 0.03345346]),\n",
       " array([1.47883341, 0.03351353]),\n",
       " array([1.47883223, 0.03357359]),\n",
       " array([1.47883105, 0.03363365]),\n",
       " array([1.47882987, 0.03369371]),\n",
       " array([1.47882869, 0.03375377]),\n",
       " array([1.4788275 , 0.03381383]),\n",
       " array([1.47882632, 0.03387389]),\n",
       " array([1.47882514, 0.03393395]),\n",
       " array([1.47882396, 0.033994  ]),\n",
       " array([1.47882278, 0.03405406]),\n",
       " array([1.4788216 , 0.03411412]),\n",
       " array([1.47882042, 0.03417417]),\n",
       " array([1.47881924, 0.03423423]),\n",
       " array([1.47881806, 0.03429429]),\n",
       " array([1.47881688, 0.03435434]),\n",
       " array([1.4788157, 0.0344144]),\n",
       " array([1.47881452, 0.03447445]),\n",
       " array([1.47881334, 0.03453451]),\n",
       " array([1.47881216, 0.03459456]),\n",
       " array([1.47881098, 0.03465461]),\n",
       " array([1.4788098 , 0.03471466]),\n",
       " array([1.47880862, 0.03477472]),\n",
       " array([1.47880744, 0.03483477]),\n",
       " array([1.47880626, 0.03489482]),\n",
       " array([1.47880508, 0.03495487]),\n",
       " array([1.4788039 , 0.03501492]),\n",
       " array([1.47880272, 0.03507497])]"
      ]
     },
     "execution_count": 23,
     "metadata": {},
     "output_type": "execute_result"
    }
   ],
   "source": [
    "mb_list"
   ]
  },
  {
   "cell_type": "code",
   "execution_count": 12,
   "metadata": {},
   "outputs": [
    {
     "data": {
      "image/png": "[encoded data removed]",
      "text/plain": [
       "<Figure size 432x288 with 1 Axes>"
      ]
     },
     "metadata": {
      "needs_background": "light"
     },
     "output_type": "display_data"
    }
   ],
   "source": [
    "xs = np.linspace(20,70,num=1000)\n",
    "ys = mb_final[0]*xs + mb_final[1]\n",
    "\n",
    "plt.scatter(points[:,0], points[:,1], label = 'data')\n",
    "plt.plot(xs,ys,'r', label = 'Model after 100 iterations')\n",
    "plt.xlabel('x')\n",
    "plt.ylabel('y')\n",
    "plt.legend()\n",
    "plt.show()"
   ]
  },
  {
   "cell_type": "markdown",
   "metadata": {},
   "source": [
    "Compute the residual (using the function `E`) for each update of `m` and `b` that was stored in `mb_list`. Recall how `mb_list` was computed above: \n",
    "\n",
    "``` python \n",
    "mb_list = steepest_descent(mb_initial, 0.0001, points, num_iterations=100)\n",
    "```\n",
    "\n",
    "You can check that `mb_list` has 101 entries (or 101 1d numpy arrays, each one of them containing update values for `m` and `b`). The residual function that you defined above has signature `E(mb, data)` where `mb` is a 1d numpy array with the values of `m` and `b`, and data is the provided dateset in `points`.\n",
    "\n",
    "Store the residual for each pair (m,b) in the list `Elist`. The list `Elist` must have the same number of entries as the list `mb_list`.\n",
    "\n",
    "*Note: you could have included this calculation inside your `steepest_descent` function.*"
   ]
  },
  {
   "cell_type": "code",
   "execution_count": 13,
   "metadata": {},
   "outputs": [],
   "source": [
    "#grade_clear\n",
    "#clear\n",
    "Elist = []\n",
    "#clear\n",
    "for mb in mb_list:\n",
    "    Elist.append(E(mb, points))"
   ]
  },
  {
   "cell_type": "markdown",
   "metadata": {},
   "source": [
    "Plot the residual at each iteration. "
   ]
  },
  {
   "cell_type": "code",
   "execution_count": 14,
   "metadata": {},
   "outputs": [
    {
     "data": {
      "image/png": "[encoded data removed]",
      "text/plain": [
       "<Figure size 432x288 with 1 Axes>"
      ]
     },
     "metadata": {
      "needs_background": "light"
     },
     "output_type": "display_data"
    }
   ],
   "source": [
    "Elist_array = np.array(Elist)\n",
    "plt.semilogy(Elist_array)\n",
    "plt.xlabel('iteration')\n",
    "plt.ylabel('residual')\n",
    "plt.show()"
   ]
  },
  {
   "cell_type": "markdown",
   "metadata": {},
   "source": [
    "It looks like the algorithm didn't need all the 100 iterations. Can you think of a better stopping criteria? Try that later (for now, let's just move on to the next section)."
   ]
  },
  {
   "cell_type": "markdown",
   "metadata": {},
   "source": [
    "### Steepest descent - what happens when we change the learning rate?"
   ]
  },
  {
   "cell_type": "markdown",
   "metadata": {},
   "source": [
    "For all these experiments, we stated that learning_rate $= 0.0001$. What would happen if we were to increase or decrease the learning rate?\n",
    "\n",
    "**Check your answer:**\n",
    "\n",
    "Call the function `steepest_descent` for the learning rates `[1e-6, 1e-5, 1e-4]`. For each learning rate, append the return list `mb_list` to the list `mb_LR`. Use `mb_initial` as initial guess, but do not store the initial guess in `mb_LR`."
   ]
  },
  {
   "cell_type": "code",
   "execution_count": 15,
   "metadata": {},
   "outputs": [
    {
     "name": "stdout",
     "output_type": "stream",
     "text": [
      "[0.58157754 0.01149085]\n",
      "[1.47000284 0.02949362]\n",
      "[1.47880272 0.03507497]\n"
     ]
    }
   ],
   "source": [
    "#grade_clear\n",
    "#clear\n",
    "learning_rates = [1e-6, 1e-5, 1e-4]\n",
    "mb_LR = []\n",
    "# add your code snippet here:\n",
    "\n",
    "#clear\n",
    "for learning_rate in learning_rates:\n",
    "    mb = steepest_descent(mb_initial, learning_rate, points, num_iterations=100)\n",
    "    print(mb[-1])\n",
    "    mb_LR.append(mb)"
   ]
  },
  {
   "cell_type": "markdown",
   "metadata": {},
   "source": [
    "You are now able to plot the following curves:\n",
    "\n",
    "- The data and the model (lines) for the three different values of `learning_rate`\n",
    "- The residual for the three different values of `learning_rate`"
   ]
  },
  {
   "cell_type": "code",
   "execution_count": 16,
   "metadata": {},
   "outputs": [
    {
     "data": {
      "image/png": "[encoded data removed]",
      "text/plain": [
       "<Figure size 432x288 with 1 Axes>"
      ]
     },
     "metadata": {
      "needs_background": "light"
     },
     "output_type": "display_data"
    }
   ],
   "source": [
    "xs = np.linspace(20,70,num=1000)\n",
    "fig = plt.figure()\n",
    "ax = fig.add_subplot(111)\n",
    "ax.scatter(points[:,0], points[:,1])\n",
    "\n",
    "for mb,learning_rate in zip(mb_LR, learning_rates):\n",
    "    ys = mb[-1][0]*xs + mb[-1][1]\n",
    "    plt.plot(xs,ys, label = learning_rate)\n",
    "    plt.draw()\n",
    "plt.legend()\n",
    "plt.show()"
   ]
  },
  {
   "cell_type": "code",
   "execution_count": 17,
   "metadata": {},
   "outputs": [
    {
     "data": {
      "image/png": "[encoded data removed]",
      "text/plain": [
       "<Figure size 432x288 with 1 Axes>"
      ]
     },
     "metadata": {
      "needs_background": "light"
     },
     "output_type": "display_data"
    }
   ],
   "source": [
    "residual = []\n",
    "\n",
    "for mb_per_lr in mb_LR:\n",
    "    r = []\n",
    "    for mb in mb_per_lr:\n",
    "        r.append(E(mb,points))\n",
    "    residual.append(r)\n",
    "\n",
    "for r, lr in zip(residual, learning_rates):\n",
    "    plt.plot(r, label = lr)\n",
    "plt.xlabel('iteration')\n",
    "plt.ylabel('residual')\n",
    "plt.legend()\n",
    "plt.show()"
   ]
  },
  {
   "cell_type": "markdown",
   "metadata": {},
   "source": [
    "As we can see from the above plots, the number of steps for convergence will change depending on the `learning_rate`. "
   ]
  },
  {
   "cell_type": "markdown",
   "metadata": {},
   "source": [
    "### Steepest descent using golden-section search"
   ]
  },
  {
   "cell_type": "markdown",
   "metadata": {},
   "source": [
    "In class, we learned about golden-section search for solving for the line search parameter. How can we use it to compute the parameter $\\alpha$ in steepest descent for this example?\n",
    "\n",
    "We need to first create a wrapper function so that we can minimize $f(x_k - \\alpha \\nabla f(x_k))$ with respect to $\\alpha$."
   ]
  },
  {
   "cell_type": "code",
   "execution_count": 18,
   "metadata": {},
   "outputs": [],
   "source": [
    "def objective_1d(alpha, mb, data):\n",
    "    mb_next = mb - alpha * gradE(mb, data)\n",
    "    return E(mb_next, data)"
   ]
  },
  {
   "cell_type": "markdown",
   "metadata": {},
   "source": [
    "**Check your answer:**\n",
    "\n",
    "Create a new steepest descent function called `steepest_descent_gss`.\n",
    "\n",
    "You should start from the function `steepest_descent(mb,learning_rate, data, num_iterations)` that you created above. However, the new function should not have `learning_rate` as an argument.\n",
    "\n",
    "\n",
    "To compute the learning rate inside the function, we will use the line search implemented at `scipy.optimize.golden` to compute $\\alpha$.\n",
    "\n",
    "```python\n",
    "alpha = opt.golden(objective_1d, args = (np.array([m,b]),data))\n",
    "```"
   ]
  },
  {
   "cell_type": "code",
   "execution_count": 19,
   "metadata": {},
   "outputs": [],
   "source": [
    "#grade_clear\n",
    "#clear\n",
    "def steepest_descent_gss(mb, data, num_iterations):\n",
    "    # mb: Numpy array of length 2 containing initial guess for parameters m and b\n",
    "    # data: 2D Numpy array of length nx2 where each row represents an (xi,yi) pair with n data points\n",
    "    # num_iterations: Integer with the number of iterations to run steepest descent        \n",
    "    # mb_list: list that contains the history of values [m,b] for each iteration\n",
    "    mb_list = [mb]\n",
    "    # add your code here\n",
    "    # somewhere in your code, use mbs.append(...) to add the values of [m,b] in each iteration\n",
    "    \n",
    "    #clear\n",
    "    for i in range(num_iterations):\n",
    "        alpha = opt.golden(objective_1d, args = (mb,data))\n",
    "        mb = mb - alpha * gradE(mb, data)\n",
    "        mb_list.append(mb)\n",
    "    #clear\n",
    "    \n",
    "    return mb_list"
   ]
  },
  {
   "cell_type": "code",
   "execution_count": 20,
   "metadata": {},
   "outputs": [
    {
     "name": "stdout",
     "output_type": "stream",
     "text": [
      "[1.32245222 7.9899454 ]\n"
     ]
    },
    {
     "data": {
      "text/plain": [
       "110.25738350989737"
      ]
     },
     "execution_count": 20,
     "metadata": {},
     "output_type": "execute_result"
    }
   ],
   "source": [
    "mbs_gss = steepest_descent_gss(mb_initial,points,num_iterations=10)\n",
    "print(mbs_gss[-1])\n",
    "E(mbs_gss[-1],points)"
   ]
  },
  {
   "cell_type": "code",
   "execution_count": 21,
   "metadata": {},
   "outputs": [
    {
     "data": {
      "text/plain": [
       "[<matplotlib.lines.Line2D at 0x7f86458ba9d0>]"
      ]
     },
     "execution_count": 21,
     "metadata": {},
     "output_type": "execute_result"
    },
    {
     "data": {
      "image/png": "[encoded data removed]",
      "text/plain": [
       "<Figure size 432x288 with 1 Axes>"
      ]
     },
     "metadata": {
      "needs_background": "light"
     },
     "output_type": "display_data"
    }
   ],
   "source": [
    "xs = np.linspace(20,70,num=1000)\n",
    "fig = plt.figure()\n",
    "ax = fig.add_subplot(111)\n",
    "ax.scatter(points[:,0], points[:,1])\n",
    "ys = mbs_gss[-1][0]*xs + mbs_gss[-1][1]\n",
    "plt.plot(xs,ys,'r')\n"
   ]
  },
  {
   "cell_type": "markdown",
   "metadata": {},
   "source": [
    "Plot the residual of using golden-section search for the line search parameter and compare the results with using a learning rate. Does this improve the convergence? How many iterations does it take for steepest descent to converge?"
   ]
  },
  {
   "cell_type": "code",
   "execution_count": 22,
   "metadata": {},
   "outputs": [
    {
     "data": {
      "image/png": "[encoded data removed]",
      "text/plain": [
       "<Figure size 432x288 with 1 Axes>"
      ]
     },
     "metadata": {
      "needs_background": "light"
     },
     "output_type": "display_data"
    }
   ],
   "source": [
    "mbs_gss = steepest_descent_gss(mb,points,num_iterations=10)\n",
    "\n",
    "err_gss = []\n",
    "for mb in mbs_gss:\n",
    "    err = E(mb,points)\n",
    "    err_gss.append(err)\n",
    "\n",
    "plt.semilogy(err_gss, label = 'SD with GSS')\n",
    "plt.xlabel('iteration')\n",
    "plt.ylabel('residual')\n",
    "plt.legend()\n",
    "plt.show()"
   ]
  },
  {
   "cell_type": "markdown",
   "metadata": {},
   "source": [
    "In practice, we don't use golden-section search in machine learning and instead we employ the heuristic that we described earlier of using a learning rate (note that the learning rate is not fixed, but updated using different methods). Why would we want use a learning rate over a line search parameter?"
   ]
  }
 ],
 "metadata": {
  "kernelspec": {
   "display_name": "Python 3",
   "language": "python",
   "name": "python3"
  },
  "language_info": {
   "codemirror_mode": {
    "name": "ipython",
    "version": 3
   },
   "file_extension": ".py",
   "mimetype": "text/x-python",
   "name": "python",
   "nbconvert_exporter": "python",
   "pygments_lexer": "ipython3",
   "version": "3.8.0"
  }
 },
 "nbformat": 4,
 "nbformat_minor": 2
}
