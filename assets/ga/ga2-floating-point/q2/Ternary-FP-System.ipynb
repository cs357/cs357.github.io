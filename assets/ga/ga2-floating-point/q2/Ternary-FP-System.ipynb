{
 "cells": [
  {
   "cell_type": "code",
   "execution_count": 3,
   "metadata": {},
   "outputs": [],
   "source": [
    "import numpy as np\n",
    "import matplotlib as mpl\n",
    "import matplotlib.pyplot as plt\n",
    "%matplotlib inline\n",
    "import seaborn as sns\n",
    "sns.set(font_scale=1.5)\n",
    "plt.style.use('seaborn-whitegrid')\n",
    "mpl.rcParams['figure.figsize'] = (10.0, 8.0)"
   ]
  },
  {
   "cell_type": "markdown",
   "metadata": {},
   "source": [
    "<div class=\"alert alert-danger\">\n",
    "Recall this is a collaborative learning activity. Resist the temptation to do divide-and-conquer and start this second part of the lesson with a subset of the team, without completing the first part together! Many concepts and tips to solve this ternary system were introduced in the first part, when we discussed binary floating point systems.\n",
    "</div>\n"
   ]
  },
  {
   "cell_type": "markdown",
   "metadata": {},
   "source": [
    "## Ternary Floating Point System\n",
    "The [Setun Computer](https://en.wikipedia.org/wiki/Setun) was a computer built in the Soviet Union in 1958 by Ukrainian computer scientist [Nikolay Brusentsov](http://en.uacomputing.com/persons/brusentsov/).  It used *ternary* logic rather than binary.  In Brusentov's own words: ''Computer science cannot limit itself to the universally-accepted binary system; the base should be ternary''.  He argued that ternary logic was a better representation of the way humans think; unfortunately for him, it never caught on."
   ]
  },
  {
   "cell_type": "markdown",
   "metadata": {},
   "source": [
    "### Base 3 floating point system\n",
    "\n",
    "\n",
    "\n",
    "This means floating-point arithmetic was done in base 3, not base 2, as is standard today.  Rather than using ''bits'', the architecture of this computer dependend on ''trits'' that can take three values instead of two.\n",
    "\n",
    "We'll will implement a standardized ternary floating point system, where any positive number $x$ can be written as\n",
    "\n",
    "$x = a_0.a_1a_2\\dots a_{n-1} \\times 3^m$.\n",
    "\n",
    "The exponent $m \\in [L,U]$ is essentially identical to the exponent in the binary case.  However, there are some important differences between here and the normalized binary representation.\n",
    "\n",
    "1. The base is now equal to 3, not 2.  Hence the $3^m$, instead of $2^m$.\n",
    "  \n",
    "2. Each of the ''trits'' $a_1,a_2,\\dots,a_{n-1}$ can now take any of the 3 values in $\\{0,1,2\\}$.\n",
    "  \n",
    "3. In a normalized binary system, the leading bit is always equal to 1.  But in normalized ternary system the leading ''trit'' $a_0$ can take either the value 1 or 2.  It cannot be zero, because this is a **normalized** floating point system\n",
    "  \n",
    "4. Because $a_0$ can vary, the leading trit must be explicitly stored.  This is not the case with normalized binary systems.  That's also why we stopped at $a_{n-1}$ instead of going to $a_n$.  In binary, we get one extra bit of precision because we don't need to store the leading one."
   ]
  },
  {
   "cell_type": "markdown",
   "metadata": {},
   "source": [
    "**Check your answers!**\n",
    "\n",
    "Just like for the binary system beforehand, **write the function `ternary_numbers`** that returns a 1d numpy array with all numbers in a given ternary floating point system, given  $n$ the number of stored trits and the exponent range of $m \\in [L,U]$.\n"
   ]
  },
  {
   "cell_type": "code",
   "execution_count": 4,
   "metadata": {},
   "outputs": [],
   "source": [
    "#grade_clear\n",
    "#clear\n",
    "def ternary_numbers(n, L, U):\n",
    "    \n",
    "    fp_ternary = ...\n",
    "    \n",
    "    #clear\n",
    "    base = 3\n",
    "\n",
    "    fp_ternary = []\n",
    "    for m in range(L,U + 1):\n",
    "        for a0 in [1,2]:\n",
    "            for sigs in range(base**(n-1)):\n",
    "                s = a0 + (sigs/(base**(n-1)))\n",
    "                fp_ternary.append( s*base**(m) )\n",
    "      \n",
    "    fp_ternary = np.array(fp_ternary)\n",
    "    #clear\n",
    "                \n",
    "    return fp_ternary"
   ]
  },
  {
   "cell_type": "markdown",
   "metadata": {},
   "source": [
    "### Density of Ternary Floating Point Numbers"
   ]
  },
  {
   "cell_type": "markdown",
   "metadata": {},
   "source": [
    "We can now use your function to look at the numbers in this system:"
   ]
  },
  {
   "cell_type": "code",
   "execution_count": 5,
   "metadata": {
    "scrolled": true
   },
   "outputs": [
    {
     "data": {
      "text/plain": [
       "array([4.11522634e-03, 4.26764213e-03, 4.42005792e-03, 4.57247371e-03,\n",
       "       4.72488950e-03, 4.87730529e-03, 5.02972108e-03, 5.18213687e-03,\n",
       "       5.33455266e-03, 5.48696845e-03, 5.63938424e-03, 5.79180003e-03,\n",
       "       5.94421582e-03, 6.09663161e-03, 6.24904740e-03, 6.40146319e-03,\n",
       "       6.55387898e-03, 6.70629477e-03, 6.85871056e-03, 7.01112635e-03,\n",
       "       7.16354214e-03, 7.31595793e-03, 7.46837372e-03, 7.62078951e-03,\n",
       "       7.77320530e-03, 7.92562109e-03, 8.07803688e-03, 8.23045267e-03,\n",
       "       8.38286847e-03, 8.53528426e-03, 8.68770005e-03, 8.84011584e-03,\n",
       "       8.99253163e-03, 9.14494742e-03, 9.29736321e-03, 9.44977900e-03,\n",
       "       9.60219479e-03, 9.75461058e-03, 9.90702637e-03, 1.00594422e-02,\n",
       "       1.02118579e-02, 1.03642737e-02, 1.05166895e-02, 1.06691053e-02,\n",
       "       1.08215211e-02, 1.09739369e-02, 1.11263527e-02, 1.12787685e-02,\n",
       "       1.14311843e-02, 1.15836001e-02, 1.17360159e-02, 1.18884316e-02,\n",
       "       1.20408474e-02, 1.21932632e-02, 1.23456790e-02, 1.28029264e-02,\n",
       "       1.32601738e-02, 1.37174211e-02, 1.41746685e-02, 1.46319159e-02,\n",
       "       1.50891632e-02, 1.55464106e-02, 1.60036580e-02, 1.64609053e-02,\n",
       "       1.69181527e-02, 1.73754001e-02, 1.78326475e-02, 1.82898948e-02,\n",
       "       1.87471422e-02, 1.92043896e-02, 1.96616369e-02, 2.01188843e-02,\n",
       "       2.05761317e-02, 2.10333791e-02, 2.14906264e-02, 2.19478738e-02,\n",
       "       2.24051212e-02, 2.28623685e-02, 2.33196159e-02, 2.37768633e-02,\n",
       "       2.42341107e-02, 2.46913580e-02, 2.51486054e-02, 2.56058528e-02,\n",
       "       2.60631001e-02, 2.65203475e-02, 2.69775949e-02, 2.74348422e-02,\n",
       "       2.78920896e-02, 2.83493370e-02, 2.88065844e-02, 2.92638317e-02,\n",
       "       2.97210791e-02, 3.01783265e-02, 3.06355738e-02, 3.10928212e-02,\n",
       "       3.15500686e-02, 3.20073160e-02, 3.24645633e-02, 3.29218107e-02,\n",
       "       3.33790581e-02, 3.38363054e-02, 3.42935528e-02, 3.47508002e-02,\n",
       "       3.52080476e-02, 3.56652949e-02, 3.61225423e-02, 3.65797897e-02,\n",
       "       3.70370370e-02, 3.84087791e-02, 3.97805213e-02, 4.11522634e-02,\n",
       "       4.25240055e-02, 4.38957476e-02, 4.52674897e-02, 4.66392318e-02,\n",
       "       4.80109739e-02, 4.93827160e-02, 5.07544582e-02, 5.21262003e-02,\n",
       "       5.34979424e-02, 5.48696845e-02, 5.62414266e-02, 5.76131687e-02,\n",
       "       5.89849108e-02, 6.03566529e-02, 6.17283951e-02, 6.31001372e-02,\n",
       "       6.44718793e-02, 6.58436214e-02, 6.72153635e-02, 6.85871056e-02,\n",
       "       6.99588477e-02, 7.13305898e-02, 7.27023320e-02, 7.40740741e-02,\n",
       "       7.54458162e-02, 7.68175583e-02, 7.81893004e-02, 7.95610425e-02,\n",
       "       8.09327846e-02, 8.23045267e-02, 8.36762689e-02, 8.50480110e-02,\n",
       "       8.64197531e-02, 8.77914952e-02, 8.91632373e-02, 9.05349794e-02,\n",
       "       9.19067215e-02, 9.32784636e-02, 9.46502058e-02, 9.60219479e-02,\n",
       "       9.73936900e-02, 9.87654321e-02, 1.00137174e-01, 1.01508916e-01,\n",
       "       1.02880658e-01, 1.04252401e-01, 1.05624143e-01, 1.06995885e-01,\n",
       "       1.08367627e-01, 1.09739369e-01, 1.11111111e-01, 1.15226337e-01,\n",
       "       1.19341564e-01, 1.23456790e-01, 1.27572016e-01, 1.31687243e-01,\n",
       "       1.35802469e-01, 1.39917695e-01, 1.44032922e-01, 1.48148148e-01,\n",
       "       1.52263374e-01, 1.56378601e-01, 1.60493827e-01, 1.64609053e-01,\n",
       "       1.68724280e-01, 1.72839506e-01, 1.76954733e-01, 1.81069959e-01,\n",
       "       1.85185185e-01, 1.89300412e-01, 1.93415638e-01, 1.97530864e-01,\n",
       "       2.01646091e-01, 2.05761317e-01, 2.09876543e-01, 2.13991770e-01,\n",
       "       2.18106996e-01, 2.22222222e-01, 2.26337449e-01, 2.30452675e-01,\n",
       "       2.34567901e-01, 2.38683128e-01, 2.42798354e-01, 2.46913580e-01,\n",
       "       2.51028807e-01, 2.55144033e-01, 2.59259259e-01, 2.63374486e-01,\n",
       "       2.67489712e-01, 2.71604938e-01, 2.75720165e-01, 2.79835391e-01,\n",
       "       2.83950617e-01, 2.88065844e-01, 2.92181070e-01, 2.96296296e-01,\n",
       "       3.00411523e-01, 3.04526749e-01, 3.08641975e-01, 3.12757202e-01,\n",
       "       3.16872428e-01, 3.20987654e-01, 3.25102881e-01, 3.29218107e-01,\n",
       "       3.33333333e-01, 3.45679012e-01, 3.58024691e-01, 3.70370370e-01,\n",
       "       3.82716049e-01, 3.95061728e-01, 4.07407407e-01, 4.19753086e-01,\n",
       "       4.32098765e-01, 4.44444444e-01, 4.56790123e-01, 4.69135802e-01,\n",
       "       4.81481481e-01, 4.93827160e-01, 5.06172840e-01, 5.18518519e-01,\n",
       "       5.30864198e-01, 5.43209877e-01, 5.55555556e-01, 5.67901235e-01,\n",
       "       5.80246914e-01, 5.92592593e-01, 6.04938272e-01, 6.17283951e-01,\n",
       "       6.29629630e-01, 6.41975309e-01, 6.54320988e-01, 6.66666667e-01,\n",
       "       6.79012346e-01, 6.91358025e-01, 7.03703704e-01, 7.16049383e-01,\n",
       "       7.28395062e-01, 7.40740741e-01, 7.53086420e-01, 7.65432099e-01,\n",
       "       7.77777778e-01, 7.90123457e-01, 8.02469136e-01, 8.14814815e-01,\n",
       "       8.27160494e-01, 8.39506173e-01, 8.51851852e-01, 8.64197531e-01,\n",
       "       8.76543210e-01, 8.88888889e-01, 9.01234568e-01, 9.13580247e-01,\n",
       "       9.25925926e-01, 9.38271605e-01, 9.50617284e-01, 9.62962963e-01,\n",
       "       9.75308642e-01, 9.87654321e-01, 1.00000000e+00, 1.03703704e+00,\n",
       "       1.07407407e+00, 1.11111111e+00, 1.14814815e+00, 1.18518519e+00,\n",
       "       1.22222222e+00, 1.25925926e+00, 1.29629630e+00, 1.33333333e+00,\n",
       "       1.37037037e+00, 1.40740741e+00, 1.44444444e+00, 1.48148148e+00,\n",
       "       1.51851852e+00, 1.55555556e+00, 1.59259259e+00, 1.62962963e+00,\n",
       "       1.66666667e+00, 1.70370370e+00, 1.74074074e+00, 1.77777778e+00,\n",
       "       1.81481481e+00, 1.85185185e+00, 1.88888889e+00, 1.92592593e+00,\n",
       "       1.96296296e+00, 2.00000000e+00, 2.03703704e+00, 2.07407407e+00,\n",
       "       2.11111111e+00, 2.14814815e+00, 2.18518519e+00, 2.22222222e+00,\n",
       "       2.25925926e+00, 2.29629630e+00, 2.33333333e+00, 2.37037037e+00,\n",
       "       2.40740741e+00, 2.44444444e+00, 2.48148148e+00, 2.51851852e+00,\n",
       "       2.55555556e+00, 2.59259259e+00, 2.62962963e+00, 2.66666667e+00,\n",
       "       2.70370370e+00, 2.74074074e+00, 2.77777778e+00, 2.81481481e+00,\n",
       "       2.85185185e+00, 2.88888889e+00, 2.92592593e+00, 2.96296296e+00,\n",
       "       3.00000000e+00, 3.11111111e+00, 3.22222222e+00, 3.33333333e+00,\n",
       "       3.44444444e+00, 3.55555556e+00, 3.66666667e+00, 3.77777778e+00,\n",
       "       3.88888889e+00, 4.00000000e+00, 4.11111111e+00, 4.22222222e+00,\n",
       "       4.33333333e+00, 4.44444444e+00, 4.55555556e+00, 4.66666667e+00,\n",
       "       4.77777778e+00, 4.88888889e+00, 5.00000000e+00, 5.11111111e+00,\n",
       "       5.22222222e+00, 5.33333333e+00, 5.44444444e+00, 5.55555556e+00,\n",
       "       5.66666667e+00, 5.77777778e+00, 5.88888889e+00, 6.00000000e+00,\n",
       "       6.11111111e+00, 6.22222222e+00, 6.33333333e+00, 6.44444444e+00,\n",
       "       6.55555556e+00, 6.66666667e+00, 6.77777778e+00, 6.88888889e+00,\n",
       "       7.00000000e+00, 7.11111111e+00, 7.22222222e+00, 7.33333333e+00,\n",
       "       7.44444444e+00, 7.55555556e+00, 7.66666667e+00, 7.77777778e+00,\n",
       "       7.88888889e+00, 8.00000000e+00, 8.11111111e+00, 8.22222222e+00,\n",
       "       8.33333333e+00, 8.44444444e+00, 8.55555556e+00, 8.66666667e+00,\n",
       "       8.77777778e+00, 8.88888889e+00, 9.00000000e+00, 9.33333333e+00,\n",
       "       9.66666667e+00, 1.00000000e+01, 1.03333333e+01, 1.06666667e+01,\n",
       "       1.10000000e+01, 1.13333333e+01, 1.16666667e+01, 1.20000000e+01,\n",
       "       1.23333333e+01, 1.26666667e+01, 1.30000000e+01, 1.33333333e+01,\n",
       "       1.36666667e+01, 1.40000000e+01, 1.43333333e+01, 1.46666667e+01,\n",
       "       1.50000000e+01, 1.53333333e+01, 1.56666667e+01, 1.60000000e+01,\n",
       "       1.63333333e+01, 1.66666667e+01, 1.70000000e+01, 1.73333333e+01,\n",
       "       1.76666667e+01, 1.80000000e+01, 1.83333333e+01, 1.86666667e+01,\n",
       "       1.90000000e+01, 1.93333333e+01, 1.96666667e+01, 2.00000000e+01,\n",
       "       2.03333333e+01, 2.06666667e+01, 2.10000000e+01, 2.13333333e+01,\n",
       "       2.16666667e+01, 2.20000000e+01, 2.23333333e+01, 2.26666667e+01,\n",
       "       2.30000000e+01, 2.33333333e+01, 2.36666667e+01, 2.40000000e+01,\n",
       "       2.43333333e+01, 2.46666667e+01, 2.50000000e+01, 2.53333333e+01,\n",
       "       2.56666667e+01, 2.60000000e+01, 2.63333333e+01, 2.66666667e+01,\n",
       "       2.70000000e+01, 2.80000000e+01, 2.90000000e+01, 3.00000000e+01,\n",
       "       3.10000000e+01, 3.20000000e+01, 3.30000000e+01, 3.40000000e+01,\n",
       "       3.50000000e+01, 3.60000000e+01, 3.70000000e+01, 3.80000000e+01,\n",
       "       3.90000000e+01, 4.00000000e+01, 4.10000000e+01, 4.20000000e+01,\n",
       "       4.30000000e+01, 4.40000000e+01, 4.50000000e+01, 4.60000000e+01,\n",
       "       4.70000000e+01, 4.80000000e+01, 4.90000000e+01, 5.00000000e+01,\n",
       "       5.10000000e+01, 5.20000000e+01, 5.30000000e+01, 5.40000000e+01,\n",
       "       5.50000000e+01, 5.60000000e+01, 5.70000000e+01, 5.80000000e+01,\n",
       "       5.90000000e+01, 6.00000000e+01, 6.10000000e+01, 6.20000000e+01,\n",
       "       6.30000000e+01, 6.40000000e+01, 6.50000000e+01, 6.60000000e+01,\n",
       "       6.70000000e+01, 6.80000000e+01, 6.90000000e+01, 7.00000000e+01,\n",
       "       7.10000000e+01, 7.20000000e+01, 7.30000000e+01, 7.40000000e+01,\n",
       "       7.50000000e+01, 7.60000000e+01, 7.70000000e+01, 7.80000000e+01,\n",
       "       7.90000000e+01, 8.00000000e+01, 8.10000000e+01, 8.40000000e+01,\n",
       "       8.70000000e+01, 9.00000000e+01, 9.30000000e+01, 9.60000000e+01,\n",
       "       9.90000000e+01, 1.02000000e+02, 1.05000000e+02, 1.08000000e+02,\n",
       "       1.11000000e+02, 1.14000000e+02, 1.17000000e+02, 1.20000000e+02,\n",
       "       1.23000000e+02, 1.26000000e+02, 1.29000000e+02, 1.32000000e+02,\n",
       "       1.35000000e+02, 1.38000000e+02, 1.41000000e+02, 1.44000000e+02,\n",
       "       1.47000000e+02, 1.50000000e+02, 1.53000000e+02, 1.56000000e+02,\n",
       "       1.59000000e+02, 1.62000000e+02, 1.65000000e+02, 1.68000000e+02,\n",
       "       1.71000000e+02, 1.74000000e+02, 1.77000000e+02, 1.80000000e+02,\n",
       "       1.83000000e+02, 1.86000000e+02, 1.89000000e+02, 1.92000000e+02,\n",
       "       1.95000000e+02, 1.98000000e+02, 2.01000000e+02, 2.04000000e+02,\n",
       "       2.07000000e+02, 2.10000000e+02, 2.13000000e+02, 2.16000000e+02,\n",
       "       2.19000000e+02, 2.22000000e+02, 2.25000000e+02, 2.28000000e+02,\n",
       "       2.31000000e+02, 2.34000000e+02, 2.37000000e+02, 2.40000000e+02,\n",
       "       2.43000000e+02, 2.52000000e+02, 2.61000000e+02, 2.70000000e+02,\n",
       "       2.79000000e+02, 2.88000000e+02, 2.97000000e+02, 3.06000000e+02,\n",
       "       3.15000000e+02, 3.24000000e+02, 3.33000000e+02, 3.42000000e+02,\n",
       "       3.51000000e+02, 3.60000000e+02, 3.69000000e+02, 3.78000000e+02,\n",
       "       3.87000000e+02, 3.96000000e+02, 4.05000000e+02, 4.14000000e+02,\n",
       "       4.23000000e+02, 4.32000000e+02, 4.41000000e+02, 4.50000000e+02,\n",
       "       4.59000000e+02, 4.68000000e+02, 4.77000000e+02, 4.86000000e+02,\n",
       "       4.95000000e+02, 5.04000000e+02, 5.13000000e+02, 5.22000000e+02,\n",
       "       5.31000000e+02, 5.40000000e+02, 5.49000000e+02, 5.58000000e+02,\n",
       "       5.67000000e+02, 5.76000000e+02, 5.85000000e+02, 5.94000000e+02,\n",
       "       6.03000000e+02, 6.12000000e+02, 6.21000000e+02, 6.30000000e+02,\n",
       "       6.39000000e+02, 6.48000000e+02, 6.57000000e+02, 6.66000000e+02,\n",
       "       6.75000000e+02, 6.84000000e+02, 6.93000000e+02, 7.02000000e+02,\n",
       "       7.11000000e+02, 7.20000000e+02])"
      ]
     },
     "execution_count": 5,
     "metadata": {},
     "output_type": "execute_result"
    }
   ],
   "source": [
    "n = 4\n",
    "L = -5\n",
    "U = 5\n",
    "fp_ternary = ternary_numbers(n,L,U)\n",
    "fp_ternary"
   ]
  },
  {
   "cell_type": "code",
   "execution_count": 6,
   "metadata": {},
   "outputs": [
    {
     "data": {
      "text/plain": [
       "Text(0.5, 1.0, 'Distribution of Ternary Floating Point Numbers')"
      ]
     },
     "execution_count": 6,
     "metadata": {},
     "output_type": "execute_result"
    },
    {
     "data": {
      "image/png": "[encoded data removed]",
      "text/plain": [
       "<Figure size 864x144 with 1 Axes>"
      ]
     },
     "metadata": {},
     "output_type": "display_data"
    }
   ],
   "source": [
    "plt.figure(figsize=(12,2))\n",
    "plt.plot(fp_ternary, np.ones_like(fp_ternary), \"o\");\n",
    "plt.title('Distribution of Ternary Floating Point Numbers')"
   ]
  },
  {
   "cell_type": "markdown",
   "metadata": {},
   "source": [
    "### Compare to the normalized binary system\n",
    "\n",
    "1. How many numbers does each floating point system have?\n",
    "2. How do the overflow and underflow levels compare?\n",
    "3. How do each system's machine epsilon compare?\n",
    "\n",
    "Use your previous function to compute the floating point numbers in the binary system for the same values of $n$, $L$ and $U$."
   ]
  },
  {
   "cell_type": "code",
   "execution_count": 7,
   "metadata": {},
   "outputs": [],
   "source": [
    "# Copy here the function \"fp_numbers\" from the first part of this GA\n",
    "\n",
    "def fp_numbers(n,L,U):\n",
    "    #clear\n",
    "    fp = ...\n",
    "    p = n+1\n",
    "    fp = []\n",
    "    for m in range(L,U + 1):\n",
    "        for sigs in range(2**n):\n",
    "            fp.append( (1+sigs/(2**n))*2**(m) )\n",
    "    fp = np.array(fp)\n",
    "    #clear\n",
    "    return fp\n",
    "\n",
    "fp_ref = fp_numbers(n,L,U)"
   ]
  },
  {
   "cell_type": "code",
   "execution_count": 8,
   "metadata": {},
   "outputs": [
    {
     "name": "stdout",
     "output_type": "stream",
     "text": [
      "Binary system has 176 numbers\n",
      "Ternary system has 594 numbers\n",
      "\n",
      "Binary Overflow:  62.0\n",
      "Ternary Overflow:  720.0\n",
      "\n",
      "Binary Underflow:  0.03125\n",
      "Ternary Underflow:  0.00411522633744856\n",
      "\n",
      "Binary Machine Epsilon:  [[0.0625]]\n",
      "Ternary Machine Epsilon:  [[0.03703704]]\n"
     ]
    }
   ],
   "source": [
    "print('Binary system has %d numbers' % len(fp_ref))\n",
    "print('Ternary system has %d numbers' % len(fp_ternary))\n",
    "print()\n",
    "print('Binary Overflow: ', fp_ref[-1])\n",
    "print('Ternary Overflow: ', fp_ternary[-1])\n",
    "print()\n",
    "print('Binary Underflow: ', fp_ref[0])\n",
    "print('Ternary Underflow: ',fp_ternary[0])\n",
    "\n",
    "ind_b = np.argwhere(fp_ref==1.0)\n",
    "ind_t = np.argwhere(fp_ternary==1.0)\n",
    "eps_b = fp_ref[ind_b+1] - 1\n",
    "eps_t = fp_ternary[ind_t+1] - 1\n",
    "print()\n",
    "print('Binary Machine Epsilon: ', eps_b)\n",
    "print('Ternary Machine Epsilon: ',eps_t)"
   ]
  },
  {
   "cell_type": "code",
   "execution_count": null,
   "metadata": {},
   "outputs": [],
   "source": []
  }
 ],
 "metadata": {
  "kernelspec": {
   "display_name": "Python 3",
   "language": "python",
   "name": "python3"
  },
  "language_info": {
   "codemirror_mode": {
    "name": "ipython",
    "version": 3
   },
   "file_extension": ".py",
   "mimetype": "text/x-python",
   "name": "python",
   "nbconvert_exporter": "python",
   "pygments_lexer": "ipython3",
   "version": "3.8.0"
  }
 },
 "nbformat": 4,
 "nbformat_minor": 2
}
