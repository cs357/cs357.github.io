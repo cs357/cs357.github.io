{
 "cells": [
  {
   "cell_type": "code",
   "execution_count": 23,
   "metadata": {
    "colab": {},
    "colab_type": "code",
    "id": "pu6I4034Hl8O"
   },
   "outputs": [],
   "source": [
    "import numpy as np"
   ]
  },
  {
   "cell_type": "markdown",
   "metadata": {
    "colab_type": "text",
    "id": "5sXqeoNnHl8a"
   },
   "source": [
    "# Calculating Integrals using Recurrence Relation"
   ]
  },
  {
   "cell_type": "markdown",
   "metadata": {
    "colab_type": "text",
    "id": "5TTflIr1Hl8b"
   },
   "source": [
    "<p>In this problem we will use recurrence relations to compute an integral and determine the relative and absolute errors associated with each of them.\n",
    "Consider the integral\n",
    "$$\n",
    " I_k=\\int_{0}^1 x^k e^{x-1} dx\n",
    "$$  </p>\n",
    "\n",
    "In the following, you will use two different methods to approximate the above integral:\n"
   ]
  },
  {
   "cell_type": "markdown",
   "metadata": {
    "colab_type": "text",
    "id": "tNzKqtMTHl8d"
   },
   "source": [
    "#### a) Forward Recurrence Relation:\n",
    "    \n",
    "    \n",
    "Compute the array <code>If</code> such that $\\textrm{If}= [I_1, I_2, I_3, ...]$.  \n",
    "\n",
    "Evaluate the integrals $I_n$\n",
    "   using the <strong>Forward Recurrence Relation</strong> defined as:\n",
    "   \n",
    "$$ I_k = 1 - kI_{k-1} \\ \\ \\ \\ \\ \\ \\ \\forall\\ \\ \\ \\   k \\in {1,2,3,..... , {\\rm nmax} }. $$ \n",
    "\n",
    "where you know the value of $I_0 = 1-1/e$. \n",
    "\n",
    "Use the `nmax` value provided in the PrairieLearn question (which is the same used by the autograder to check your code).\n"
   ]
  },
  {
   "cell_type": "code",
   "execution_count": 30,
   "metadata": {},
   "outputs": [],
   "source": [
    "nmax = 39"
   ]
  },
  {
   "cell_type": "code",
   "execution_count": 31,
   "metadata": {
    "colab": {},
    "colab_type": "code",
    "id": "w5z5CzbiHl8d"
   },
   "outputs": [
    {
     "name": "stdout",
     "output_type": "stream",
     "text": [
      "[ 3.67879441e-01  2.64241118e-01  2.07276647e-01  1.70893412e-01\n",
      "  1.45532941e-01  1.26802357e-01  1.12383504e-01  1.00931967e-01\n",
      "  9.16122930e-02  8.38770701e-02  7.73522294e-02  7.17732477e-02\n",
      "  6.69477800e-02  6.27310804e-02  5.90337936e-02  5.54593017e-02\n",
      "  5.71918706e-02 -2.94536708e-02  1.55961974e+00 -3.01923949e+01\n",
      "  6.35040293e+02 -1.39698864e+04  3.21308388e+05 -7.71140031e+06\n",
      "  1.92785009e+08 -5.01241023e+09  1.35335076e+11 -3.78938213e+12\n",
      "  1.09892082e+14 -3.29676246e+15  1.02199636e+17 -3.27038836e+18\n",
      "  1.07922816e+20 -3.66937574e+21  1.28428151e+23 -4.62341343e+24\n",
      "  1.71066297e+26 -6.50051928e+27  2.53520252e+29]\n"
     ]
    }
   ],
   "source": [
    "# add your code here\n",
    "If = [1-(1/np.exp(1))]\n",
    "for k in range(1,nmax+1):\n",
    "    If.append(1-If[-1]*k)\n",
    "If = np.array(If[1:])\n",
    "print(If)"
   ]
  },
  {
   "cell_type": "markdown",
   "metadata": {
    "colab_type": "text",
    "id": "S_xzWdpcHl8k"
   },
   "source": [
    "#### b) Backward Recurrence Relation:\n",
    "    \n",
    "Compute the array <code>Ib</code> such that $\\textrm{Ib}= [I_1, I_2, I_3, ...]$. \n",
    "\n",
    "Evaluate the integrals $I_n$\n",
    "   using the <strong>Backward Recurrence Relation</strong> defined as:\n",
    "   \n",
    "   $$ I_{k-1} = \\left(\\frac{1-I_k}{k}\\right)  \\ \\ \\ \\ \\ \\forall \\ \\ \\ \\ \\ \\ k \\in { {\\rm nmax}, ......... , 1}. $$\n",
    "   \n",
    "   \n",
    "   Assume that $I_k = 0$ for $k={\\rm nmax}$. "
   ]
  },
  {
   "cell_type": "code",
   "execution_count": 32,
   "metadata": {
    "colab": {},
    "colab_type": "code",
    "id": "qiuuHXUaHl8k"
   },
   "outputs": [
    {
     "data": {
      "text/plain": [
       "array([0.36787944, 0.26424112, 0.20727665, 0.17089341, 0.14553294,\n",
       "       0.12680236, 0.1123835 , 0.10093197, 0.09161229, 0.08387707,\n",
       "       0.07735223, 0.07177325, 0.0669477 , 0.06273216, 0.05901754,\n",
       "       0.05571935, 0.05277112, 0.05011985, 0.04772276, 0.04554488,\n",
       "       0.04355743, 0.04173644, 0.04006181, 0.03851655, 0.03708621,\n",
       "       0.03575842, 0.03452253, 0.03336929, 0.03229068, 0.03127967,\n",
       "       0.03033011, 0.02943654, 0.02859416, 0.02779868, 0.02704628,\n",
       "       0.02633403, 0.02564103, 0.02564103, 0.        ])"
      ]
     },
     "execution_count": 32,
     "metadata": {},
     "output_type": "execute_result"
    }
   ],
   "source": [
    "# add your code here\n",
    "Ib = [0]\n",
    "for k in range(nmax,1,-1):\n",
    "    Ib.append((1-Ib[-1])/k)\n",
    "Ib = np.array(Ib[::-1])\n",
    "Ib\n"
   ]
  },
  {
   "cell_type": "markdown",
   "metadata": {
    "colab_type": "text",
    "id": "oen8MK86Hl8p"
   },
   "source": [
    "#### Exact integrals\n",
    "Calculate the exact integral using the provided function <code>func_int</code> which takes the input $k$ and returns the integral $I_k$.\n",
    "    Calculate the integral for all the k values in the array <code>[1, 2, 3,..., nmax]</code>. Store your results in the array `Iexact`"
   ]
  },
  {
   "cell_type": "code",
   "execution_count": 7,
   "metadata": {
    "colab": {},
    "colab_type": "code",
    "id": "YsrwBv7kHl8q"
   },
   "outputs": [],
   "source": [
    "from scipy.integrate import quad\n",
    "\n",
    "def func_int(k):\n",
    "    ans, err = quad(lambda x: (x ** k) * np.exp(x-1), 0, 1)\n",
    "    return ans\n"
   ]
  },
  {
   "cell_type": "code",
   "execution_count": 8,
   "metadata": {
    "colab": {},
    "colab_type": "code",
    "id": "iK2y_ZBNHl87"
   },
   "outputs": [
    {
     "name": "stdout",
     "output_type": "stream",
     "text": [
      "39 39 39\n"
     ]
    }
   ],
   "source": [
    "# add your code here\n",
    "Iexact = [func_int(k) for k in range(1,nmax+1)]\n",
    "Iexact = np.array(Iexact)\n",
    "print(len(Iexact), len(Ib), len(If))"
   ]
  },
  {
   "cell_type": "markdown",
   "metadata": {
    "colab_type": "text",
    "id": "OGS8w4kwHl9H"
   },
   "source": [
    "Note: In the following error calculations, use the values generated by the function <code>func_int</code> to be the true values.     "
   ]
  },
  {
   "cell_type": "markdown",
   "metadata": {
    "colab_type": "text",
    "id": "t0DAhOBKHl9I"
   },
   "source": [
    "#### Absolute error"
   ]
  },
  {
   "cell_type": "markdown",
   "metadata": {
    "colab_type": "text",
    "id": "TZajKdiLHl9M"
   },
   "source": [
    "Calculate the absolute errors associated with the forward recurrence relation and store them in the array \n",
    "     <code>abserrf</code> "
   ]
  },
  {
   "cell_type": "code",
   "execution_count": 9,
   "metadata": {
    "colab": {},
    "colab_type": "code",
    "id": "jQZEn1o3Hl9M"
   },
   "outputs": [
    {
     "data": {
      "text/plain": [
       "array([0.00000000e+00, 5.55111512e-17, 8.32667268e-17, 3.33066907e-16,\n",
       "       1.47104551e-15, 8.96505092e-15, 6.26304564e-14, 5.01140796e-13,\n",
       "       4.51014226e-12, 4.51014642e-11, 4.96116051e-10, 5.95339290e-09,\n",
       "       7.73941076e-08, 1.08351751e-06, 1.62527626e-05, 2.60044202e-04,\n",
       "       4.42075143e-03, 7.95735257e-02, 1.51189699e+00, 3.02379398e+01,\n",
       "       6.34996735e+02, 1.39699282e+04, 3.21308348e+05, 7.71140035e+06,\n",
       "       1.92785009e+08, 5.01241023e+09, 1.35335076e+11, 3.78938213e+12,\n",
       "       1.09892082e+14, 3.29676246e+15, 1.02199636e+17, 3.27038836e+18,\n",
       "       1.07922816e+20, 3.66937574e+21, 1.28428151e+23, 4.62341343e+24,\n",
       "       1.71066297e+26, 6.50051928e+27, 2.53520252e+29])"
      ]
     },
     "execution_count": 9,
     "metadata": {},
     "output_type": "execute_result"
    }
   ],
   "source": [
    "# add your code here\n",
    "abserrf = np.abs(Iexact - If)\n",
    "abserrf"
   ]
  },
  {
   "cell_type": "markdown",
   "metadata": {
    "colab_type": "text",
    "id": "9LF0GnafHl9b"
   },
   "source": [
    "Calculate the absolute errors associated with the backward recurrence relation and store them in the array \n",
    "     <code>abserrb</code>   "
   ]
  },
  {
   "cell_type": "code",
   "execution_count": 10,
   "metadata": {
    "colab": {},
    "colab_type": "code",
    "id": "bsGD0tIeHl9c"
   },
   "outputs": [
    {
     "data": {
      "text/plain": [
       "array([0.00000000e+00, 5.55111512e-17, 2.77555756e-17, 5.55111512e-17,\n",
       "       0.00000000e+00, 2.77555756e-17, 1.38777878e-17, 1.38777878e-17,\n",
       "       0.00000000e+00, 0.00000000e+00, 2.77555756e-17, 0.00000000e+00,\n",
       "       0.00000000e+00, 1.38777878e-17, 2.77555756e-17, 1.38777878e-17,\n",
       "       6.93889390e-18, 2.08166817e-17, 1.38777878e-17, 6.93889390e-18,\n",
       "       1.38777878e-17, 1.38777878e-17, 1.38777878e-17, 1.38777878e-17,\n",
       "       1.38777878e-17, 6.93889390e-18, 6.93889390e-18, 0.00000000e+00,\n",
       "       2.08166817e-17, 3.05311332e-16, 9.85322934e-15, 3.14800269e-13,\n",
       "       1.03889050e-11, 3.53222378e-10, 1.23627837e-08, 4.45060214e-07,\n",
       "       1.64672279e-05, 6.25754661e-04, 2.44044318e-02])"
      ]
     },
     "execution_count": 10,
     "metadata": {},
     "output_type": "execute_result"
    }
   ],
   "source": [
    "# add your code here\n",
    "abserrb =  np.abs(Iexact - Ib)\n",
    "abserrb"
   ]
  },
  {
   "cell_type": "markdown",
   "metadata": {
    "colab_type": "text",
    "id": "-3dzWcYnHl9f"
   },
   "source": [
    "#### Relative error"
   ]
  },
  {
   "cell_type": "markdown",
   "metadata": {
    "colab_type": "text",
    "id": "g81XYOmuHl9g"
   },
   "source": [
    "Calculate the relative errors associated with the forward recurrence relation and store them in the array \n",
    "     <code>relerrf</code> "
   ]
  },
  {
   "cell_type": "code",
   "execution_count": 12,
   "metadata": {
    "colab": {},
    "colab_type": "code",
    "id": "ndqIsrlrHl9j"
   },
   "outputs": [
    {
     "data": {
      "text/plain": [
       "array([0.00000000e+00, 2.10077643e-16, 4.01717840e-16, 1.94897453e-15,\n",
       "       1.01079900e-14, 7.07009804e-14, 5.57292255e-13, 4.96513452e-12,\n",
       "       4.92307540e-11, 5.37709104e-10, 6.41372664e-09, 8.29472345e-08,\n",
       "       1.15603829e-06, 1.72721207e-05, 2.75388679e-04, 4.66703615e-03,\n",
       "       8.37721750e-02, 1.58766472e+00, 3.16808400e+01, 6.63915177e+02,\n",
       "       1.45783778e+04, 3.34717747e+05, 8.02031524e+06, 2.00210041e+08,\n",
       "       5.19829300e+09, 1.40174245e+11, 3.92019629e+12, 1.13558978e+14,\n",
       "       3.40321388e+15, 1.05396318e+17, 3.36957705e+18, 1.11099616e+20,\n",
       "       3.77429618e+21, 1.31998213e+23, 4.74845731e+24, 1.75571009e+26,\n",
       "       6.66730369e+27, 2.59862037e+29, 1.03882874e+31])"
      ]
     },
     "execution_count": 12,
     "metadata": {},
     "output_type": "execute_result"
    }
   ],
   "source": [
    "# add your code here\n",
    "relerrf = abserrf / np.abs(Iexact)\n",
    "relerrf"
   ]
  },
  {
   "cell_type": "markdown",
   "metadata": {
    "colab_type": "text",
    "id": "0bNWZDZhHl9n"
   },
   "source": [
    "Calculate the absolute errors associated with the backward recurrence relation and store them in the array \n",
    "     <code>relerrb</code>   "
   ]
  },
  {
   "cell_type": "code",
   "execution_count": 13,
   "metadata": {
    "colab": {},
    "colab_type": "code",
    "id": "kB_pL9j6Hl9n"
   },
   "outputs": [
    {
     "data": {
      "text/plain": [
       "array([0.00000000e+00, 2.10077643e-16, 1.33905947e-16, 3.24829089e-16,\n",
       "       0.00000000e+00, 2.18888484e-16, 1.23485986e-16, 1.37496456e-16,\n",
       "       0.00000000e+00, 0.00000000e+00, 3.58820632e-16, 0.00000000e+00,\n",
       "       0.00000000e+00, 2.21222845e-16, 4.70293665e-16, 2.49065878e-16,\n",
       "       1.31490368e-16, 4.15338028e-16, 2.90800218e-16, 1.52352872e-16,\n",
       "       3.18608935e-16, 3.32510075e-16, 3.46409403e-16, 3.60307122e-16,\n",
       "       3.74203407e-16, 1.94049204e-16, 2.00996127e-16, 0.00000000e+00,\n",
       "       6.44665374e-16, 9.76069420e-15, 3.24866278e-13, 1.06942005e-11,\n",
       "       3.63322660e-10, 1.27064454e-08, 4.57097222e-07, 1.69008617e-05,\n",
       "       6.41809705e-04, 2.50149064e-02, 1.00000000e+00])"
      ]
     },
     "execution_count": 13,
     "metadata": {},
     "output_type": "execute_result"
    }
   ],
   "source": [
    "# add your code here\n",
    "relerrb = abserrb / np.abs(Iexact)\n",
    "relerrb"
   ]
  },
  {
   "cell_type": "code",
   "execution_count": null,
   "metadata": {
    "colab": {},
    "colab_type": "code",
    "id": "BQjdfFTTHl99"
   },
   "outputs": [],
   "source": []
  }
 ],
 "metadata": {
  "colab": {
   "name": "Copy of Integral_Errors.ipynb",
   "provenance": []
  },
  "kernelspec": {
   "display_name": "Python 3",
   "language": "python",
   "name": "python3"
  },
  "language_info": {
   "codemirror_mode": {
    "name": "ipython",
    "version": 3
   },
   "file_extension": ".py",
   "mimetype": "text/x-python",
   "name": "python",
   "nbconvert_exporter": "python",
   "pygments_lexer": "ipython3",
   "version": "3.8.0"
  }
 },
 "nbformat": 4,
 "nbformat_minor": 1
}
