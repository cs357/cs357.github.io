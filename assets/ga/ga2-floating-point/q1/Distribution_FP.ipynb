{
 "cells": [
  {
   "cell_type": "code",
   "execution_count": 1,
   "metadata": {},
   "outputs": [],
   "source": [
    "import numpy as np\n",
    "import matplotlib as mpl\n",
    "import matplotlib.pyplot as plt\n",
    "%matplotlib inline\n",
    "import seaborn as sns\n",
    "sns.set(font_scale=1.5)\n",
    "plt.style.use('seaborn-whitegrid')\n",
    "mpl.rcParams['figure.figsize'] = (10.0, 8.0)"
   ]
  },
  {
   "cell_type": "markdown",
   "metadata": {},
   "source": [
    "## Distribution of Floating Point Numbers"
   ]
  },
  {
   "cell_type": "markdown",
   "metadata": {},
   "source": [
    "Recall that any positive number $x$ in a normalized binary floating-point system is of the form:\n",
    "\n",
    "$x = 1.a_1a_2a_3\\dots a_n \\times 2^m,$\n",
    "\n",
    "where $n$ is the number of bits stored in the fractional part of the significand, $a_i \\in \\{0,1\\}$ are the bits themselves, and $m \\in [L,U]$ is the exponent."
   ]
  },
  {
   "cell_type": "markdown",
   "metadata": {},
   "source": [
    "Suppose we have a binary floating point system with $n = 3$, an exponent range of $[L,U] = [-4,4]$, and we want to generate a list of all the **positive normalized** numbers in this floating point system in ascending order.  We would like to store their representation in the standard **decimal** system.\n",
    "\n",
    "That is, our list should look like this:\n",
    "\n",
    "- $1.000 \\times 2^{-4} = .0625$\n",
    "- $1.001 \\times 2^{-4} = .0703125$\n",
    "- $1.010 \\times 2^{-4} = .078125$\n",
    "- $1.011 \\times 2^{-4} = .0859375$\n",
    "- $\\dots$\n",
    "- $1.111 \\times 2^{-4} = .1171875$\n",
    "- $1.000 \\times 2^{-3} = .125$\n",
    "- $1.001 \\times 2^{-3} = .140625$\n",
    "- $\\dots$\n",
    "- $1.110 \\times 2^4 = 28$\n",
    "- $1.111 \\times 2^4 = 30$"
   ]
  },
  {
   "cell_type": "markdown",
   "metadata": {},
   "source": [
    "In order to do so, let's recall that the binary representation means:\n",
    "\n",
    "$ 1.a_1a_2a_3 \\times 2^m = \\left(1 + \\frac{a_1}{2} + \\frac{a_2}{2^2} + \\frac{a_3}{2^3}\\right)\\times 2^m$"
   ]
  },
  {
   "cell_type": "markdown",
   "metadata": {},
   "source": [
    "We'll write a nested loop to generate all the numbers in the list in decimal format using this expression:"
   ]
  },
  {
   "cell_type": "code",
   "execution_count": 9,
   "metadata": {},
   "outputs": [],
   "source": [
    "base = 2\n",
    "exponent_min = -4\n",
    "exponent_max = 4\n",
    "\n",
    "fp_3 = []\n",
    "for m in range(exponent_min,exponent_max + 1):\n",
    "    for a_1 in range(0,base):\n",
    "        for a_2 in range(0,base):\n",
    "            for a_3 in range(0,base):\n",
    "                significand = 1 + a_1*base**-1 + a_2*base**-2 + a_3*base**-3\n",
    "                new_number = significand * base**m\n",
    "                fp_3.append(new_number)     "
   ]
  },
  {
   "cell_type": "code",
   "execution_count": 10,
   "metadata": {},
   "outputs": [
    {
     "name": "stdout",
     "output_type": "stream",
     "text": [
      "[0.0625, 0.0703125, 0.078125, 0.0859375]\n",
      "[28.0, 30.0]\n"
     ]
    }
   ],
   "source": [
    "print(fp_3[:4]) # first four number\n",
    "print(fp_3[-2:]) # last two numbers"
   ]
  },
  {
   "cell_type": "markdown",
   "metadata": {},
   "source": [
    "Ok, it seems to be working.  However, we used 4 loops: 1 for the exponent, and 1 for each bit in the fraction.  So if we want to do the same thing for a floating point system for $n = 23$, like IEEE single precision, we would need 24 loops!  That's way too much!"
   ]
  },
  {
   "cell_type": "markdown",
   "metadata": {},
   "source": [
    "There's a simpler way to express these floating point numbers.  Let's examine the first 4 numbers:\n",
    "- $1.000 \\times 2^{-4} = \\left(1 + \\frac{0}{2^1} + \\frac{0}{2^2} +  \\frac{0}{2^3}\\right) \\times 2^{-4} = \\left(1 + \\frac{0}{2^3}\\right)\\times 2^{-4}$\n",
    "- $1.001 \\times 2^{-4} = \\left(1 + \\frac{0}{2^1} + \\frac{0}{2^2} +  \\frac{1}{2^3}\\right) \\times 2^{-4} = \\left(1 + \\frac{1}{2^3}\\right)\\times 2^{-4}$\n",
    "- $1.010 \\times 2^{-4} = \\left(1 + \\frac{0}{2^1} + \\frac{1}{2^2} +  \\frac{0}{2^3}\\right) \\times 2^{-4} = \\left(1 + \\frac{1}{2^2}\\right)\\times 2^{-4} = \\left(1 + \\frac{2}{2^3}\\right) \\times 2^{-4}$\n",
    "- $1.011 \\times 2^{-4} = \\left(1 + \\frac{0}{2^1} + \\frac{1}{2^2} +  \\frac{1}{2^3}\\right) \\times 2^{-4} = \\left(1 + \\frac{1}{2^2} + \\frac{1}{2^3}\\right)\\times 2^{-4} = \\left(1 + \\frac{2}{2^3} + \\frac{1}{2^3}\\right)\\times 2^{-4} = \\left(1 + \\frac{3}{2^3}\\right) \\times 2^{-4}$\n",
    "\n",
    "Are you seeing a pattern?  Use this to generate all the positive floating point numbers in a binary system for any given $n$ and exponent range $[L,U]$.  You should only need two loops.\n"
   ]
  },
  {
   "cell_type": "markdown",
   "metadata": {},
   "source": [
    "**Check your answers!** \n",
    "#### Complete the function `fp_numbers` that returns a 1d numpy array `fp` which stores all the floating numbers in ascending order."
   ]
  },
  {
   "cell_type": "code",
   "execution_count": 3,
   "metadata": {},
   "outputs": [],
   "source": [
    "#grade_clear\n",
    "#clear\n",
    "\n",
    "def fp_numbers(n,L,U):\n",
    "    \n",
    "    fp = ...\n",
    "    #clear\n",
    "    \n",
    "    p = n+1\n",
    "    fp = []\n",
    "    for m in range(L,U + 1):\n",
    "        for sigs in range(2**n):\n",
    "            fp.append( (1+sigs/(2**n))*2**(m) )\n",
    "    fp = np.array(fp)\n",
    "    \n",
    "    #clear\n",
    "    return fp"
   ]
  },
  {
   "cell_type": "markdown",
   "metadata": {},
   "source": [
    "**Check your answers!** \n",
    "#### Use your function to define the variable `fp_ref` for a floating point system with the values for $n$, $L$ and $U$ provided in the PrairieLearn question (main page):"
   ]
  },
  {
   "cell_type": "code",
   "execution_count": 12,
   "metadata": {},
   "outputs": [
    {
     "data": {
      "text/plain": [
       "array([3.1250000e-02, 3.3203125e-02, 3.5156250e-02, 3.7109375e-02,\n",
       "       3.9062500e-02, 4.1015625e-02, 4.2968750e-02, 4.4921875e-02,\n",
       "       4.6875000e-02, 4.8828125e-02, 5.0781250e-02, 5.2734375e-02,\n",
       "       5.4687500e-02, 5.6640625e-02, 5.8593750e-02, 6.0546875e-02,\n",
       "       6.2500000e-02, 6.6406250e-02, 7.0312500e-02, 7.4218750e-02,\n",
       "       7.8125000e-02, 8.2031250e-02, 8.5937500e-02, 8.9843750e-02,\n",
       "       9.3750000e-02, 9.7656250e-02, 1.0156250e-01, 1.0546875e-01,\n",
       "       1.0937500e-01, 1.1328125e-01, 1.1718750e-01, 1.2109375e-01,\n",
       "       1.2500000e-01, 1.3281250e-01, 1.4062500e-01, 1.4843750e-01,\n",
       "       1.5625000e-01, 1.6406250e-01, 1.7187500e-01, 1.7968750e-01,\n",
       "       1.8750000e-01, 1.9531250e-01, 2.0312500e-01, 2.1093750e-01,\n",
       "       2.1875000e-01, 2.2656250e-01, 2.3437500e-01, 2.4218750e-01,\n",
       "       2.5000000e-01, 2.6562500e-01, 2.8125000e-01, 2.9687500e-01,\n",
       "       3.1250000e-01, 3.2812500e-01, 3.4375000e-01, 3.5937500e-01,\n",
       "       3.7500000e-01, 3.9062500e-01, 4.0625000e-01, 4.2187500e-01,\n",
       "       4.3750000e-01, 4.5312500e-01, 4.6875000e-01, 4.8437500e-01,\n",
       "       5.0000000e-01, 5.3125000e-01, 5.6250000e-01, 5.9375000e-01,\n",
       "       6.2500000e-01, 6.5625000e-01, 6.8750000e-01, 7.1875000e-01,\n",
       "       7.5000000e-01, 7.8125000e-01, 8.1250000e-01, 8.4375000e-01,\n",
       "       8.7500000e-01, 9.0625000e-01, 9.3750000e-01, 9.6875000e-01,\n",
       "       1.0000000e+00, 1.0625000e+00, 1.1250000e+00, 1.1875000e+00,\n",
       "       1.2500000e+00, 1.3125000e+00, 1.3750000e+00, 1.4375000e+00,\n",
       "       1.5000000e+00, 1.5625000e+00, 1.6250000e+00, 1.6875000e+00,\n",
       "       1.7500000e+00, 1.8125000e+00, 1.8750000e+00, 1.9375000e+00,\n",
       "       2.0000000e+00, 2.1250000e+00, 2.2500000e+00, 2.3750000e+00,\n",
       "       2.5000000e+00, 2.6250000e+00, 2.7500000e+00, 2.8750000e+00,\n",
       "       3.0000000e+00, 3.1250000e+00, 3.2500000e+00, 3.3750000e+00,\n",
       "       3.5000000e+00, 3.6250000e+00, 3.7500000e+00, 3.8750000e+00,\n",
       "       4.0000000e+00, 4.2500000e+00, 4.5000000e+00, 4.7500000e+00,\n",
       "       5.0000000e+00, 5.2500000e+00, 5.5000000e+00, 5.7500000e+00,\n",
       "       6.0000000e+00, 6.2500000e+00, 6.5000000e+00, 6.7500000e+00,\n",
       "       7.0000000e+00, 7.2500000e+00, 7.5000000e+00, 7.7500000e+00,\n",
       "       8.0000000e+00, 8.5000000e+00, 9.0000000e+00, 9.5000000e+00,\n",
       "       1.0000000e+01, 1.0500000e+01, 1.1000000e+01, 1.1500000e+01,\n",
       "       1.2000000e+01, 1.2500000e+01, 1.3000000e+01, 1.3500000e+01,\n",
       "       1.4000000e+01, 1.4500000e+01, 1.5000000e+01, 1.5500000e+01,\n",
       "       1.6000000e+01, 1.7000000e+01, 1.8000000e+01, 1.9000000e+01,\n",
       "       2.0000000e+01, 2.1000000e+01, 2.2000000e+01, 2.3000000e+01,\n",
       "       2.4000000e+01, 2.5000000e+01, 2.6000000e+01, 2.7000000e+01,\n",
       "       2.8000000e+01, 2.9000000e+01, 3.0000000e+01, 3.1000000e+01,\n",
       "       3.2000000e+01, 3.4000000e+01, 3.6000000e+01, 3.8000000e+01,\n",
       "       4.0000000e+01, 4.2000000e+01, 4.4000000e+01, 4.6000000e+01,\n",
       "       4.8000000e+01, 5.0000000e+01, 5.2000000e+01, 5.4000000e+01,\n",
       "       5.6000000e+01, 5.8000000e+01, 6.0000000e+01, 6.2000000e+01])"
      ]
     },
     "execution_count": 12,
     "metadata": {},
     "output_type": "execute_result"
    }
   ],
   "source": [
    "#grade_clear\n",
    "#clear\n",
    "fp_ref = ...\n",
    "#clear\n",
    "n = 4\n",
    "L = -5\n",
    "U = 5\n",
    "fp_ref = fp_numbers(n,L,U)\n",
    "fp_ref\n",
    "#clear"
   ]
  },
  {
   "cell_type": "markdown",
   "metadata": {},
   "source": [
    "## Display a plot of the density of the floating point numbers in this system"
   ]
  },
  {
   "cell_type": "markdown",
   "metadata": {},
   "source": [
    "Use the plotting function below to see the distribution of the floating point numbers you obtained above:"
   ]
  },
  {
   "cell_type": "code",
   "execution_count": 5,
   "metadata": {},
   "outputs": [
    {
     "data": {
      "text/plain": [
       "Text(0.5, 1.0, 'Distribution of all Floating Point Numbers')"
      ]
     },
     "execution_count": 5,
     "metadata": {},
     "output_type": "execute_result"
    },
    {
     "data": {
      "image/png": "[encoded data removed]",
      "text/plain": [
       "<Figure size 864x144 with 1 Axes>"
      ]
     },
     "metadata": {},
     "output_type": "display_data"
    }
   ],
   "source": [
    "plt.figure(figsize=(12,2))\n",
    "plt.plot(fp_ref, np.ones_like(fp_ref), \"o\");\n",
    "plt.title('Distribution of all Floating Point Numbers')"
   ]
  },
  {
   "cell_type": "markdown",
   "metadata": {},
   "source": [
    "## Checking important features of Floating Point numbers"
   ]
  },
  {
   "cell_type": "markdown",
   "metadata": {},
   "source": [
    "#### a) What is the smallest (positive) normalized floating point number for this system?\n",
    "\n",
    "We can answer this question by getting the first entry from the numpy array, since the array was sorted in ascending order:"
   ]
  },
  {
   "cell_type": "code",
   "execution_count": 6,
   "metadata": {},
   "outputs": [
    {
     "name": "stdout",
     "output_type": "stream",
     "text": [
      "0.03125\n"
     ]
    }
   ],
   "source": [
    "UFL = fp_ref[0]\n",
    "print(UFL)"
   ]
  },
  {
   "cell_type": "markdown",
   "metadata": {},
   "source": [
    "**Try this!**\n",
    "\n",
    "You can also get the same result using the expression derived in lecture.  Evaluate UFL using $2^L$"
   ]
  },
  {
   "cell_type": "code",
   "execution_count": 13,
   "metadata": {},
   "outputs": [
    {
     "name": "stdout",
     "output_type": "stream",
     "text": [
      "Underflow Level is: 0.03125\n"
     ]
    }
   ],
   "source": [
    "UFL = ...\n",
    "#clear\n",
    "UFL = 2**L\n",
    "print('Underflow Level is:', UFL)"
   ]
  },
  {
   "cell_type": "markdown",
   "metadata": {},
   "source": [
    "**Check your answers!**\n",
    "\n",
    "#### b) What is the largest (positive) normalized floating point number for this system? Define the variable OFL."
   ]
  },
  {
   "cell_type": "code",
   "execution_count": 8,
   "metadata": {},
   "outputs": [
    {
     "name": "stdout",
     "output_type": "stream",
     "text": [
      "62.0\n",
      "62.0\n"
     ]
    }
   ],
   "source": [
    "#grade_clear\n",
    "#clear\n",
    "\n",
    "OFL = ...\n",
    "\n",
    "#clear\n",
    "\n",
    "p = n+1\n",
    "\n",
    "OFL = fp_ref[-1]\n",
    "print(OFL)\n",
    "\n",
    "# or\n",
    "\n",
    "OFL = 2**(U+1)*(1-2**-p)\n",
    "print(OFL)"
   ]
  },
  {
   "cell_type": "markdown",
   "metadata": {},
   "source": [
    "**Check your answers!**\n",
    "\n",
    "#### c) What is machine epsilon for this floating point system?\n",
    "\n",
    "We can use `np.argwhere` to get the index of the entry in `fp_ref` that contains the number `1.0`. \n",
    "\n",
    "Recall that machine epsilon is the gap between 1 and the **next larger** floating point number. How can you use the method above to obtain machine epsilon?"
   ]
  },
  {
   "cell_type": "code",
   "execution_count": 15,
   "metadata": {},
   "outputs": [
    {
     "name": "stdout",
     "output_type": "stream",
     "text": [
      "Machine Epsilon is: [[0.0625]]\n"
     ]
    }
   ],
   "source": [
    "index = np.argwhere(fp_ref==1.0)\n",
    "eps_machine = ...\n",
    "#clear\n",
    "eps_machine = fp_ref[index+1] - fp_ref[index]\n",
    "#clear\n",
    "print('Machine Epsilon is:', eps_machine)"
   ]
  },
  {
   "cell_type": "markdown",
   "metadata": {},
   "source": [
    "Using the definition above, machine epsilon is also given by $\\epsilon = 2^{-n}$. Check your results, and see if it makes sense."
   ]
  },
  {
   "cell_type": "code",
   "execution_count": 16,
   "metadata": {},
   "outputs": [
    {
     "name": "stdout",
     "output_type": "stream",
     "text": [
      "Machine Epsilon is: 0.0625\n"
     ]
    }
   ],
   "source": [
    "#clear\n",
    "print('Machine Epsilon is:', 2**-n)"
   ]
  },
  {
   "cell_type": "markdown",
   "metadata": {},
   "source": [
    "#### d) What is the range of integer numbers that you can represent **exactly** without skipping any integer?  \n",
    "\n",
    "Print your array of floating point numbers `fp_ref`. Note that there is a range of integer numbers that are represented exacly ($1, 2, 3, ...$) and at some point you start having gaps between integer numbers ($50, 52, 54, ...$). We say that **all** integers within the range $(1,maxint)$ can be represented exactly. What is $maxint$ for your floating point system? \n"
   ]
  },
  {
   "cell_type": "code",
   "execution_count": 17,
   "metadata": {},
   "outputs": [
    {
     "name": "stdout",
     "output_type": "stream",
     "text": [
      "32\n"
     ]
    }
   ],
   "source": [
    "#grade_clear\n",
    "#clear\n",
    "maxint = ...\n",
    "#clear\n",
    "maxint = 2**p\n",
    "print(maxint)"
   ]
  },
  {
   "cell_type": "code",
   "execution_count": null,
   "metadata": {},
   "outputs": [],
   "source": []
  }
 ],
 "metadata": {
  "kernelspec": {
   "display_name": "Python 3",
   "language": "python",
   "name": "python3"
  },
  "language_info": {
   "codemirror_mode": {
    "name": "ipython",
    "version": 3
   },
   "file_extension": ".py",
   "mimetype": "text/x-python",
   "name": "python",
   "nbconvert_exporter": "python",
   "pygments_lexer": "ipython3",
   "version": "3.8.0"
  }
 },
 "nbformat": 4,
 "nbformat_minor": 2
}
