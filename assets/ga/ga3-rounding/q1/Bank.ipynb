{
 "cells": [
  {
   "cell_type": "code",
   "execution_count": 1,
   "metadata": {},
   "outputs": [],
   "source": [
    "import numpy as np"
   ]
  },
  {
   "cell_type": "markdown",
   "metadata": {},
   "source": [
    "<div class=\"alert alert-info\">\n",
    "    \n",
    "# Penny-shaving Scheme\n",
    "    \n",
    "Rounding errors come up in many places. One example is with currency. We express currency in the United States as dollars and cents. What happens when a transaction needs to take place that yields an amount with more than two decimal places? Should we use typical rounding rules and round it to the nearest cent? Or, should we truncate, or drop, all the remaining digits until we only have two decimal places?\n",
    "    \n",
    "\n",
    "In a penny-shaving scheme, we could use truncation to round and keep the truncated amount. For example, if the transaction had a value `$631.954`, we would truncate it to `$631.95` and keep for ourselves the `$0.004`. Such a small amount would be impercetible as a single transaction, but if we could process millions of transactions in such a way, it would quickly add up.\n",
    "\n",
    "In the early 1980s, a new stock index at the Vancouver Stock Exchange tracked a mysterious loss in value. After an investigation, it was revealed that the loss in value of the index was due to a rounding error where the calculations were done with truncation instead of rounding transactions to the nearest two decimal places. This mistake resulted in almost a 50% loss in value over 22 months. \n",
    "\n",
    "</div>"
   ]
  },
  {
   "cell_type": "markdown",
   "metadata": {},
   "source": [
    "### 1) Comparing banks with different rounding rules\n",
    "\n",
    "To demonstrate the effects of different methods of rounding, we will be tasked with choosing a bank. \n",
    "\n",
    "We are currently using `BANK1` as our primary bank.\n",
    "Recently, we have wondered whether a different bank would be better for us.\n",
    "The banks in our area all differ in how they handle transactions via rounding.\n",
    "\n",
    "<div class=\"alert alert-warning\">\n",
    "    \n",
    "`BANK1` rounds each transaction to two decimal digits using `np.round()` before adding it to our balance. After adding each transaction, the balance is also rounded in the same way transactions are rounded.\n",
    "\n",
    "`BANK2` decided that truncating each transaction to two decimal digits using `np.trunc()` before adding it to our balance would be easier for them. They also truncate the balance to two decimal digits after each transaction is added.\n",
    "\n",
    "`BANK3` handles transactions by adding them to our balance as is, but at the end of the month, rounds our balance to two decimal digits using `np.round()`.\n",
    "    \n",
    "</div>\n",
    "\n",
    "We want to investigate how different the result of these banks would be."
   ]
  },
  {
   "cell_type": "markdown",
   "metadata": {},
   "source": [
    "**Given a starting balance and list of transactions for a given month, what is the ending balance using your bank?**\n",
    "\n",
    "In the question page, we provide the values for the variables `starting_balance` and `transactions`. \n",
    "\n",
    "- `starting_balance`: gives your bank balance on the first day of a given month\n",
    "- `transactions`: 1d numpy array with all your transactions on that given month. Withdrawals have negative values and deposits have positive values.\n",
    "\n",
    "Copy/paste here the provided values for both variables:"
   ]
  },
  {
   "cell_type": "code",
   "execution_count": 2,
   "metadata": {},
   "outputs": [],
   "source": [
    "#clear\n",
    "starting_balance = 10000.00\n",
    "transactions = np.array([-2.44, -2.72, -24.86, -13.60, -26.90, -14.48, -29.43, -2.26, -11.93, -19.46, -10.15, -3.84, -0.23, -7.70, 12.75, -19.51, 27.32, -23.87, 13.14, -10.26, -9.84, -0.08, -19.79, -3.87, -19.45, -15.14, -13.62, 12.93, -9.07, -18.26, -7.55, -18.39, -14.12, -21.90, -10.89, -0.44, -16.49, -18.85, -21.94, -5.66, -13.11, -26.15, -10.10, -24.79, -18.40, -27.23, -2.22, -17.50, -17.39, -2.34, -14.78, -15.97, -27.09, -9.18, -13.12, -15.02, -17.78, -25.97, -3.03, 24.18, -9.62, -10.48, -4.05, -2.45, -14.79, -1.75, -1.73, -21.70, -0.19, -7.29, -28.40, -17.32, -20.45, -14.83, 15.93, 7.33, -6.52, 17.16, 29.97, -27.52, -1.71, 3.48, -3.91, -17.80, -6.59, -4.82, -9.62, -23.92, -4.43, -8.94, -5.10, -0.25, -20.22, -27.93, -27.02, -3.95, -28.80, -18.53, -4.18, -11.58])"
   ]
  },
  {
   "cell_type": "markdown",
   "metadata": {},
   "source": [
    "#### BANK1:\n",
    "You have an account with `BANK1`. Complete the function below to determine your final balance at the end of the month. Use the function `bank1_computation` to compute the variable `bank1_balance`.\n"
   ]
  },
  {
   "cell_type": "code",
   "execution_count": 3,
   "metadata": {},
   "outputs": [
    {
     "name": "stdout",
     "output_type": "stream",
     "text": [
      "8975.64\n"
     ]
    }
   ],
   "source": [
    "#grade_clear\n",
    "#clear\n",
    "def bank1_computation(starting_balance, transactions):\n",
    "    # starting_balance - scalar holding bank account balance at the beginning of the month\n",
    "    # transactions - 1D numpy array of all transactions in a month\n",
    "    # Complete the function here\n",
    "    \n",
    "    pass\n",
    "\n",
    "    #clear\n",
    "    ending_balance = starting_balance\n",
    "    for transaction in transactions:\n",
    "        ending_balance += np.round(transaction,2)\n",
    "        ending_balance = np.round(ending_balance,2)\n",
    "    return ending_balance\n",
    "    #clear\n",
    "\n",
    "bank1_balance = bank1_computation(starting_balance, transactions)\n",
    "print(bank1_balance)"
   ]
  },
  {
   "cell_type": "markdown",
   "metadata": {},
   "source": [
    "#### BANK2:\n",
    "You have an account with `BANK2`. Complete the function below to determine your final balance at the end of the month. Use the function `bank2_computation` to compute the variable `bank2_balance`."
   ]
  },
  {
   "cell_type": "code",
   "execution_count": 4,
   "metadata": {},
   "outputs": [
    {
     "name": "stdout",
     "output_type": "stream",
     "text": [
      "8975.51\n"
     ]
    }
   ],
   "source": [
    "#grade_clear\n",
    "#clear\n",
    "def bank2_computation(starting_balance, transactions):\n",
    "    # starting_balance - scalar holding bank account balance at the beginning of the month\n",
    "    # transactions - 1D numpy array of all transactions in a month\n",
    "    # Complete the function here\n",
    "    \n",
    "    pass\n",
    "    \n",
    "    #clear\n",
    "    ending_balance = starting_balance\n",
    "    for transaction in transactions:\n",
    "        ending_balance += np.trunc(transaction*100.) / 100.\n",
    "        ending_balance = np.trunc(ending_balance*100.) / 100.\n",
    "    return ending_balance\n",
    "    #clear\n",
    "\n",
    "bank2_balance = bank2_computation(starting_balance, transactions)\n",
    "print(bank2_balance)\n"
   ]
  },
  {
   "cell_type": "markdown",
   "metadata": {},
   "source": [
    "#### BANK3:\n",
    "You have an account with `BANK3`. Complete the function below to determine your final balance at the end of the month. Use the function `bank3_computation` to compute the variable `bank3_balance`.\n"
   ]
  },
  {
   "cell_type": "code",
   "execution_count": 5,
   "metadata": {},
   "outputs": [
    {
     "name": "stdout",
     "output_type": "stream",
     "text": [
      "8975.64\n"
     ]
    }
   ],
   "source": [
    "#grade_clear\n",
    "#clear\n",
    "def bank3_computation(starting_balance, transactions):\n",
    "    # starting_balance - scalar holding bank account balance at the beginning of the month\n",
    "    # transactions - 1D numpy array of all transactions in a month\n",
    "    # Complete the function here\n",
    "    \n",
    "    pass\n",
    "    \n",
    "    #clear\n",
    "    ending_balance = starting_balance + np.sum(transactions)\n",
    "    ending_balance = np.round(ending_balance,2)  \n",
    "    return ending_balance\n",
    "    #clear\n",
    "\n",
    "bank3_balance = bank3_computation(starting_balance, transactions)\n",
    "print(bank3_balance)\n"
   ]
  },
  {
   "cell_type": "markdown",
   "metadata": {},
   "source": [
    "### 2) Select the bank:"
   ]
  },
  {
   "cell_type": "markdown",
   "metadata": {},
   "source": [
    "Write the function `select_bank` that return a tuple `(your_bank_choice, your_final_balance)` where `your_bank_choice` is the integer that describes which bank gives the larger final balance, stored in `your_final_balance`.\n",
    "\n",
    "`your_bank_choice = 1`: BANK1\n",
    "\n",
    "`your_bank_choice = 2`: BANK2\n",
    "\n",
    "`your_bank_choice = 3`: BANK3\n",
    "\n",
    "If different banks give the same larger final balance, you can return the integer value corresponding to any of them."
   ]
  },
  {
   "cell_type": "code",
   "execution_count": 6,
   "metadata": {},
   "outputs": [],
   "source": [
    "#grade_clear\n",
    "#clear\n",
    "def select_bank(b, t):\n",
    "    # b: this is the starting balance\n",
    "    # t: this is the 1d numpy array with the monthly transactions\n",
    "    \n",
    "    # Complete your function here\n",
    "    \n",
    "    pass\n",
    "    \n",
    "    #clear\n",
    "    bank1_balance = bank1_computation(b, t)\n",
    "    bank2_balance = bank2_computation(b, t)\n",
    "    bank3_balance = bank3_computation(b, t)       \n",
    "    balances = np.array([bank1_balance,bank2_balance,bank3_balance])\n",
    "    \n",
    "    your_bank_choice = np.argmax(balances)\n",
    "    \n",
    "    your_final_balance = balances[your_bank_choice]\n",
    "    \n",
    "    return (your_bank_choice+1, your_final_balance)"
   ]
  },
  {
   "cell_type": "markdown",
   "metadata": {},
   "source": [
    "You can check your function using the given variable `starting_balance` and `transactions`. However, do not hard-code your function. We will check it using different values for `b` and `t`."
   ]
  },
  {
   "cell_type": "code",
   "execution_count": 7,
   "metadata": {},
   "outputs": [
    {
     "data": {
      "text/plain": [
       "(1, 8975.64)"
      ]
     },
     "execution_count": 7,
     "metadata": {},
     "output_type": "execute_result"
    }
   ],
   "source": [
    "select_bank(starting_balance, transactions)"
   ]
  },
  {
   "cell_type": "code",
   "execution_count": null,
   "metadata": {},
   "outputs": [],
   "source": []
  }
 ],
 "metadata": {
  "kernelspec": {
   "display_name": "Python 3",
   "language": "python",
   "name": "python3"
  },
  "language_info": {
   "codemirror_mode": {
    "name": "ipython",
    "version": 3
   },
   "file_extension": ".py",
   "mimetype": "text/x-python",
   "name": "python",
   "nbconvert_exporter": "python",
   "pygments_lexer": "ipython3",
   "version": "3.8.0"
  }
 },
 "nbformat": 4,
 "nbformat_minor": 2
}
