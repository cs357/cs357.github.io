{
 "cells": [
  {
   "cell_type": "code",
   "execution_count": 1,
   "metadata": {},
   "outputs": [],
   "source": [
    "import numpy as np"
   ]
  },
  {
   "cell_type": "markdown",
   "metadata": {},
   "source": [
    "## Lists and numpy arrays\n",
    "\n",
    "Let us start with the list below:"
   ]
  },
  {
   "cell_type": "code",
   "execution_count": 2,
   "metadata": {},
   "outputs": [],
   "source": [
    "list1 = [1,4,5,10]"
   ]
  },
  {
   "cell_type": "markdown",
   "metadata": {},
   "source": [
    "We want to make each entry of the above list multiplied by the number `scale_factor`. We know that multiplying the list will not the the result we want:"
   ]
  },
  {
   "cell_type": "code",
   "execution_count": 3,
   "metadata": {},
   "outputs": [
    {
     "data": {
      "text/plain": [
       "[1, 4, 5, 10, 1, 4, 5, 10, 1, 4, 5, 10]"
      ]
     },
     "execution_count": 3,
     "metadata": {},
     "output_type": "execute_result"
    }
   ],
   "source": [
    "scale_factor = 3\n",
    "scale_factor*list1"
   ]
  },
  {
   "cell_type": "markdown",
   "metadata": {},
   "source": [
    "How can you obtain the desirable result?"
   ]
  },
  {
   "cell_type": "markdown",
   "metadata": {},
   "source": [
    "#### Write the function `scale`"
   ]
  },
  {
   "cell_type": "markdown",
   "metadata": {},
   "source": [
    "The function should have the following signature:"
   ]
  },
  {
   "cell_type": "markdown",
   "metadata": {
    "collapsed": true
   },
   "source": [
    "```python\n",
    "def scale(L, scale_factor):\n",
    "    '''\n",
    "    returns a list similar to L, except that each element has been\n",
    "    multiplied by scale_factor.\n",
    "    '''  \n",
    "```"
   ]
  },
  {
   "cell_type": "code",
   "execution_count": 4,
   "metadata": {},
   "outputs": [],
   "source": [
    "#grade_clear\n",
    "def scale(L, scale_factor):\n",
    "    '''\n",
    "    returns a list similar to L, except that each element has been\n",
    "    multiplied by scale_factor.\n",
    "    '''\n",
    "    LC = [scale_factor * x for x in L]\n",
    "    return LC    "
   ]
  },
  {
   "cell_type": "markdown",
   "metadata": {},
   "source": [
    "Now you can use the function `scale` with the given variable `list1`"
   ]
  },
  {
   "cell_type": "code",
   "execution_count": 5,
   "metadata": {},
   "outputs": [
    {
     "name": "stdout",
     "output_type": "stream",
     "text": [
      "[4, 16, 20, 40]\n"
     ]
    }
   ],
   "source": [
    "new_list = scale(list1,4)\n",
    "print(new_list)"
   ]
  },
  {
   "cell_type": "markdown",
   "metadata": {},
   "source": [
    "#### Write the function `add_scale_2`:"
   ]
  },
  {
   "cell_type": "markdown",
   "metadata": {},
   "source": [
    "The function should have the following signature:"
   ]
  },
  {
   "cell_type": "markdown",
   "metadata": {
    "collapsed": true
   },
   "source": [
    "```python\n",
    "def add_scale_2(L, M, L_scale, M_scale):\n",
    "    '''\n",
    "    takes two lists L and M and two floating-point numbers L_scale and M_scale. \n",
    "    These stand for scale for L and scale for M, respectively.\n",
    "    Returns a single list that is an element-by-element sum of the two inputs, \n",
    "    each scaled by its respective floating-point value. \n",
    "    If the inputs are different lengths, your add_scale_2 should return a list that is\n",
    "    as long as the shorter of the two. Again, just drop any extra elements.\n",
    "    '''\n",
    "```"
   ]
  },
  {
   "cell_type": "code",
   "execution_count": 6,
   "metadata": {},
   "outputs": [],
   "source": [
    "#grade_clear\n",
    "def add_scale_2(L, M, scale1, scale2):\n",
    "    '''\n",
    "    takes two lists L and M and two floating-point numbers L_scale and M_scale. \n",
    "    These stand for scale for L and scale for M, respectively.\n",
    "    Returns a single list that is an element-by-element sum of the two inputs, \n",
    "    each scaled by its respective floating-point value. \n",
    "    If the inputs are different lengths, your add_scale_2 should return a list that is\n",
    "    as long as the shorter of the two. Again, just drop any extra elements.\n",
    "     '''\n",
    "    N = min(len(L),len(M))\n",
    "    list_add = []\n",
    "    for i in range(N):\n",
    "        list_add.append(scale1*L[i]+scale2*M[i])\n",
    "    return(list_add)"
   ]
  },
  {
   "cell_type": "markdown",
   "metadata": {},
   "source": [
    "Check the result of:"
   ]
  },
  {
   "cell_type": "code",
   "execution_count": 7,
   "metadata": {},
   "outputs": [
    {
     "data": {
      "text/plain": [
       "[11, 9, 22, 16]"
      ]
     },
     "execution_count": 7,
     "metadata": {},
     "output_type": "execute_result"
    }
   ],
   "source": [
    "L1 = [1,3,5,2]\n",
    "L2 = [3,1,4,4]\n",
    "add_scale_2(L1,L2,2,3)"
   ]
  },
  {
   "cell_type": "markdown",
   "metadata": {},
   "source": [
    "#### How can you obtain the same result using numpy arrays?\n",
    "Define two numpy arrays and perform the same operation defined by the function `add_scale_2`"
   ]
  },
  {
   "cell_type": "code",
   "execution_count": 8,
   "metadata": {},
   "outputs": [
    {
     "data": {
      "text/plain": [
       "array([11,  9, 22, 16])"
      ]
     },
     "execution_count": 8,
     "metadata": {},
     "output_type": "execute_result"
    }
   ],
   "source": [
    "#clear\n",
    "M1 = np.array(L1)\n",
    "M2 = np.array(L2)\n",
    "2*M1+3*M2"
   ]
  }
 ],
 "metadata": {
  "kernelspec": {
   "display_name": "Python 3",
   "language": "python",
   "name": "python3"
  },
  "language_info": {
   "codemirror_mode": {
    "name": "ipython",
    "version": 3
   },
   "file_extension": ".py",
   "mimetype": "text/x-python",
   "name": "python",
   "nbconvert_exporter": "python",
   "pygments_lexer": "ipython3",
   "version": "3.8.0"
  }
 },
 "nbformat": 4,
 "nbformat_minor": 2
}
